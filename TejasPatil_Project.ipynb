{
 "cells": [
  {
   "cell_type": "markdown",
   "metadata": {},
   "source": [
    "# Data Analysis Project - Bay Area Bike Share"
   ]
  },
  {
   "cell_type": "code",
   "execution_count": 1,
   "metadata": {
    "collapsed": true
   },
   "outputs": [],
   "source": [
    "import pandas as pd\n"
   ]
  },
  {
   "cell_type": "code",
   "execution_count": 2,
   "metadata": {
    "collapsed": false
   },
   "outputs": [],
   "source": [
    "import collections"
   ]
  },
  {
   "cell_type": "code",
   "execution_count": 3,
   "metadata": {
    "collapsed": false
   },
   "outputs": [
    {
     "name": "stdout",
     "output_type": "stream",
     "text": [
      "Populating the interactive namespace from numpy and matplotlib\n"
     ]
    }
   ],
   "source": [
    "import plotly.plotly as py\n",
    "import plotly.graph_objs as go\n",
    "import matplotlib.pyplot as plt;plt.rcdefaults()\n",
    "\n",
    "%pylab inline"
   ]
  },
  {
   "cell_type": "code",
   "execution_count": 4,
   "metadata": {
    "collapsed": true
   },
   "outputs": [],
   "source": [
    "from datetime import date,datetime\n",
    "import calendar\n",
    "import io"
   ]
  },
  {
   "cell_type": "code",
   "execution_count": 5,
   "metadata": {
    "collapsed": false
   },
   "outputs": [
    {
     "name": "stderr",
     "output_type": "stream",
     "text": [
      "C:\\Users\\Tjpat\\AppData\\Local\\Enthought\\Canopy\\User\\lib\\site-packages\\sklearn\\cross_validation.py:44: DeprecationWarning:\n",
      "\n",
      "This module was deprecated in version 0.18 in favor of the model_selection module into which all the refactored classes and functions are moved. Also note that the interface of the new CV iterators are different from that of this module. This module will be removed in 0.20.\n",
      "\n"
     ]
    }
   ],
   "source": [
    "from random import randint\n",
    "from subprocess import check_output\n",
    "from sklearn.preprocessing import scale\n",
    "from sklearn import linear_model\n",
    "from sklearn.cross_validation import train_test_split\n",
    "from sklearn.metrics import classification_report\n",
    "from sklearn import linear_model"
   ]
  },
  {
   "cell_type": "code",
   "execution_count": 6,
   "metadata": {
    "collapsed": false
   },
   "outputs": [
    {
     "data": {
      "text/html": [
       "<div>\n",
       "<table border=\"1\" class=\"dataframe\">\n",
       "  <thead>\n",
       "    <tr style=\"text-align: right;\">\n",
       "      <th></th>\n",
       "      <th>id</th>\n",
       "      <th>name</th>\n",
       "      <th>lat</th>\n",
       "      <th>long</th>\n",
       "      <th>dock_count</th>\n",
       "      <th>city</th>\n",
       "      <th>installation_date</th>\n",
       "    </tr>\n",
       "  </thead>\n",
       "  <tbody>\n",
       "    <tr>\n",
       "      <th>0</th>\n",
       "      <td>2</td>\n",
       "      <td>San Jose Diridon Caltrain Station</td>\n",
       "      <td>37.329732</td>\n",
       "      <td>-121.901782</td>\n",
       "      <td>27</td>\n",
       "      <td>San Jose</td>\n",
       "      <td>8/6/2013</td>\n",
       "    </tr>\n",
       "    <tr>\n",
       "      <th>1</th>\n",
       "      <td>3</td>\n",
       "      <td>San Jose Civic Center</td>\n",
       "      <td>37.330698</td>\n",
       "      <td>-121.888979</td>\n",
       "      <td>15</td>\n",
       "      <td>San Jose</td>\n",
       "      <td>8/5/2013</td>\n",
       "    </tr>\n",
       "    <tr>\n",
       "      <th>2</th>\n",
       "      <td>4</td>\n",
       "      <td>Santa Clara at Almaden</td>\n",
       "      <td>37.333988</td>\n",
       "      <td>-121.894902</td>\n",
       "      <td>11</td>\n",
       "      <td>San Jose</td>\n",
       "      <td>8/6/2013</td>\n",
       "    </tr>\n",
       "    <tr>\n",
       "      <th>3</th>\n",
       "      <td>5</td>\n",
       "      <td>Adobe on Almaden</td>\n",
       "      <td>37.331415</td>\n",
       "      <td>-121.893200</td>\n",
       "      <td>19</td>\n",
       "      <td>San Jose</td>\n",
       "      <td>8/5/2013</td>\n",
       "    </tr>\n",
       "    <tr>\n",
       "      <th>4</th>\n",
       "      <td>6</td>\n",
       "      <td>San Pedro Square</td>\n",
       "      <td>37.336721</td>\n",
       "      <td>-121.894074</td>\n",
       "      <td>15</td>\n",
       "      <td>San Jose</td>\n",
       "      <td>8/7/2013</td>\n",
       "    </tr>\n",
       "    <tr>\n",
       "      <th>5</th>\n",
       "      <td>7</td>\n",
       "      <td>Paseo de San Antonio</td>\n",
       "      <td>37.333798</td>\n",
       "      <td>-121.886943</td>\n",
       "      <td>15</td>\n",
       "      <td>San Jose</td>\n",
       "      <td>8/7/2013</td>\n",
       "    </tr>\n",
       "    <tr>\n",
       "      <th>6</th>\n",
       "      <td>8</td>\n",
       "      <td>San Salvador at 1st</td>\n",
       "      <td>37.330165</td>\n",
       "      <td>-121.885831</td>\n",
       "      <td>15</td>\n",
       "      <td>San Jose</td>\n",
       "      <td>8/5/2013</td>\n",
       "    </tr>\n",
       "    <tr>\n",
       "      <th>7</th>\n",
       "      <td>9</td>\n",
       "      <td>Japantown</td>\n",
       "      <td>37.348742</td>\n",
       "      <td>-121.894715</td>\n",
       "      <td>15</td>\n",
       "      <td>San Jose</td>\n",
       "      <td>8/5/2013</td>\n",
       "    </tr>\n",
       "    <tr>\n",
       "      <th>8</th>\n",
       "      <td>10</td>\n",
       "      <td>San Jose City Hall</td>\n",
       "      <td>37.337391</td>\n",
       "      <td>-121.886995</td>\n",
       "      <td>15</td>\n",
       "      <td>San Jose</td>\n",
       "      <td>8/6/2013</td>\n",
       "    </tr>\n",
       "    <tr>\n",
       "      <th>9</th>\n",
       "      <td>11</td>\n",
       "      <td>MLK Library</td>\n",
       "      <td>37.335885</td>\n",
       "      <td>-121.885660</td>\n",
       "      <td>19</td>\n",
       "      <td>San Jose</td>\n",
       "      <td>8/6/2013</td>\n",
       "    </tr>\n",
       "    <tr>\n",
       "      <th>10</th>\n",
       "      <td>12</td>\n",
       "      <td>SJSU 4th at San Carlos</td>\n",
       "      <td>37.332808</td>\n",
       "      <td>-121.883891</td>\n",
       "      <td>19</td>\n",
       "      <td>San Jose</td>\n",
       "      <td>8/7/2013</td>\n",
       "    </tr>\n",
       "    <tr>\n",
       "      <th>11</th>\n",
       "      <td>13</td>\n",
       "      <td>St James Park</td>\n",
       "      <td>37.339301</td>\n",
       "      <td>-121.889937</td>\n",
       "      <td>15</td>\n",
       "      <td>San Jose</td>\n",
       "      <td>8/6/2013</td>\n",
       "    </tr>\n",
       "    <tr>\n",
       "      <th>12</th>\n",
       "      <td>14</td>\n",
       "      <td>Arena Green / SAP Center</td>\n",
       "      <td>37.332692</td>\n",
       "      <td>-121.900084</td>\n",
       "      <td>19</td>\n",
       "      <td>San Jose</td>\n",
       "      <td>8/5/2013</td>\n",
       "    </tr>\n",
       "    <tr>\n",
       "      <th>13</th>\n",
       "      <td>16</td>\n",
       "      <td>SJSU - San Salvador at 9th</td>\n",
       "      <td>37.333955</td>\n",
       "      <td>-121.877349</td>\n",
       "      <td>15</td>\n",
       "      <td>San Jose</td>\n",
       "      <td>8/7/2013</td>\n",
       "    </tr>\n",
       "    <tr>\n",
       "      <th>14</th>\n",
       "      <td>21</td>\n",
       "      <td>Franklin at Maple</td>\n",
       "      <td>37.481758</td>\n",
       "      <td>-122.226904</td>\n",
       "      <td>15</td>\n",
       "      <td>Redwood City</td>\n",
       "      <td>8/12/2013</td>\n",
       "    </tr>\n",
       "    <tr>\n",
       "      <th>15</th>\n",
       "      <td>22</td>\n",
       "      <td>Redwood City Caltrain Station</td>\n",
       "      <td>37.486078</td>\n",
       "      <td>-122.232089</td>\n",
       "      <td>25</td>\n",
       "      <td>Redwood City</td>\n",
       "      <td>8/15/2013</td>\n",
       "    </tr>\n",
       "    <tr>\n",
       "      <th>16</th>\n",
       "      <td>23</td>\n",
       "      <td>San Mateo County Center</td>\n",
       "      <td>37.487616</td>\n",
       "      <td>-122.229951</td>\n",
       "      <td>15</td>\n",
       "      <td>Redwood City</td>\n",
       "      <td>8/15/2013</td>\n",
       "    </tr>\n",
       "    <tr>\n",
       "      <th>17</th>\n",
       "      <td>24</td>\n",
       "      <td>Redwood City Public Library</td>\n",
       "      <td>37.484219</td>\n",
       "      <td>-122.227424</td>\n",
       "      <td>15</td>\n",
       "      <td>Redwood City</td>\n",
       "      <td>8/12/2013</td>\n",
       "    </tr>\n",
       "    <tr>\n",
       "      <th>18</th>\n",
       "      <td>25</td>\n",
       "      <td>Stanford in Redwood City</td>\n",
       "      <td>37.485370</td>\n",
       "      <td>-122.203288</td>\n",
       "      <td>15</td>\n",
       "      <td>Redwood City</td>\n",
       "      <td>8/12/2013</td>\n",
       "    </tr>\n",
       "    <tr>\n",
       "      <th>19</th>\n",
       "      <td>26</td>\n",
       "      <td>Redwood City Medical Center</td>\n",
       "      <td>37.487682</td>\n",
       "      <td>-122.223492</td>\n",
       "      <td>15</td>\n",
       "      <td>Redwood City</td>\n",
       "      <td>8/12/2013</td>\n",
       "    </tr>\n",
       "    <tr>\n",
       "      <th>20</th>\n",
       "      <td>27</td>\n",
       "      <td>Mountain View City Hall</td>\n",
       "      <td>37.389218</td>\n",
       "      <td>-122.081896</td>\n",
       "      <td>15</td>\n",
       "      <td>Mountain View</td>\n",
       "      <td>8/16/2013</td>\n",
       "    </tr>\n",
       "    <tr>\n",
       "      <th>21</th>\n",
       "      <td>28</td>\n",
       "      <td>Mountain View Caltrain Station</td>\n",
       "      <td>37.394358</td>\n",
       "      <td>-122.076713</td>\n",
       "      <td>23</td>\n",
       "      <td>Mountain View</td>\n",
       "      <td>8/15/2013</td>\n",
       "    </tr>\n",
       "    <tr>\n",
       "      <th>22</th>\n",
       "      <td>29</td>\n",
       "      <td>San Antonio Caltrain Station</td>\n",
       "      <td>37.406940</td>\n",
       "      <td>-122.106758</td>\n",
       "      <td>23</td>\n",
       "      <td>Mountain View</td>\n",
       "      <td>8/15/2013</td>\n",
       "    </tr>\n",
       "    <tr>\n",
       "      <th>23</th>\n",
       "      <td>30</td>\n",
       "      <td>Evelyn Park and Ride</td>\n",
       "      <td>37.390277</td>\n",
       "      <td>-122.066553</td>\n",
       "      <td>15</td>\n",
       "      <td>Mountain View</td>\n",
       "      <td>8/16/2013</td>\n",
       "    </tr>\n",
       "    <tr>\n",
       "      <th>24</th>\n",
       "      <td>31</td>\n",
       "      <td>San Antonio Shopping Center</td>\n",
       "      <td>37.400443</td>\n",
       "      <td>-122.108338</td>\n",
       "      <td>15</td>\n",
       "      <td>Mountain View</td>\n",
       "      <td>12/31/2013</td>\n",
       "    </tr>\n",
       "    <tr>\n",
       "      <th>25</th>\n",
       "      <td>32</td>\n",
       "      <td>Castro Street and El Camino Real</td>\n",
       "      <td>37.385956</td>\n",
       "      <td>-122.083678</td>\n",
       "      <td>11</td>\n",
       "      <td>Mountain View</td>\n",
       "      <td>12/31/2013</td>\n",
       "    </tr>\n",
       "    <tr>\n",
       "      <th>26</th>\n",
       "      <td>33</td>\n",
       "      <td>Rengstorff Avenue / California Street</td>\n",
       "      <td>37.400241</td>\n",
       "      <td>-122.099076</td>\n",
       "      <td>15</td>\n",
       "      <td>Mountain View</td>\n",
       "      <td>8/16/2013</td>\n",
       "    </tr>\n",
       "    <tr>\n",
       "      <th>27</th>\n",
       "      <td>34</td>\n",
       "      <td>Palo Alto Caltrain Station</td>\n",
       "      <td>37.443988</td>\n",
       "      <td>-122.164759</td>\n",
       "      <td>23</td>\n",
       "      <td>Palo Alto</td>\n",
       "      <td>8/14/2013</td>\n",
       "    </tr>\n",
       "    <tr>\n",
       "      <th>28</th>\n",
       "      <td>35</td>\n",
       "      <td>University and Emerson</td>\n",
       "      <td>37.444521</td>\n",
       "      <td>-122.163093</td>\n",
       "      <td>11</td>\n",
       "      <td>Palo Alto</td>\n",
       "      <td>8/15/2013</td>\n",
       "    </tr>\n",
       "    <tr>\n",
       "      <th>29</th>\n",
       "      <td>36</td>\n",
       "      <td>California Ave Caltrain Station</td>\n",
       "      <td>37.429082</td>\n",
       "      <td>-122.142805</td>\n",
       "      <td>15</td>\n",
       "      <td>Palo Alto</td>\n",
       "      <td>8/14/2013</td>\n",
       "    </tr>\n",
       "    <tr>\n",
       "      <th>...</th>\n",
       "      <td>...</td>\n",
       "      <td>...</td>\n",
       "      <td>...</td>\n",
       "      <td>...</td>\n",
       "      <td>...</td>\n",
       "      <td>...</td>\n",
       "      <td>...</td>\n",
       "    </tr>\n",
       "    <tr>\n",
       "      <th>40</th>\n",
       "      <td>51</td>\n",
       "      <td>Embarcadero at Folsom</td>\n",
       "      <td>37.791464</td>\n",
       "      <td>-122.391034</td>\n",
       "      <td>19</td>\n",
       "      <td>San Francisco</td>\n",
       "      <td>8/20/2013</td>\n",
       "    </tr>\n",
       "    <tr>\n",
       "      <th>41</th>\n",
       "      <td>39</td>\n",
       "      <td>Powell Street BART</td>\n",
       "      <td>37.783871</td>\n",
       "      <td>-122.408433</td>\n",
       "      <td>19</td>\n",
       "      <td>San Francisco</td>\n",
       "      <td>8/25/2013</td>\n",
       "    </tr>\n",
       "    <tr>\n",
       "      <th>42</th>\n",
       "      <td>54</td>\n",
       "      <td>Embarcadero at Bryant</td>\n",
       "      <td>37.787152</td>\n",
       "      <td>-122.388013</td>\n",
       "      <td>15</td>\n",
       "      <td>San Francisco</td>\n",
       "      <td>8/20/2013</td>\n",
       "    </tr>\n",
       "    <tr>\n",
       "      <th>43</th>\n",
       "      <td>55</td>\n",
       "      <td>Temporary Transbay Terminal (Howard at Beale)</td>\n",
       "      <td>37.789756</td>\n",
       "      <td>-122.394643</td>\n",
       "      <td>23</td>\n",
       "      <td>San Francisco</td>\n",
       "      <td>8/20/2013</td>\n",
       "    </tr>\n",
       "    <tr>\n",
       "      <th>44</th>\n",
       "      <td>56</td>\n",
       "      <td>Beale at Market</td>\n",
       "      <td>37.792251</td>\n",
       "      <td>-122.397086</td>\n",
       "      <td>19</td>\n",
       "      <td>San Francisco</td>\n",
       "      <td>8/20/2013</td>\n",
       "    </tr>\n",
       "    <tr>\n",
       "      <th>45</th>\n",
       "      <td>57</td>\n",
       "      <td>5th at Howard</td>\n",
       "      <td>37.781752</td>\n",
       "      <td>-122.405127</td>\n",
       "      <td>15</td>\n",
       "      <td>San Francisco</td>\n",
       "      <td>8/21/2013</td>\n",
       "    </tr>\n",
       "    <tr>\n",
       "      <th>46</th>\n",
       "      <td>58</td>\n",
       "      <td>San Francisco City Hall</td>\n",
       "      <td>37.778650</td>\n",
       "      <td>-122.418235</td>\n",
       "      <td>19</td>\n",
       "      <td>San Francisco</td>\n",
       "      <td>8/21/2013</td>\n",
       "    </tr>\n",
       "    <tr>\n",
       "      <th>47</th>\n",
       "      <td>59</td>\n",
       "      <td>Golden Gate at Polk</td>\n",
       "      <td>37.781332</td>\n",
       "      <td>-122.418603</td>\n",
       "      <td>23</td>\n",
       "      <td>San Francisco</td>\n",
       "      <td>8/21/2013</td>\n",
       "    </tr>\n",
       "    <tr>\n",
       "      <th>48</th>\n",
       "      <td>60</td>\n",
       "      <td>Embarcadero at Sansome</td>\n",
       "      <td>37.804770</td>\n",
       "      <td>-122.403234</td>\n",
       "      <td>15</td>\n",
       "      <td>San Francisco</td>\n",
       "      <td>8/21/2013</td>\n",
       "    </tr>\n",
       "    <tr>\n",
       "      <th>49</th>\n",
       "      <td>61</td>\n",
       "      <td>2nd at Townsend</td>\n",
       "      <td>37.780526</td>\n",
       "      <td>-122.390288</td>\n",
       "      <td>27</td>\n",
       "      <td>San Francisco</td>\n",
       "      <td>8/22/2013</td>\n",
       "    </tr>\n",
       "    <tr>\n",
       "      <th>50</th>\n",
       "      <td>62</td>\n",
       "      <td>2nd at Folsom</td>\n",
       "      <td>37.785299</td>\n",
       "      <td>-122.396236</td>\n",
       "      <td>19</td>\n",
       "      <td>San Francisco</td>\n",
       "      <td>8/22/2013</td>\n",
       "    </tr>\n",
       "    <tr>\n",
       "      <th>51</th>\n",
       "      <td>63</td>\n",
       "      <td>Howard at 2nd</td>\n",
       "      <td>37.786978</td>\n",
       "      <td>-122.398108</td>\n",
       "      <td>19</td>\n",
       "      <td>San Francisco</td>\n",
       "      <td>8/22/2013</td>\n",
       "    </tr>\n",
       "    <tr>\n",
       "      <th>52</th>\n",
       "      <td>64</td>\n",
       "      <td>2nd at South Park</td>\n",
       "      <td>37.782259</td>\n",
       "      <td>-122.392738</td>\n",
       "      <td>15</td>\n",
       "      <td>San Francisco</td>\n",
       "      <td>8/22/2013</td>\n",
       "    </tr>\n",
       "    <tr>\n",
       "      <th>53</th>\n",
       "      <td>65</td>\n",
       "      <td>Townsend at 7th</td>\n",
       "      <td>37.771058</td>\n",
       "      <td>-122.402717</td>\n",
       "      <td>15</td>\n",
       "      <td>San Francisco</td>\n",
       "      <td>8/22/2013</td>\n",
       "    </tr>\n",
       "    <tr>\n",
       "      <th>54</th>\n",
       "      <td>66</td>\n",
       "      <td>South Van Ness at Market</td>\n",
       "      <td>37.774814</td>\n",
       "      <td>-122.418954</td>\n",
       "      <td>19</td>\n",
       "      <td>San Francisco</td>\n",
       "      <td>8/23/2013</td>\n",
       "    </tr>\n",
       "    <tr>\n",
       "      <th>55</th>\n",
       "      <td>67</td>\n",
       "      <td>Market at 10th</td>\n",
       "      <td>37.776619</td>\n",
       "      <td>-122.417385</td>\n",
       "      <td>27</td>\n",
       "      <td>San Francisco</td>\n",
       "      <td>8/23/2013</td>\n",
       "    </tr>\n",
       "    <tr>\n",
       "      <th>56</th>\n",
       "      <td>68</td>\n",
       "      <td>Yerba Buena Center of the Arts (3rd @ Howard)</td>\n",
       "      <td>37.784878</td>\n",
       "      <td>-122.401014</td>\n",
       "      <td>19</td>\n",
       "      <td>San Francisco</td>\n",
       "      <td>8/23/2013</td>\n",
       "    </tr>\n",
       "    <tr>\n",
       "      <th>57</th>\n",
       "      <td>69</td>\n",
       "      <td>San Francisco Caltrain 2 (330 Townsend)</td>\n",
       "      <td>37.776600</td>\n",
       "      <td>-122.395470</td>\n",
       "      <td>23</td>\n",
       "      <td>San Francisco</td>\n",
       "      <td>8/23/2013</td>\n",
       "    </tr>\n",
       "    <tr>\n",
       "      <th>58</th>\n",
       "      <td>70</td>\n",
       "      <td>San Francisco Caltrain (Townsend at 4th)</td>\n",
       "      <td>37.776617</td>\n",
       "      <td>-122.395260</td>\n",
       "      <td>19</td>\n",
       "      <td>San Francisco</td>\n",
       "      <td>8/23/2013</td>\n",
       "    </tr>\n",
       "    <tr>\n",
       "      <th>59</th>\n",
       "      <td>71</td>\n",
       "      <td>Powell at Post (Union Square)</td>\n",
       "      <td>37.788446</td>\n",
       "      <td>-122.408499</td>\n",
       "      <td>19</td>\n",
       "      <td>San Francisco</td>\n",
       "      <td>8/23/2013</td>\n",
       "    </tr>\n",
       "    <tr>\n",
       "      <th>60</th>\n",
       "      <td>72</td>\n",
       "      <td>Civic Center BART (7th at Market)</td>\n",
       "      <td>37.781039</td>\n",
       "      <td>-122.411748</td>\n",
       "      <td>23</td>\n",
       "      <td>San Francisco</td>\n",
       "      <td>8/23/2013</td>\n",
       "    </tr>\n",
       "    <tr>\n",
       "      <th>61</th>\n",
       "      <td>73</td>\n",
       "      <td>Grant Avenue at Columbus Avenue</td>\n",
       "      <td>37.798522</td>\n",
       "      <td>-122.407245</td>\n",
       "      <td>15</td>\n",
       "      <td>San Francisco</td>\n",
       "      <td>8/21/2013</td>\n",
       "    </tr>\n",
       "    <tr>\n",
       "      <th>62</th>\n",
       "      <td>74</td>\n",
       "      <td>Steuart at Market</td>\n",
       "      <td>37.794139</td>\n",
       "      <td>-122.394434</td>\n",
       "      <td>23</td>\n",
       "      <td>San Francisco</td>\n",
       "      <td>8/25/2013</td>\n",
       "    </tr>\n",
       "    <tr>\n",
       "      <th>63</th>\n",
       "      <td>75</td>\n",
       "      <td>Mechanics Plaza (Market at Battery)</td>\n",
       "      <td>37.791300</td>\n",
       "      <td>-122.399051</td>\n",
       "      <td>19</td>\n",
       "      <td>San Francisco</td>\n",
       "      <td>8/25/2013</td>\n",
       "    </tr>\n",
       "    <tr>\n",
       "      <th>64</th>\n",
       "      <td>76</td>\n",
       "      <td>Market at 4th</td>\n",
       "      <td>37.786305</td>\n",
       "      <td>-122.404966</td>\n",
       "      <td>19</td>\n",
       "      <td>San Francisco</td>\n",
       "      <td>8/25/2013</td>\n",
       "    </tr>\n",
       "    <tr>\n",
       "      <th>65</th>\n",
       "      <td>77</td>\n",
       "      <td>Market at Sansome</td>\n",
       "      <td>37.789625</td>\n",
       "      <td>-122.400811</td>\n",
       "      <td>27</td>\n",
       "      <td>San Francisco</td>\n",
       "      <td>8/25/2013</td>\n",
       "    </tr>\n",
       "    <tr>\n",
       "      <th>66</th>\n",
       "      <td>80</td>\n",
       "      <td>Santa Clara County Civic Center</td>\n",
       "      <td>37.352601</td>\n",
       "      <td>-121.905733</td>\n",
       "      <td>15</td>\n",
       "      <td>San Jose</td>\n",
       "      <td>12/31/2013</td>\n",
       "    </tr>\n",
       "    <tr>\n",
       "      <th>67</th>\n",
       "      <td>82</td>\n",
       "      <td>Broadway St at Battery St</td>\n",
       "      <td>37.798541</td>\n",
       "      <td>-122.400862</td>\n",
       "      <td>15</td>\n",
       "      <td>San Francisco</td>\n",
       "      <td>1/22/2014</td>\n",
       "    </tr>\n",
       "    <tr>\n",
       "      <th>68</th>\n",
       "      <td>83</td>\n",
       "      <td>Mezes Park</td>\n",
       "      <td>37.491269</td>\n",
       "      <td>-122.236234</td>\n",
       "      <td>15</td>\n",
       "      <td>Redwood City</td>\n",
       "      <td>2/20/2014</td>\n",
       "    </tr>\n",
       "    <tr>\n",
       "      <th>69</th>\n",
       "      <td>84</td>\n",
       "      <td>Ryland Park</td>\n",
       "      <td>37.342725</td>\n",
       "      <td>-121.895617</td>\n",
       "      <td>15</td>\n",
       "      <td>San Jose</td>\n",
       "      <td>4/9/2014</td>\n",
       "    </tr>\n",
       "  </tbody>\n",
       "</table>\n",
       "<p>70 rows × 7 columns</p>\n",
       "</div>"
      ],
      "text/plain": [
       "    id                                           name        lat        long  \\\n",
       "0    2              San Jose Diridon Caltrain Station  37.329732 -121.901782   \n",
       "1    3                          San Jose Civic Center  37.330698 -121.888979   \n",
       "2    4                         Santa Clara at Almaden  37.333988 -121.894902   \n",
       "3    5                               Adobe on Almaden  37.331415 -121.893200   \n",
       "4    6                               San Pedro Square  37.336721 -121.894074   \n",
       "5    7                           Paseo de San Antonio  37.333798 -121.886943   \n",
       "6    8                            San Salvador at 1st  37.330165 -121.885831   \n",
       "7    9                                      Japantown  37.348742 -121.894715   \n",
       "8   10                             San Jose City Hall  37.337391 -121.886995   \n",
       "9   11                                    MLK Library  37.335885 -121.885660   \n",
       "10  12                         SJSU 4th at San Carlos  37.332808 -121.883891   \n",
       "11  13                                  St James Park  37.339301 -121.889937   \n",
       "12  14                       Arena Green / SAP Center  37.332692 -121.900084   \n",
       "13  16                     SJSU - San Salvador at 9th  37.333955 -121.877349   \n",
       "14  21                              Franklin at Maple  37.481758 -122.226904   \n",
       "15  22                  Redwood City Caltrain Station  37.486078 -122.232089   \n",
       "16  23                        San Mateo County Center  37.487616 -122.229951   \n",
       "17  24                    Redwood City Public Library  37.484219 -122.227424   \n",
       "18  25                       Stanford in Redwood City  37.485370 -122.203288   \n",
       "19  26                    Redwood City Medical Center  37.487682 -122.223492   \n",
       "20  27                        Mountain View City Hall  37.389218 -122.081896   \n",
       "21  28                 Mountain View Caltrain Station  37.394358 -122.076713   \n",
       "22  29                   San Antonio Caltrain Station  37.406940 -122.106758   \n",
       "23  30                           Evelyn Park and Ride  37.390277 -122.066553   \n",
       "24  31                    San Antonio Shopping Center  37.400443 -122.108338   \n",
       "25  32               Castro Street and El Camino Real  37.385956 -122.083678   \n",
       "26  33          Rengstorff Avenue / California Street  37.400241 -122.099076   \n",
       "27  34                     Palo Alto Caltrain Station  37.443988 -122.164759   \n",
       "28  35                         University and Emerson  37.444521 -122.163093   \n",
       "29  36                California Ave Caltrain Station  37.429082 -122.142805   \n",
       "..  ..                                            ...        ...         ...   \n",
       "40  51                          Embarcadero at Folsom  37.791464 -122.391034   \n",
       "41  39                             Powell Street BART  37.783871 -122.408433   \n",
       "42  54                          Embarcadero at Bryant  37.787152 -122.388013   \n",
       "43  55  Temporary Transbay Terminal (Howard at Beale)  37.789756 -122.394643   \n",
       "44  56                                Beale at Market  37.792251 -122.397086   \n",
       "45  57                                  5th at Howard  37.781752 -122.405127   \n",
       "46  58                        San Francisco City Hall  37.778650 -122.418235   \n",
       "47  59                            Golden Gate at Polk  37.781332 -122.418603   \n",
       "48  60                         Embarcadero at Sansome  37.804770 -122.403234   \n",
       "49  61                                2nd at Townsend  37.780526 -122.390288   \n",
       "50  62                                  2nd at Folsom  37.785299 -122.396236   \n",
       "51  63                                  Howard at 2nd  37.786978 -122.398108   \n",
       "52  64                              2nd at South Park  37.782259 -122.392738   \n",
       "53  65                                Townsend at 7th  37.771058 -122.402717   \n",
       "54  66                       South Van Ness at Market  37.774814 -122.418954   \n",
       "55  67                                 Market at 10th  37.776619 -122.417385   \n",
       "56  68  Yerba Buena Center of the Arts (3rd @ Howard)  37.784878 -122.401014   \n",
       "57  69        San Francisco Caltrain 2 (330 Townsend)  37.776600 -122.395470   \n",
       "58  70       San Francisco Caltrain (Townsend at 4th)  37.776617 -122.395260   \n",
       "59  71                  Powell at Post (Union Square)  37.788446 -122.408499   \n",
       "60  72              Civic Center BART (7th at Market)  37.781039 -122.411748   \n",
       "61  73                Grant Avenue at Columbus Avenue  37.798522 -122.407245   \n",
       "62  74                              Steuart at Market  37.794139 -122.394434   \n",
       "63  75            Mechanics Plaza (Market at Battery)  37.791300 -122.399051   \n",
       "64  76                                  Market at 4th  37.786305 -122.404966   \n",
       "65  77                              Market at Sansome  37.789625 -122.400811   \n",
       "66  80                Santa Clara County Civic Center  37.352601 -121.905733   \n",
       "67  82                      Broadway St at Battery St  37.798541 -122.400862   \n",
       "68  83                                     Mezes Park  37.491269 -122.236234   \n",
       "69  84                                    Ryland Park  37.342725 -121.895617   \n",
       "\n",
       "    dock_count           city installation_date  \n",
       "0           27       San Jose          8/6/2013  \n",
       "1           15       San Jose          8/5/2013  \n",
       "2           11       San Jose          8/6/2013  \n",
       "3           19       San Jose          8/5/2013  \n",
       "4           15       San Jose          8/7/2013  \n",
       "5           15       San Jose          8/7/2013  \n",
       "6           15       San Jose          8/5/2013  \n",
       "7           15       San Jose          8/5/2013  \n",
       "8           15       San Jose          8/6/2013  \n",
       "9           19       San Jose          8/6/2013  \n",
       "10          19       San Jose          8/7/2013  \n",
       "11          15       San Jose          8/6/2013  \n",
       "12          19       San Jose          8/5/2013  \n",
       "13          15       San Jose          8/7/2013  \n",
       "14          15   Redwood City         8/12/2013  \n",
       "15          25   Redwood City         8/15/2013  \n",
       "16          15   Redwood City         8/15/2013  \n",
       "17          15   Redwood City         8/12/2013  \n",
       "18          15   Redwood City         8/12/2013  \n",
       "19          15   Redwood City         8/12/2013  \n",
       "20          15  Mountain View         8/16/2013  \n",
       "21          23  Mountain View         8/15/2013  \n",
       "22          23  Mountain View         8/15/2013  \n",
       "23          15  Mountain View         8/16/2013  \n",
       "24          15  Mountain View        12/31/2013  \n",
       "25          11  Mountain View        12/31/2013  \n",
       "26          15  Mountain View         8/16/2013  \n",
       "27          23      Palo Alto         8/14/2013  \n",
       "28          11      Palo Alto         8/15/2013  \n",
       "29          15      Palo Alto         8/14/2013  \n",
       "..         ...            ...               ...  \n",
       "40          19  San Francisco         8/20/2013  \n",
       "41          19  San Francisco         8/25/2013  \n",
       "42          15  San Francisco         8/20/2013  \n",
       "43          23  San Francisco         8/20/2013  \n",
       "44          19  San Francisco         8/20/2013  \n",
       "45          15  San Francisco         8/21/2013  \n",
       "46          19  San Francisco         8/21/2013  \n",
       "47          23  San Francisco         8/21/2013  \n",
       "48          15  San Francisco         8/21/2013  \n",
       "49          27  San Francisco         8/22/2013  \n",
       "50          19  San Francisco         8/22/2013  \n",
       "51          19  San Francisco         8/22/2013  \n",
       "52          15  San Francisco         8/22/2013  \n",
       "53          15  San Francisco         8/22/2013  \n",
       "54          19  San Francisco         8/23/2013  \n",
       "55          27  San Francisco         8/23/2013  \n",
       "56          19  San Francisco         8/23/2013  \n",
       "57          23  San Francisco         8/23/2013  \n",
       "58          19  San Francisco         8/23/2013  \n",
       "59          19  San Francisco         8/23/2013  \n",
       "60          23  San Francisco         8/23/2013  \n",
       "61          15  San Francisco         8/21/2013  \n",
       "62          23  San Francisco         8/25/2013  \n",
       "63          19  San Francisco         8/25/2013  \n",
       "64          19  San Francisco         8/25/2013  \n",
       "65          27  San Francisco         8/25/2013  \n",
       "66          15       San Jose        12/31/2013  \n",
       "67          15  San Francisco         1/22/2014  \n",
       "68          15   Redwood City         2/20/2014  \n",
       "69          15       San Jose          4/9/2014  \n",
       "\n",
       "[70 rows x 7 columns]"
      ]
     },
     "execution_count": 6,
     "metadata": {},
     "output_type": "execute_result"
    }
   ],
   "source": [
    "df1 = pd.read_csv(\"station.csv\")\n",
    "df1"
   ]
  },
  {
   "cell_type": "markdown",
   "metadata": {},
   "source": [
    "# Analysis Performed"
   ]
  },
  {
   "cell_type": "markdown",
   "metadata": {},
   "source": [
    "## 1) Counting no of stations in each of the 5 cities"
   ]
  },
  {
   "cell_type": "code",
   "execution_count": 7,
   "metadata": {
    "collapsed": false
   },
   "outputs": [
    {
     "name": "stdout",
     "output_type": "stream",
     "text": [
      "city\n",
      "Mountain View     7\n",
      "Palo Alto         5\n",
      "Redwood City      7\n",
      "San Francisco    35\n",
      "San Jose         16\n",
      "dtype: int64\n"
     ]
    },
    {
     "data": {
      "image/png": "[encoded data removed]",
      "text/plain": [
       "<matplotlib.figure.Figure at 0xc1ee1d0>"
      ]
     },
     "metadata": {},
     "output_type": "display_data"
    }
   ],
   "source": [
    "count_stations = df1.groupby(df1['city']).size()\n",
    "print count_stations\n",
    "\n",
    "labels = count_stations.index\n",
    "colors = ['yellowgreen', 'gold', 'lightskyblue', 'lightcoral','red']\n",
    "explode = (0, 0, 0, 0.1,0)\n",
    "\n",
    "plt.pie(count_stations, explode=explode,colors=colors, labels=labels, shadow=True, autopct='%1.1f%%',startangle=0)\n",
    "plt.axis('equal')\n",
    "plt.show()"
   ]
  },
  {
   "cell_type": "markdown",
   "metadata": {},
   "source": [
    "## 2) Counting number of docks in each station in each of the 5 cities."
   ]
  },
  {
   "cell_type": "code",
   "execution_count": 8,
   "metadata": {
    "collapsed": false
   },
   "outputs": [
    {
     "data": {
      "image/png": "[encoded data removed]",
      "text/plain": [
       "<matplotlib.figure.Figure at 0xd9ab4a8>"
      ]
     },
     "metadata": {},
     "output_type": "display_data"
    }
   ],
   "source": [
    "df1_mv = df1[(df1['city'] == 'Mountain View')]\n",
    "df1_mv = df1_mv.drop(df1_mv.columns[[0,1,2,3,6]], axis=1)\n",
    "df1_mv = df1_mv['dock_count'].sum()\n",
    "\n",
    "\n",
    "df1_pa = df1[(df1['city'] == 'Palo Alto')] \n",
    "df1_pa = df1_pa.drop(df1_pa.columns[[0,1,2,3,6]], axis=1)\n",
    "df1_pa = df1_pa['dock_count'].sum()\n",
    "\n",
    "    \n",
    "df1_rc = df1[(df1['city'] == 'Redwood City')] \n",
    "df1_rc = df1_rc.drop(df1_rc.columns[[0,1,2,3,6]], axis=1)\n",
    "df1_rc = df1_rc['dock_count'].sum()\n",
    "\n",
    "\n",
    "df1_sj = df1[(df1['city'] == 'San Jose')] \n",
    "df1_sj = df1_sj.drop(df1_sj.columns[[0,1,2,3,6]], axis=1)\n",
    "df1_sj = df1_sj['dock_count'].sum()\n",
    "\n",
    "\n",
    "df1_sf = df1[(df1['city'] == 'San Francisco')] \n",
    "df1_sf = df1_sf.drop(df1_sf.columns[[0,1,2,3,6]], axis=1)\n",
    "df1_sf = df1_sf['dock_count'].sum()\n",
    "\n",
    "\n",
    "#print df1_mv\n",
    "#print df1_pa\n",
    "#print df1_rc\n",
    "#print df1_sj\n",
    "#print df1_sf\n",
    "\n",
    "labels = count_stations.index\n",
    "sizes = [df1_mv, df1_pa, df1_rc, df1_sf,df1_sj ]\n",
    "colors = ['yellowgreen', 'gold', 'lightskyblue', 'lightcoral','red']\n",
    "explode = (0, 0, 0, 0.1,0)\n",
    "plt.pie(sizes, explode=explode,labels=labels,colors=colors, shadow=True, autopct='%1.1f%%',startangle=0)\n",
    "plt.axis('equal')\n",
    "plt.show()"
   ]
  },
  {
   "cell_type": "markdown",
   "metadata": {},
   "source": [
    "## About 50% of the stations and docks are located in San Francisco, but it makes up 90% of the system use. "
   ]
  },
  {
   "cell_type": "markdown",
   "metadata": {},
   "source": [
    "## 3) Calculating total numer of rides taken by users in each city"
   ]
  },
  {
   "cell_type": "code",
   "execution_count": 9,
   "metadata": {
    "collapsed": false
   },
   "outputs": [
    {
     "data": {
      "text/html": [
       "<div>\n",
       "<table border=\"1\" class=\"dataframe\">\n",
       "  <thead>\n",
       "    <tr style=\"text-align: right;\">\n",
       "      <th></th>\n",
       "      <th>Trip ID</th>\n",
       "      <th>Duration</th>\n",
       "      <th>Start Date</th>\n",
       "      <th>Start Station</th>\n",
       "      <th>Start Terminal</th>\n",
       "      <th>End Date</th>\n",
       "      <th>End Station</th>\n",
       "      <th>End Terminal</th>\n",
       "      <th>Bike #</th>\n",
       "      <th>Subscriber Type</th>\n",
       "      <th>Zip Code</th>\n",
       "    </tr>\n",
       "  </thead>\n",
       "  <tbody>\n",
       "    <tr>\n",
       "      <th>0</th>\n",
       "      <td>913465</td>\n",
       "      <td>746</td>\n",
       "      <td>9/1/2015 0:10</td>\n",
       "      <td>San Francisco Caltrain 2 (330 Townsend)</td>\n",
       "      <td>69</td>\n",
       "      <td>9/1/2015 0:23</td>\n",
       "      <td>San Francisco City Hall</td>\n",
       "      <td>58</td>\n",
       "      <td>238</td>\n",
       "      <td>Subscriber</td>\n",
       "      <td>94107</td>\n",
       "    </tr>\n",
       "    <tr>\n",
       "      <th>1</th>\n",
       "      <td>913466</td>\n",
       "      <td>969</td>\n",
       "      <td>9/1/2015 0:15</td>\n",
       "      <td>Clay at Battery</td>\n",
       "      <td>41</td>\n",
       "      <td>9/1/2015 0:31</td>\n",
       "      <td>Washington at Kearny</td>\n",
       "      <td>46</td>\n",
       "      <td>16</td>\n",
       "      <td>Subscriber</td>\n",
       "      <td>94133</td>\n",
       "    </tr>\n",
       "    <tr>\n",
       "      <th>2</th>\n",
       "      <td>913467</td>\n",
       "      <td>233</td>\n",
       "      <td>9/1/2015 0:15</td>\n",
       "      <td>Davis at Jackson</td>\n",
       "      <td>42</td>\n",
       "      <td>9/1/2015 0:19</td>\n",
       "      <td>Commercial at Montgomery</td>\n",
       "      <td>45</td>\n",
       "      <td>534</td>\n",
       "      <td>Subscriber</td>\n",
       "      <td>94111</td>\n",
       "    </tr>\n",
       "    <tr>\n",
       "      <th>3</th>\n",
       "      <td>913468</td>\n",
       "      <td>213</td>\n",
       "      <td>9/1/2015 1:29</td>\n",
       "      <td>Clay at Battery</td>\n",
       "      <td>41</td>\n",
       "      <td>9/1/2015 1:32</td>\n",
       "      <td>Steuart at Market</td>\n",
       "      <td>74</td>\n",
       "      <td>312</td>\n",
       "      <td>Subscriber</td>\n",
       "      <td>94107</td>\n",
       "    </tr>\n",
       "    <tr>\n",
       "      <th>4</th>\n",
       "      <td>913469</td>\n",
       "      <td>574</td>\n",
       "      <td>9/1/2015 1:33</td>\n",
       "      <td>Steuart at Market</td>\n",
       "      <td>74</td>\n",
       "      <td>9/1/2015 1:42</td>\n",
       "      <td>San Francisco Caltrain 2 (330 Townsend)</td>\n",
       "      <td>69</td>\n",
       "      <td>279</td>\n",
       "      <td>Subscriber</td>\n",
       "      <td>94107</td>\n",
       "    </tr>\n",
       "    <tr>\n",
       "      <th>5</th>\n",
       "      <td>913470</td>\n",
       "      <td>623</td>\n",
       "      <td>9/1/2015 1:36</td>\n",
       "      <td>San Jose Diridon Caltrain Station</td>\n",
       "      <td>2</td>\n",
       "      <td>9/1/2015 1:47</td>\n",
       "      <td>Japantown</td>\n",
       "      <td>9</td>\n",
       "      <td>261</td>\n",
       "      <td>Subscriber</td>\n",
       "      <td>95112</td>\n",
       "    </tr>\n",
       "    <tr>\n",
       "      <th>6</th>\n",
       "      <td>913471</td>\n",
       "      <td>746</td>\n",
       "      <td>9/1/2015 2:15</td>\n",
       "      <td>Embarcadero at Bryant</td>\n",
       "      <td>54</td>\n",
       "      <td>9/1/2015 2:27</td>\n",
       "      <td>Powell Street BART</td>\n",
       "      <td>39</td>\n",
       "      <td>436</td>\n",
       "      <td>Subscriber</td>\n",
       "      <td>94103</td>\n",
       "    </tr>\n",
       "    <tr>\n",
       "      <th>7</th>\n",
       "      <td>913472</td>\n",
       "      <td>1038</td>\n",
       "      <td>9/1/2015 3:38</td>\n",
       "      <td>Townsend at 7th</td>\n",
       "      <td>65</td>\n",
       "      <td>9/1/2015 3:56</td>\n",
       "      <td>Howard at 2nd</td>\n",
       "      <td>63</td>\n",
       "      <td>607</td>\n",
       "      <td>Subscriber</td>\n",
       "      <td>94107</td>\n",
       "    </tr>\n",
       "    <tr>\n",
       "      <th>8</th>\n",
       "      <td>913473</td>\n",
       "      <td>424</td>\n",
       "      <td>9/1/2015 4:23</td>\n",
       "      <td>Market at 10th</td>\n",
       "      <td>67</td>\n",
       "      <td>9/1/2015 4:30</td>\n",
       "      <td>Townsend at 7th</td>\n",
       "      <td>65</td>\n",
       "      <td>259</td>\n",
       "      <td>Subscriber</td>\n",
       "      <td>94102</td>\n",
       "    </tr>\n",
       "    <tr>\n",
       "      <th>9</th>\n",
       "      <td>913474</td>\n",
       "      <td>633</td>\n",
       "      <td>9/1/2015 4:57</td>\n",
       "      <td>Embarcadero at Bryant</td>\n",
       "      <td>54</td>\n",
       "      <td>9/1/2015 5:08</td>\n",
       "      <td>Embarcadero at Sansome</td>\n",
       "      <td>60</td>\n",
       "      <td>613</td>\n",
       "      <td>Subscriber</td>\n",
       "      <td>94105</td>\n",
       "    </tr>\n",
       "    <tr>\n",
       "      <th>10</th>\n",
       "      <td>913475</td>\n",
       "      <td>174</td>\n",
       "      <td>9/1/2015 4:58</td>\n",
       "      <td>2nd at Folsom</td>\n",
       "      <td>62</td>\n",
       "      <td>9/1/2015 5:01</td>\n",
       "      <td>Market at Sansome</td>\n",
       "      <td>77</td>\n",
       "      <td>449</td>\n",
       "      <td>Subscriber</td>\n",
       "      <td>94107</td>\n",
       "    </tr>\n",
       "    <tr>\n",
       "      <th>11</th>\n",
       "      <td>913476</td>\n",
       "      <td>777</td>\n",
       "      <td>9/1/2015 5:02</td>\n",
       "      <td>Davis at Jackson</td>\n",
       "      <td>42</td>\n",
       "      <td>9/1/2015 5:15</td>\n",
       "      <td>San Francisco Caltrain (Townsend at 4th)</td>\n",
       "      <td>70</td>\n",
       "      <td>86</td>\n",
       "      <td>Subscriber</td>\n",
       "      <td>94111</td>\n",
       "    </tr>\n",
       "    <tr>\n",
       "      <th>12</th>\n",
       "      <td>913477</td>\n",
       "      <td>454</td>\n",
       "      <td>9/1/2015 5:38</td>\n",
       "      <td>Powell Street BART</td>\n",
       "      <td>39</td>\n",
       "      <td>9/1/2015 5:45</td>\n",
       "      <td>San Francisco Caltrain 2 (330 Townsend)</td>\n",
       "      <td>69</td>\n",
       "      <td>440</td>\n",
       "      <td>Subscriber</td>\n",
       "      <td>94107</td>\n",
       "    </tr>\n",
       "    <tr>\n",
       "      <th>13</th>\n",
       "      <td>913478</td>\n",
       "      <td>228</td>\n",
       "      <td>9/1/2015 5:39</td>\n",
       "      <td>Washington at Kearny</td>\n",
       "      <td>46</td>\n",
       "      <td>9/1/2015 5:43</td>\n",
       "      <td>Market at Sansome</td>\n",
       "      <td>77</td>\n",
       "      <td>351</td>\n",
       "      <td>Subscriber</td>\n",
       "      <td>94133</td>\n",
       "    </tr>\n",
       "    <tr>\n",
       "      <th>14</th>\n",
       "      <td>913479</td>\n",
       "      <td>445</td>\n",
       "      <td>9/1/2015 5:43</td>\n",
       "      <td>Civic Center BART (7th at Market)</td>\n",
       "      <td>72</td>\n",
       "      <td>9/1/2015 5:50</td>\n",
       "      <td>San Francisco Caltrain (Townsend at 4th)</td>\n",
       "      <td>70</td>\n",
       "      <td>315</td>\n",
       "      <td>Subscriber</td>\n",
       "      <td>94103</td>\n",
       "    </tr>\n",
       "    <tr>\n",
       "      <th>15</th>\n",
       "      <td>913480</td>\n",
       "      <td>649</td>\n",
       "      <td>9/1/2015 5:43</td>\n",
       "      <td>5th at Howard</td>\n",
       "      <td>57</td>\n",
       "      <td>9/1/2015 5:54</td>\n",
       "      <td>Steuart at Market</td>\n",
       "      <td>74</td>\n",
       "      <td>559</td>\n",
       "      <td>Subscriber</td>\n",
       "      <td>94112</td>\n",
       "    </tr>\n",
       "    <tr>\n",
       "      <th>16</th>\n",
       "      <td>913481</td>\n",
       "      <td>459</td>\n",
       "      <td>9/1/2015 6:01</td>\n",
       "      <td>San Francisco Caltrain (Townsend at 4th)</td>\n",
       "      <td>70</td>\n",
       "      <td>9/1/2015 6:09</td>\n",
       "      <td>2nd at Folsom</td>\n",
       "      <td>62</td>\n",
       "      <td>579</td>\n",
       "      <td>Subscriber</td>\n",
       "      <td>94002</td>\n",
       "    </tr>\n",
       "    <tr>\n",
       "      <th>17</th>\n",
       "      <td>913482</td>\n",
       "      <td>337</td>\n",
       "      <td>9/1/2015 6:02</td>\n",
       "      <td>Townsend at 7th</td>\n",
       "      <td>65</td>\n",
       "      <td>9/1/2015 6:07</td>\n",
       "      <td>2nd at Townsend</td>\n",
       "      <td>61</td>\n",
       "      <td>287</td>\n",
       "      <td>Subscriber</td>\n",
       "      <td>94107</td>\n",
       "    </tr>\n",
       "    <tr>\n",
       "      <th>18</th>\n",
       "      <td>913483</td>\n",
       "      <td>518</td>\n",
       "      <td>9/1/2015 6:10</td>\n",
       "      <td>Townsend at 7th</td>\n",
       "      <td>65</td>\n",
       "      <td>9/1/2015 6:18</td>\n",
       "      <td>South Van Ness at Market</td>\n",
       "      <td>66</td>\n",
       "      <td>457</td>\n",
       "      <td>Subscriber</td>\n",
       "      <td>94107</td>\n",
       "    </tr>\n",
       "    <tr>\n",
       "      <th>19</th>\n",
       "      <td>913484</td>\n",
       "      <td>352</td>\n",
       "      <td>9/1/2015 6:10</td>\n",
       "      <td>Temporary Transbay Terminal (Howard at Beale)</td>\n",
       "      <td>55</td>\n",
       "      <td>9/1/2015 6:16</td>\n",
       "      <td>2nd at Townsend</td>\n",
       "      <td>61</td>\n",
       "      <td>589</td>\n",
       "      <td>Subscriber</td>\n",
       "      <td>94610</td>\n",
       "    </tr>\n",
       "    <tr>\n",
       "      <th>20</th>\n",
       "      <td>913485</td>\n",
       "      <td>577</td>\n",
       "      <td>9/1/2015 6:11</td>\n",
       "      <td>Embarcadero at Sansome</td>\n",
       "      <td>60</td>\n",
       "      <td>9/1/2015 6:21</td>\n",
       "      <td>2nd at Townsend</td>\n",
       "      <td>61</td>\n",
       "      <td>502</td>\n",
       "      <td>Subscriber</td>\n",
       "      <td>94111</td>\n",
       "    </tr>\n",
       "    <tr>\n",
       "      <th>21</th>\n",
       "      <td>913486</td>\n",
       "      <td>314</td>\n",
       "      <td>9/1/2015 6:13</td>\n",
       "      <td>Rengstorff Avenue / California Street</td>\n",
       "      <td>33</td>\n",
       "      <td>9/1/2015 6:19</td>\n",
       "      <td>San Antonio Caltrain Station</td>\n",
       "      <td>29</td>\n",
       "      <td>118</td>\n",
       "      <td>Subscriber</td>\n",
       "      <td>94040</td>\n",
       "    </tr>\n",
       "    <tr>\n",
       "      <th>22</th>\n",
       "      <td>913487</td>\n",
       "      <td>236</td>\n",
       "      <td>9/1/2015 6:16</td>\n",
       "      <td>Temporary Transbay Terminal (Howard at Beale)</td>\n",
       "      <td>55</td>\n",
       "      <td>9/1/2015 6:20</td>\n",
       "      <td>Clay at Battery</td>\n",
       "      <td>41</td>\n",
       "      <td>356</td>\n",
       "      <td>Subscriber</td>\n",
       "      <td>94611</td>\n",
       "    </tr>\n",
       "    <tr>\n",
       "      <th>23</th>\n",
       "      <td>913488</td>\n",
       "      <td>274</td>\n",
       "      <td>9/1/2015 6:22</td>\n",
       "      <td>Washington at Kearny</td>\n",
       "      <td>46</td>\n",
       "      <td>9/1/2015 6:26</td>\n",
       "      <td>Market at 4th</td>\n",
       "      <td>76</td>\n",
       "      <td>329</td>\n",
       "      <td>Subscriber</td>\n",
       "      <td>94133</td>\n",
       "    </tr>\n",
       "    <tr>\n",
       "      <th>24</th>\n",
       "      <td>913489</td>\n",
       "      <td>757</td>\n",
       "      <td>9/1/2015 6:21</td>\n",
       "      <td>San Francisco Caltrain 2 (330 Townsend)</td>\n",
       "      <td>69</td>\n",
       "      <td>9/1/2015 6:34</td>\n",
       "      <td>Embarcadero at Folsom</td>\n",
       "      <td>51</td>\n",
       "      <td>426</td>\n",
       "      <td>Subscriber</td>\n",
       "      <td>94107</td>\n",
       "    </tr>\n",
       "    <tr>\n",
       "      <th>25</th>\n",
       "      <td>913490</td>\n",
       "      <td>731</td>\n",
       "      <td>9/1/2015 6:22</td>\n",
       "      <td>San Francisco Caltrain 2 (330 Townsend)</td>\n",
       "      <td>69</td>\n",
       "      <td>9/1/2015 6:34</td>\n",
       "      <td>Embarcadero at Folsom</td>\n",
       "      <td>51</td>\n",
       "      <td>450</td>\n",
       "      <td>Subscriber</td>\n",
       "      <td>94107</td>\n",
       "    </tr>\n",
       "    <tr>\n",
       "      <th>26</th>\n",
       "      <td>913491</td>\n",
       "      <td>509</td>\n",
       "      <td>9/1/2015 6:22</td>\n",
       "      <td>Harry Bridges Plaza (Ferry Building)</td>\n",
       "      <td>50</td>\n",
       "      <td>9/1/2015 6:30</td>\n",
       "      <td>2nd at Townsend</td>\n",
       "      <td>61</td>\n",
       "      <td>413</td>\n",
       "      <td>Subscriber</td>\n",
       "      <td>94945</td>\n",
       "    </tr>\n",
       "    <tr>\n",
       "      <th>27</th>\n",
       "      <td>913492</td>\n",
       "      <td>189</td>\n",
       "      <td>9/1/2015 6:31</td>\n",
       "      <td>2nd at Townsend</td>\n",
       "      <td>61</td>\n",
       "      <td>9/1/2015 6:35</td>\n",
       "      <td>San Francisco Caltrain 2 (330 Townsend)</td>\n",
       "      <td>69</td>\n",
       "      <td>413</td>\n",
       "      <td>Subscriber</td>\n",
       "      <td>95134</td>\n",
       "    </tr>\n",
       "    <tr>\n",
       "      <th>28</th>\n",
       "      <td>913493</td>\n",
       "      <td>456</td>\n",
       "      <td>9/1/2015 6:32</td>\n",
       "      <td>Temporary Transbay Terminal (Howard at Beale)</td>\n",
       "      <td>55</td>\n",
       "      <td>9/1/2015 6:40</td>\n",
       "      <td>Broadway St at Battery St</td>\n",
       "      <td>82</td>\n",
       "      <td>496</td>\n",
       "      <td>Subscriber</td>\n",
       "      <td>94610</td>\n",
       "    </tr>\n",
       "    <tr>\n",
       "      <th>29</th>\n",
       "      <td>913494</td>\n",
       "      <td>647</td>\n",
       "      <td>9/1/2015 6:34</td>\n",
       "      <td>Harry Bridges Plaza (Ferry Building)</td>\n",
       "      <td>50</td>\n",
       "      <td>9/1/2015 6:45</td>\n",
       "      <td>San Francisco Caltrain 2 (330 Townsend)</td>\n",
       "      <td>69</td>\n",
       "      <td>620</td>\n",
       "      <td>Subscriber</td>\n",
       "      <td>94939</td>\n",
       "    </tr>\n",
       "    <tr>\n",
       "      <th>...</th>\n",
       "      <td>...</td>\n",
       "      <td>...</td>\n",
       "      <td>...</td>\n",
       "      <td>...</td>\n",
       "      <td>...</td>\n",
       "      <td>...</td>\n",
       "      <td>...</td>\n",
       "      <td>...</td>\n",
       "      <td>...</td>\n",
       "      <td>...</td>\n",
       "      <td>...</td>\n",
       "    </tr>\n",
       "    <tr>\n",
       "      <th>313659</th>\n",
       "      <td>1338375</td>\n",
       "      <td>1786</td>\n",
       "      <td>8/31/2016 21:06</td>\n",
       "      <td>Market at 4th</td>\n",
       "      <td>76</td>\n",
       "      <td>8/31/2016 21:36</td>\n",
       "      <td>Market at 4th</td>\n",
       "      <td>76</td>\n",
       "      <td>672</td>\n",
       "      <td>Customer</td>\n",
       "      <td>75075</td>\n",
       "    </tr>\n",
       "    <tr>\n",
       "      <th>313660</th>\n",
       "      <td>1338376</td>\n",
       "      <td>293</td>\n",
       "      <td>8/31/2016 21:08</td>\n",
       "      <td>Grant Avenue at Columbus Avenue</td>\n",
       "      <td>73</td>\n",
       "      <td>8/31/2016 21:13</td>\n",
       "      <td>Embarcadero at Sansome</td>\n",
       "      <td>60</td>\n",
       "      <td>69</td>\n",
       "      <td>Subscriber</td>\n",
       "      <td>94133</td>\n",
       "    </tr>\n",
       "    <tr>\n",
       "      <th>313661</th>\n",
       "      <td>1338377</td>\n",
       "      <td>554</td>\n",
       "      <td>8/31/2016 21:09</td>\n",
       "      <td>Yerba Buena Center of the Arts (3rd @ Howard)</td>\n",
       "      <td>68</td>\n",
       "      <td>8/31/2016 21:18</td>\n",
       "      <td>2nd at Townsend</td>\n",
       "      <td>61</td>\n",
       "      <td>614</td>\n",
       "      <td>Subscriber</td>\n",
       "      <td>94107</td>\n",
       "    </tr>\n",
       "    <tr>\n",
       "      <th>313662</th>\n",
       "      <td>1338378</td>\n",
       "      <td>9256</td>\n",
       "      <td>8/31/2016 21:14</td>\n",
       "      <td>Howard at 2nd</td>\n",
       "      <td>63</td>\n",
       "      <td>8/31/2016 23:48</td>\n",
       "      <td>Howard at 2nd</td>\n",
       "      <td>63</td>\n",
       "      <td>259</td>\n",
       "      <td>Customer</td>\n",
       "      <td>nil</td>\n",
       "    </tr>\n",
       "    <tr>\n",
       "      <th>313663</th>\n",
       "      <td>1338380</td>\n",
       "      <td>220</td>\n",
       "      <td>8/31/2016 21:16</td>\n",
       "      <td>Yerba Buena Center of the Arts (3rd @ Howard)</td>\n",
       "      <td>68</td>\n",
       "      <td>8/31/2016 21:20</td>\n",
       "      <td>5th St at Folsom St</td>\n",
       "      <td>90</td>\n",
       "      <td>652</td>\n",
       "      <td>Subscriber</td>\n",
       "      <td>94710</td>\n",
       "    </tr>\n",
       "    <tr>\n",
       "      <th>313664</th>\n",
       "      <td>1338381</td>\n",
       "      <td>274</td>\n",
       "      <td>8/31/2016 21:17</td>\n",
       "      <td>2nd at South Park</td>\n",
       "      <td>64</td>\n",
       "      <td>8/31/2016 21:21</td>\n",
       "      <td>San Francisco Caltrain 2 (330 Townsend)</td>\n",
       "      <td>69</td>\n",
       "      <td>442</td>\n",
       "      <td>Subscriber</td>\n",
       "      <td>95126</td>\n",
       "    </tr>\n",
       "    <tr>\n",
       "      <th>313665</th>\n",
       "      <td>1338382</td>\n",
       "      <td>366</td>\n",
       "      <td>8/31/2016 21:19</td>\n",
       "      <td>Market at Sansome</td>\n",
       "      <td>77</td>\n",
       "      <td>8/31/2016 21:25</td>\n",
       "      <td>2nd at Townsend</td>\n",
       "      <td>61</td>\n",
       "      <td>517</td>\n",
       "      <td>Subscriber</td>\n",
       "      <td>94119</td>\n",
       "    </tr>\n",
       "    <tr>\n",
       "      <th>313666</th>\n",
       "      <td>1338384</td>\n",
       "      <td>281</td>\n",
       "      <td>8/31/2016 21:24</td>\n",
       "      <td>Market at 4th</td>\n",
       "      <td>76</td>\n",
       "      <td>8/31/2016 21:28</td>\n",
       "      <td>Washington at Kearny</td>\n",
       "      <td>46</td>\n",
       "      <td>498</td>\n",
       "      <td>Subscriber</td>\n",
       "      <td>94133</td>\n",
       "    </tr>\n",
       "    <tr>\n",
       "      <th>313667</th>\n",
       "      <td>1338386</td>\n",
       "      <td>574</td>\n",
       "      <td>8/31/2016 21:26</td>\n",
       "      <td>Embarcadero at Bryant</td>\n",
       "      <td>54</td>\n",
       "      <td>8/31/2016 21:35</td>\n",
       "      <td>Townsend at 7th</td>\n",
       "      <td>65</td>\n",
       "      <td>273</td>\n",
       "      <td>Subscriber</td>\n",
       "      <td>94107</td>\n",
       "    </tr>\n",
       "    <tr>\n",
       "      <th>313668</th>\n",
       "      <td>1338387</td>\n",
       "      <td>281</td>\n",
       "      <td>8/31/2016 21:29</td>\n",
       "      <td>Commercial at Montgomery</td>\n",
       "      <td>45</td>\n",
       "      <td>8/31/2016 21:34</td>\n",
       "      <td>Harry Bridges Plaza (Ferry Building)</td>\n",
       "      <td>50</td>\n",
       "      <td>495</td>\n",
       "      <td>Subscriber</td>\n",
       "      <td>94107</td>\n",
       "    </tr>\n",
       "    <tr>\n",
       "      <th>313669</th>\n",
       "      <td>1338388</td>\n",
       "      <td>775</td>\n",
       "      <td>8/31/2016 21:35</td>\n",
       "      <td>Powell at Post (Union Square)</td>\n",
       "      <td>71</td>\n",
       "      <td>8/31/2016 21:48</td>\n",
       "      <td>Davis at Jackson</td>\n",
       "      <td>42</td>\n",
       "      <td>504</td>\n",
       "      <td>Subscriber</td>\n",
       "      <td>94109</td>\n",
       "    </tr>\n",
       "    <tr>\n",
       "      <th>313670</th>\n",
       "      <td>1338390</td>\n",
       "      <td>410</td>\n",
       "      <td>8/31/2016 21:57</td>\n",
       "      <td>Market at 4th</td>\n",
       "      <td>76</td>\n",
       "      <td>8/31/2016 22:03</td>\n",
       "      <td>San Francisco Caltrain 2 (330 Townsend)</td>\n",
       "      <td>69</td>\n",
       "      <td>530</td>\n",
       "      <td>Subscriber</td>\n",
       "      <td>94107</td>\n",
       "    </tr>\n",
       "    <tr>\n",
       "      <th>313671</th>\n",
       "      <td>1338391</td>\n",
       "      <td>300</td>\n",
       "      <td>8/31/2016 21:59</td>\n",
       "      <td>2nd at Folsom</td>\n",
       "      <td>62</td>\n",
       "      <td>8/31/2016 22:04</td>\n",
       "      <td>2nd at Townsend</td>\n",
       "      <td>61</td>\n",
       "      <td>694</td>\n",
       "      <td>Subscriber</td>\n",
       "      <td>94107</td>\n",
       "    </tr>\n",
       "    <tr>\n",
       "      <th>313672</th>\n",
       "      <td>1338392</td>\n",
       "      <td>637</td>\n",
       "      <td>8/31/2016 22:05</td>\n",
       "      <td>San Francisco Caltrain (Townsend at 4th)</td>\n",
       "      <td>70</td>\n",
       "      <td>8/31/2016 22:16</td>\n",
       "      <td>South Van Ness at Market</td>\n",
       "      <td>66</td>\n",
       "      <td>524</td>\n",
       "      <td>Subscriber</td>\n",
       "      <td>94117</td>\n",
       "    </tr>\n",
       "    <tr>\n",
       "      <th>313673</th>\n",
       "      <td>1338393</td>\n",
       "      <td>383</td>\n",
       "      <td>8/31/2016 22:07</td>\n",
       "      <td>San Francisco Caltrain 2 (330 Townsend)</td>\n",
       "      <td>69</td>\n",
       "      <td>8/31/2016 22:13</td>\n",
       "      <td>5th at Howard</td>\n",
       "      <td>57</td>\n",
       "      <td>189</td>\n",
       "      <td>Subscriber</td>\n",
       "      <td>94103</td>\n",
       "    </tr>\n",
       "    <tr>\n",
       "      <th>313674</th>\n",
       "      <td>1338394</td>\n",
       "      <td>345</td>\n",
       "      <td>8/31/2016 22:10</td>\n",
       "      <td>San Francisco Caltrain (Townsend at 4th)</td>\n",
       "      <td>70</td>\n",
       "      <td>8/31/2016 22:16</td>\n",
       "      <td>2nd at Townsend</td>\n",
       "      <td>61</td>\n",
       "      <td>415</td>\n",
       "      <td>Subscriber</td>\n",
       "      <td>94107</td>\n",
       "    </tr>\n",
       "    <tr>\n",
       "      <th>313675</th>\n",
       "      <td>1338395</td>\n",
       "      <td>550</td>\n",
       "      <td>8/31/2016 22:16</td>\n",
       "      <td>Grant Avenue at Columbus Avenue</td>\n",
       "      <td>73</td>\n",
       "      <td>8/31/2016 22:25</td>\n",
       "      <td>Spear at Folsom</td>\n",
       "      <td>49</td>\n",
       "      <td>589</td>\n",
       "      <td>Subscriber</td>\n",
       "      <td>94619</td>\n",
       "    </tr>\n",
       "    <tr>\n",
       "      <th>313676</th>\n",
       "      <td>1338396</td>\n",
       "      <td>227</td>\n",
       "      <td>8/31/2016 22:22</td>\n",
       "      <td>Embarcadero at Sansome</td>\n",
       "      <td>60</td>\n",
       "      <td>8/31/2016 22:26</td>\n",
       "      <td>Broadway St at Battery St</td>\n",
       "      <td>82</td>\n",
       "      <td>347</td>\n",
       "      <td>Subscriber</td>\n",
       "      <td>94133</td>\n",
       "    </tr>\n",
       "    <tr>\n",
       "      <th>313677</th>\n",
       "      <td>1338397</td>\n",
       "      <td>978</td>\n",
       "      <td>8/31/2016 22:28</td>\n",
       "      <td>Harry Bridges Plaza (Ferry Building)</td>\n",
       "      <td>50</td>\n",
       "      <td>8/31/2016 22:45</td>\n",
       "      <td>San Francisco Caltrain (Townsend at 4th)</td>\n",
       "      <td>70</td>\n",
       "      <td>630</td>\n",
       "      <td>Subscriber</td>\n",
       "      <td>94158</td>\n",
       "    </tr>\n",
       "    <tr>\n",
       "      <th>313678</th>\n",
       "      <td>1338398</td>\n",
       "      <td>200</td>\n",
       "      <td>8/31/2016 22:31</td>\n",
       "      <td>S. Market St at Park Ave</td>\n",
       "      <td>89</td>\n",
       "      <td>8/31/2016 22:35</td>\n",
       "      <td>San Pedro Square</td>\n",
       "      <td>6</td>\n",
       "      <td>679</td>\n",
       "      <td>Subscriber</td>\n",
       "      <td>95113</td>\n",
       "    </tr>\n",
       "    <tr>\n",
       "      <th>313679</th>\n",
       "      <td>1338399</td>\n",
       "      <td>312</td>\n",
       "      <td>8/31/2016 22:39</td>\n",
       "      <td>Yerba Buena Center of the Arts (3rd @ Howard)</td>\n",
       "      <td>68</td>\n",
       "      <td>8/31/2016 22:44</td>\n",
       "      <td>2nd at Townsend</td>\n",
       "      <td>61</td>\n",
       "      <td>397</td>\n",
       "      <td>Subscriber</td>\n",
       "      <td>94103</td>\n",
       "    </tr>\n",
       "    <tr>\n",
       "      <th>313680</th>\n",
       "      <td>1338400</td>\n",
       "      <td>682</td>\n",
       "      <td>8/31/2016 22:46</td>\n",
       "      <td>Market at 4th</td>\n",
       "      <td>76</td>\n",
       "      <td>8/31/2016 22:57</td>\n",
       "      <td>Townsend at 7th</td>\n",
       "      <td>65</td>\n",
       "      <td>390</td>\n",
       "      <td>Subscriber</td>\n",
       "      <td>94103</td>\n",
       "    </tr>\n",
       "    <tr>\n",
       "      <th>313681</th>\n",
       "      <td>1338401</td>\n",
       "      <td>1008</td>\n",
       "      <td>8/31/2016 22:50</td>\n",
       "      <td>Commercial at Montgomery</td>\n",
       "      <td>45</td>\n",
       "      <td>8/31/2016 23:07</td>\n",
       "      <td>2nd at Townsend</td>\n",
       "      <td>61</td>\n",
       "      <td>191</td>\n",
       "      <td>Subscriber</td>\n",
       "      <td>94107</td>\n",
       "    </tr>\n",
       "    <tr>\n",
       "      <th>313682</th>\n",
       "      <td>1338402</td>\n",
       "      <td>221</td>\n",
       "      <td>8/31/2016 22:52</td>\n",
       "      <td>San Pedro Square</td>\n",
       "      <td>6</td>\n",
       "      <td>8/31/2016 22:56</td>\n",
       "      <td>S. Market St at Park Ave</td>\n",
       "      <td>89</td>\n",
       "      <td>679</td>\n",
       "      <td>Subscriber</td>\n",
       "      <td>95113</td>\n",
       "    </tr>\n",
       "    <tr>\n",
       "      <th>313683</th>\n",
       "      <td>1338403</td>\n",
       "      <td>198</td>\n",
       "      <td>8/31/2016 22:58</td>\n",
       "      <td>Post at Kearny</td>\n",
       "      <td>47</td>\n",
       "      <td>8/31/2016 23:01</td>\n",
       "      <td>Washington at Kearny</td>\n",
       "      <td>46</td>\n",
       "      <td>509</td>\n",
       "      <td>Customer</td>\n",
       "      <td>28211</td>\n",
       "    </tr>\n",
       "    <tr>\n",
       "      <th>313684</th>\n",
       "      <td>1338404</td>\n",
       "      <td>511</td>\n",
       "      <td>8/31/2016 23:05</td>\n",
       "      <td>Davis at Jackson</td>\n",
       "      <td>42</td>\n",
       "      <td>8/31/2016 23:14</td>\n",
       "      <td>Post at Kearny</td>\n",
       "      <td>47</td>\n",
       "      <td>370</td>\n",
       "      <td>Subscriber</td>\n",
       "      <td>94109</td>\n",
       "    </tr>\n",
       "    <tr>\n",
       "      <th>313685</th>\n",
       "      <td>1338405</td>\n",
       "      <td>701</td>\n",
       "      <td>8/31/2016 23:06</td>\n",
       "      <td>San Francisco Caltrain (Townsend at 4th)</td>\n",
       "      <td>70</td>\n",
       "      <td>8/31/2016 23:17</td>\n",
       "      <td>Spear at Folsom</td>\n",
       "      <td>49</td>\n",
       "      <td>175</td>\n",
       "      <td>Subscriber</td>\n",
       "      <td>94133</td>\n",
       "    </tr>\n",
       "    <tr>\n",
       "      <th>313686</th>\n",
       "      <td>1338406</td>\n",
       "      <td>457</td>\n",
       "      <td>8/31/2016 23:06</td>\n",
       "      <td>Davis at Jackson</td>\n",
       "      <td>42</td>\n",
       "      <td>8/31/2016 23:13</td>\n",
       "      <td>Spear at Folsom</td>\n",
       "      <td>49</td>\n",
       "      <td>504</td>\n",
       "      <td>Subscriber</td>\n",
       "      <td>94111</td>\n",
       "    </tr>\n",
       "    <tr>\n",
       "      <th>313687</th>\n",
       "      <td>1338407</td>\n",
       "      <td>260</td>\n",
       "      <td>8/31/2016 23:09</td>\n",
       "      <td>Embarcadero at Bryant</td>\n",
       "      <td>54</td>\n",
       "      <td>8/31/2016 23:14</td>\n",
       "      <td>Steuart at Market</td>\n",
       "      <td>74</td>\n",
       "      <td>226</td>\n",
       "      <td>Subscriber</td>\n",
       "      <td>94114</td>\n",
       "    </tr>\n",
       "    <tr>\n",
       "      <th>313688</th>\n",
       "      <td>1338408</td>\n",
       "      <td>378</td>\n",
       "      <td>8/31/2016 23:32</td>\n",
       "      <td>Washington at Kearny</td>\n",
       "      <td>46</td>\n",
       "      <td>8/31/2016 23:38</td>\n",
       "      <td>Embarcadero at Sansome</td>\n",
       "      <td>60</td>\n",
       "      <td>667</td>\n",
       "      <td>Subscriber</td>\n",
       "      <td>94111</td>\n",
       "    </tr>\n",
       "  </tbody>\n",
       "</table>\n",
       "<p>313689 rows × 11 columns</p>\n",
       "</div>"
      ],
      "text/plain": [
       "        Trip ID  Duration       Start Date  \\\n",
       "0        913465       746    9/1/2015 0:10   \n",
       "1        913466       969    9/1/2015 0:15   \n",
       "2        913467       233    9/1/2015 0:15   \n",
       "3        913468       213    9/1/2015 1:29   \n",
       "4        913469       574    9/1/2015 1:33   \n",
       "5        913470       623    9/1/2015 1:36   \n",
       "6        913471       746    9/1/2015 2:15   \n",
       "7        913472      1038    9/1/2015 3:38   \n",
       "8        913473       424    9/1/2015 4:23   \n",
       "9        913474       633    9/1/2015 4:57   \n",
       "10       913475       174    9/1/2015 4:58   \n",
       "11       913476       777    9/1/2015 5:02   \n",
       "12       913477       454    9/1/2015 5:38   \n",
       "13       913478       228    9/1/2015 5:39   \n",
       "14       913479       445    9/1/2015 5:43   \n",
       "15       913480       649    9/1/2015 5:43   \n",
       "16       913481       459    9/1/2015 6:01   \n",
       "17       913482       337    9/1/2015 6:02   \n",
       "18       913483       518    9/1/2015 6:10   \n",
       "19       913484       352    9/1/2015 6:10   \n",
       "20       913485       577    9/1/2015 6:11   \n",
       "21       913486       314    9/1/2015 6:13   \n",
       "22       913487       236    9/1/2015 6:16   \n",
       "23       913488       274    9/1/2015 6:22   \n",
       "24       913489       757    9/1/2015 6:21   \n",
       "25       913490       731    9/1/2015 6:22   \n",
       "26       913491       509    9/1/2015 6:22   \n",
       "27       913492       189    9/1/2015 6:31   \n",
       "28       913493       456    9/1/2015 6:32   \n",
       "29       913494       647    9/1/2015 6:34   \n",
       "...         ...       ...              ...   \n",
       "313659  1338375      1786  8/31/2016 21:06   \n",
       "313660  1338376       293  8/31/2016 21:08   \n",
       "313661  1338377       554  8/31/2016 21:09   \n",
       "313662  1338378      9256  8/31/2016 21:14   \n",
       "313663  1338380       220  8/31/2016 21:16   \n",
       "313664  1338381       274  8/31/2016 21:17   \n",
       "313665  1338382       366  8/31/2016 21:19   \n",
       "313666  1338384       281  8/31/2016 21:24   \n",
       "313667  1338386       574  8/31/2016 21:26   \n",
       "313668  1338387       281  8/31/2016 21:29   \n",
       "313669  1338388       775  8/31/2016 21:35   \n",
       "313670  1338390       410  8/31/2016 21:57   \n",
       "313671  1338391       300  8/31/2016 21:59   \n",
       "313672  1338392       637  8/31/2016 22:05   \n",
       "313673  1338393       383  8/31/2016 22:07   \n",
       "313674  1338394       345  8/31/2016 22:10   \n",
       "313675  1338395       550  8/31/2016 22:16   \n",
       "313676  1338396       227  8/31/2016 22:22   \n",
       "313677  1338397       978  8/31/2016 22:28   \n",
       "313678  1338398       200  8/31/2016 22:31   \n",
       "313679  1338399       312  8/31/2016 22:39   \n",
       "313680  1338400       682  8/31/2016 22:46   \n",
       "313681  1338401      1008  8/31/2016 22:50   \n",
       "313682  1338402       221  8/31/2016 22:52   \n",
       "313683  1338403       198  8/31/2016 22:58   \n",
       "313684  1338404       511  8/31/2016 23:05   \n",
       "313685  1338405       701  8/31/2016 23:06   \n",
       "313686  1338406       457  8/31/2016 23:06   \n",
       "313687  1338407       260  8/31/2016 23:09   \n",
       "313688  1338408       378  8/31/2016 23:32   \n",
       "\n",
       "                                        Start Station  Start Terminal  \\\n",
       "0             San Francisco Caltrain 2 (330 Townsend)              69   \n",
       "1                                     Clay at Battery              41   \n",
       "2                                    Davis at Jackson              42   \n",
       "3                                     Clay at Battery              41   \n",
       "4                                   Steuart at Market              74   \n",
       "5                   San Jose Diridon Caltrain Station               2   \n",
       "6                               Embarcadero at Bryant              54   \n",
       "7                                     Townsend at 7th              65   \n",
       "8                                      Market at 10th              67   \n",
       "9                               Embarcadero at Bryant              54   \n",
       "10                                      2nd at Folsom              62   \n",
       "11                                   Davis at Jackson              42   \n",
       "12                                 Powell Street BART              39   \n",
       "13                               Washington at Kearny              46   \n",
       "14                  Civic Center BART (7th at Market)              72   \n",
       "15                                      5th at Howard              57   \n",
       "16           San Francisco Caltrain (Townsend at 4th)              70   \n",
       "17                                    Townsend at 7th              65   \n",
       "18                                    Townsend at 7th              65   \n",
       "19      Temporary Transbay Terminal (Howard at Beale)              55   \n",
       "20                             Embarcadero at Sansome              60   \n",
       "21              Rengstorff Avenue / California Street              33   \n",
       "22      Temporary Transbay Terminal (Howard at Beale)              55   \n",
       "23                               Washington at Kearny              46   \n",
       "24            San Francisco Caltrain 2 (330 Townsend)              69   \n",
       "25            San Francisco Caltrain 2 (330 Townsend)              69   \n",
       "26               Harry Bridges Plaza (Ferry Building)              50   \n",
       "27                                    2nd at Townsend              61   \n",
       "28      Temporary Transbay Terminal (Howard at Beale)              55   \n",
       "29               Harry Bridges Plaza (Ferry Building)              50   \n",
       "...                                               ...             ...   \n",
       "313659                                  Market at 4th              76   \n",
       "313660                Grant Avenue at Columbus Avenue              73   \n",
       "313661  Yerba Buena Center of the Arts (3rd @ Howard)              68   \n",
       "313662                                  Howard at 2nd              63   \n",
       "313663  Yerba Buena Center of the Arts (3rd @ Howard)              68   \n",
       "313664                              2nd at South Park              64   \n",
       "313665                              Market at Sansome              77   \n",
       "313666                                  Market at 4th              76   \n",
       "313667                          Embarcadero at Bryant              54   \n",
       "313668                       Commercial at Montgomery              45   \n",
       "313669                  Powell at Post (Union Square)              71   \n",
       "313670                                  Market at 4th              76   \n",
       "313671                                  2nd at Folsom              62   \n",
       "313672       San Francisco Caltrain (Townsend at 4th)              70   \n",
       "313673        San Francisco Caltrain 2 (330 Townsend)              69   \n",
       "313674       San Francisco Caltrain (Townsend at 4th)              70   \n",
       "313675                Grant Avenue at Columbus Avenue              73   \n",
       "313676                         Embarcadero at Sansome              60   \n",
       "313677           Harry Bridges Plaza (Ferry Building)              50   \n",
       "313678                       S. Market St at Park Ave              89   \n",
       "313679  Yerba Buena Center of the Arts (3rd @ Howard)              68   \n",
       "313680                                  Market at 4th              76   \n",
       "313681                       Commercial at Montgomery              45   \n",
       "313682                               San Pedro Square               6   \n",
       "313683                                 Post at Kearny              47   \n",
       "313684                               Davis at Jackson              42   \n",
       "313685       San Francisco Caltrain (Townsend at 4th)              70   \n",
       "313686                               Davis at Jackson              42   \n",
       "313687                          Embarcadero at Bryant              54   \n",
       "313688                           Washington at Kearny              46   \n",
       "\n",
       "               End Date                               End Station  \\\n",
       "0         9/1/2015 0:23                   San Francisco City Hall   \n",
       "1         9/1/2015 0:31                      Washington at Kearny   \n",
       "2         9/1/2015 0:19                  Commercial at Montgomery   \n",
       "3         9/1/2015 1:32                         Steuart at Market   \n",
       "4         9/1/2015 1:42   San Francisco Caltrain 2 (330 Townsend)   \n",
       "5         9/1/2015 1:47                                 Japantown   \n",
       "6         9/1/2015 2:27                        Powell Street BART   \n",
       "7         9/1/2015 3:56                             Howard at 2nd   \n",
       "8         9/1/2015 4:30                           Townsend at 7th   \n",
       "9         9/1/2015 5:08                    Embarcadero at Sansome   \n",
       "10        9/1/2015 5:01                         Market at Sansome   \n",
       "11        9/1/2015 5:15  San Francisco Caltrain (Townsend at 4th)   \n",
       "12        9/1/2015 5:45   San Francisco Caltrain 2 (330 Townsend)   \n",
       "13        9/1/2015 5:43                         Market at Sansome   \n",
       "14        9/1/2015 5:50  San Francisco Caltrain (Townsend at 4th)   \n",
       "15        9/1/2015 5:54                         Steuart at Market   \n",
       "16        9/1/2015 6:09                             2nd at Folsom   \n",
       "17        9/1/2015 6:07                           2nd at Townsend   \n",
       "18        9/1/2015 6:18                  South Van Ness at Market   \n",
       "19        9/1/2015 6:16                           2nd at Townsend   \n",
       "20        9/1/2015 6:21                           2nd at Townsend   \n",
       "21        9/1/2015 6:19              San Antonio Caltrain Station   \n",
       "22        9/1/2015 6:20                           Clay at Battery   \n",
       "23        9/1/2015 6:26                             Market at 4th   \n",
       "24        9/1/2015 6:34                     Embarcadero at Folsom   \n",
       "25        9/1/2015 6:34                     Embarcadero at Folsom   \n",
       "26        9/1/2015 6:30                           2nd at Townsend   \n",
       "27        9/1/2015 6:35   San Francisco Caltrain 2 (330 Townsend)   \n",
       "28        9/1/2015 6:40                 Broadway St at Battery St   \n",
       "29        9/1/2015 6:45   San Francisco Caltrain 2 (330 Townsend)   \n",
       "...                 ...                                       ...   \n",
       "313659  8/31/2016 21:36                             Market at 4th   \n",
       "313660  8/31/2016 21:13                    Embarcadero at Sansome   \n",
       "313661  8/31/2016 21:18                           2nd at Townsend   \n",
       "313662  8/31/2016 23:48                             Howard at 2nd   \n",
       "313663  8/31/2016 21:20                       5th St at Folsom St   \n",
       "313664  8/31/2016 21:21   San Francisco Caltrain 2 (330 Townsend)   \n",
       "313665  8/31/2016 21:25                           2nd at Townsend   \n",
       "313666  8/31/2016 21:28                      Washington at Kearny   \n",
       "313667  8/31/2016 21:35                           Townsend at 7th   \n",
       "313668  8/31/2016 21:34      Harry Bridges Plaza (Ferry Building)   \n",
       "313669  8/31/2016 21:48                          Davis at Jackson   \n",
       "313670  8/31/2016 22:03   San Francisco Caltrain 2 (330 Townsend)   \n",
       "313671  8/31/2016 22:04                           2nd at Townsend   \n",
       "313672  8/31/2016 22:16                  South Van Ness at Market   \n",
       "313673  8/31/2016 22:13                             5th at Howard   \n",
       "313674  8/31/2016 22:16                           2nd at Townsend   \n",
       "313675  8/31/2016 22:25                           Spear at Folsom   \n",
       "313676  8/31/2016 22:26                 Broadway St at Battery St   \n",
       "313677  8/31/2016 22:45  San Francisco Caltrain (Townsend at 4th)   \n",
       "313678  8/31/2016 22:35                          San Pedro Square   \n",
       "313679  8/31/2016 22:44                           2nd at Townsend   \n",
       "313680  8/31/2016 22:57                           Townsend at 7th   \n",
       "313681  8/31/2016 23:07                           2nd at Townsend   \n",
       "313682  8/31/2016 22:56                  S. Market St at Park Ave   \n",
       "313683  8/31/2016 23:01                      Washington at Kearny   \n",
       "313684  8/31/2016 23:14                            Post at Kearny   \n",
       "313685  8/31/2016 23:17                           Spear at Folsom   \n",
       "313686  8/31/2016 23:13                           Spear at Folsom   \n",
       "313687  8/31/2016 23:14                         Steuart at Market   \n",
       "313688  8/31/2016 23:38                    Embarcadero at Sansome   \n",
       "\n",
       "        End Terminal  Bike # Subscriber Type Zip Code  \n",
       "0                 58     238      Subscriber    94107  \n",
       "1                 46      16      Subscriber    94133  \n",
       "2                 45     534      Subscriber    94111  \n",
       "3                 74     312      Subscriber    94107  \n",
       "4                 69     279      Subscriber    94107  \n",
       "5                  9     261      Subscriber    95112  \n",
       "6                 39     436      Subscriber    94103  \n",
       "7                 63     607      Subscriber    94107  \n",
       "8                 65     259      Subscriber    94102  \n",
       "9                 60     613      Subscriber    94105  \n",
       "10                77     449      Subscriber    94107  \n",
       "11                70      86      Subscriber    94111  \n",
       "12                69     440      Subscriber    94107  \n",
       "13                77     351      Subscriber    94133  \n",
       "14                70     315      Subscriber    94103  \n",
       "15                74     559      Subscriber    94112  \n",
       "16                62     579      Subscriber    94002  \n",
       "17                61     287      Subscriber    94107  \n",
       "18                66     457      Subscriber    94107  \n",
       "19                61     589      Subscriber    94610  \n",
       "20                61     502      Subscriber    94111  \n",
       "21                29     118      Subscriber    94040  \n",
       "22                41     356      Subscriber    94611  \n",
       "23                76     329      Subscriber    94133  \n",
       "24                51     426      Subscriber    94107  \n",
       "25                51     450      Subscriber    94107  \n",
       "26                61     413      Subscriber    94945  \n",
       "27                69     413      Subscriber    95134  \n",
       "28                82     496      Subscriber    94610  \n",
       "29                69     620      Subscriber    94939  \n",
       "...              ...     ...             ...      ...  \n",
       "313659            76     672        Customer    75075  \n",
       "313660            60      69      Subscriber    94133  \n",
       "313661            61     614      Subscriber    94107  \n",
       "313662            63     259        Customer      nil  \n",
       "313663            90     652      Subscriber    94710  \n",
       "313664            69     442      Subscriber    95126  \n",
       "313665            61     517      Subscriber    94119  \n",
       "313666            46     498      Subscriber    94133  \n",
       "313667            65     273      Subscriber    94107  \n",
       "313668            50     495      Subscriber    94107  \n",
       "313669            42     504      Subscriber    94109  \n",
       "313670            69     530      Subscriber    94107  \n",
       "313671            61     694      Subscriber    94107  \n",
       "313672            66     524      Subscriber    94117  \n",
       "313673            57     189      Subscriber    94103  \n",
       "313674            61     415      Subscriber    94107  \n",
       "313675            49     589      Subscriber    94619  \n",
       "313676            82     347      Subscriber    94133  \n",
       "313677            70     630      Subscriber    94158  \n",
       "313678             6     679      Subscriber    95113  \n",
       "313679            61     397      Subscriber    94103  \n",
       "313680            65     390      Subscriber    94103  \n",
       "313681            61     191      Subscriber    94107  \n",
       "313682            89     679      Subscriber    95113  \n",
       "313683            46     509        Customer    28211  \n",
       "313684            47     370      Subscriber    94109  \n",
       "313685            49     175      Subscriber    94133  \n",
       "313686            49     504      Subscriber    94111  \n",
       "313687            74     226      Subscriber    94114  \n",
       "313688            60     667      Subscriber    94111  \n",
       "\n",
       "[313689 rows x 11 columns]"
      ]
     },
     "execution_count": 9,
     "metadata": {},
     "output_type": "execute_result"
    }
   ],
   "source": [
    "df4 = pd.read_csv(\"201608_trip_data.csv\")\n",
    "df4"
   ]
  },
  {
   "cell_type": "code",
   "execution_count": 10,
   "metadata": {
    "collapsed": false
   },
   "outputs": [
    {
     "name": "stdout",
     "output_type": "stream",
     "text": [
      "The total no of rides in Mountain View city is :6512\n"
     ]
    }
   ],
   "source": [
    "df1_rdmv = df1[(df1['city'] == 'Mountain View')]\n",
    "df1_rdmv = df1_rdmv.drop(df1_rdmv.columns[[2,3,4,6]], axis=1)\n",
    "df1_rdmv = df1_rdmv.set_index('id')\n",
    "df1_rdmv = df1_rdmv.index\n",
    "count_rides = df4.groupby(df4['Start Terminal']).size()\n",
    "\n",
    "i = 0\n",
    "rdmv = 0\n",
    "while i < len(df1_rdmv):\n",
    "    rdmv += count_rides.ix[df1_rdmv[i]]\n",
    "    i += 1\n",
    "print 'The total no of rides in Mountain View city is :' + repr(rdmv)\n"
   ]
  },
  {
   "cell_type": "code",
   "execution_count": 11,
   "metadata": {
    "collapsed": false
   },
   "outputs": [
    {
     "name": "stdout",
     "output_type": "stream",
     "text": [
      "The total no of rides in Palo Alto city is :3116\n"
     ]
    }
   ],
   "source": [
    "df1_rdpa = df1[(df1['city'] == 'Palo Alto')]\n",
    "df1_rdpa = df1_rdpa.drop(df1_rdpa.columns[[2,3,4,6]], axis=1)\n",
    "df1_rdpa = df1_rdpa.set_index('id')\n",
    "df1_rdpa = df1_rdpa.index\n",
    "x = 0\n",
    "rdpa = 0\n",
    "while x < len(df1_rdpa):\n",
    "    rdpa += count_rides.ix[df1_rdpa[x]]\n",
    "    x += 1\n",
    "print 'The total no of rides in Palo Alto city is :' + repr(rdpa)"
   ]
  },
  {
   "cell_type": "code",
   "execution_count": 12,
   "metadata": {
    "collapsed": false
   },
   "outputs": [
    {
     "name": "stdout",
     "output_type": "stream",
     "text": [
      "The total no of rides in Redwood City is :1563\n"
     ]
    }
   ],
   "source": [
    "df1_rdrc = df1[(df1['city'] == 'Redwood City')]\n",
    "df1_rdrc = df1_rdrc.drop(df1_rdrc.columns[[2,3,4,6]], axis=1)\n",
    "df1_rdrc = df1_rdrc.set_index('id')\n",
    "df1_rdrc = df1_rdrc.index\n",
    "j = 0\n",
    "rdrc = 0\n",
    "while j < len(df1_rdrc):\n",
    "    rdrc += count_rides.ix[df1_rdrc[j]]\n",
    "    j += 1\n",
    "print 'The total no of rides in Redwood City is :' + repr(rdrc)\n"
   ]
  },
  {
   "cell_type": "code",
   "execution_count": 13,
   "metadata": {
    "collapsed": false
   },
   "outputs": [
    {
     "name": "stdout",
     "output_type": "stream",
     "text": [
      "The total no of rides in San Francisco city is :287273\n"
     ]
    }
   ],
   "source": [
    "df1_rdsf = df1[(df1['city'] == 'San Francisco')]\n",
    "df1_rdsf = df1_rdsf.drop(df1_rdsf.columns[[2,3,4,6]], axis=1)\n",
    "df1_rdsf = df1_rdsf.set_index('id')\n",
    "df1_rdsf = df1_rdsf.index\n",
    "k = 0\n",
    "rdsf = 0\n",
    "while k < len(df1_rdsf):\n",
    "    rdsf += count_rides.ix[df1_rdsf[k]]\n",
    "    k += 1\n",
    "print 'The total no of rides in San Francisco city is :' + repr(rdsf)"
   ]
  },
  {
   "cell_type": "code",
   "execution_count": 14,
   "metadata": {
    "collapsed": false
   },
   "outputs": [
    {
     "name": "stdout",
     "output_type": "stream",
     "text": [
      "The total no of rides in San Jose city is :14879\n"
     ]
    }
   ],
   "source": [
    "df1_rdsj = df1[(df1['city'] == 'San Jose')]\n",
    "df1_rdsj = df1_rdsj.drop(df1_rdsj.columns[[2,3,4,6]], axis=1)\n",
    "df1_rdsj = df1_rdsj.set_index('id')\n",
    "df1_rdsj = df1_rdsj.index\n",
    "l = 0\n",
    "rdsj = 0\n",
    "while l < len(df1_rdsj):\n",
    "    rdsj += count_rides.ix[df1_rdsj[l]]\n",
    "    l += 1\n",
    "print 'The total no of rides in San Jose city is :' + repr(rdsj)"
   ]
  },
  {
   "cell_type": "code",
   "execution_count": 15,
   "metadata": {
    "collapsed": false
   },
   "outputs": [
    {
     "name": "stdout",
     "output_type": "stream",
     "text": [
      "365 days, 23:22:00\n",
      "The difference between the time of first ride and last ride isdatetime.timedelta(365, 84120)\n"
     ]
    }
   ],
   "source": [
    "diff1 = df4['Start Date'][len(df4)-1]\n",
    "#- df4['Start Date'][0]\n",
    "diff1 = datetime.strptime(diff1, \"%m/%d/%Y %H:%M\")\n",
    "diff1\n",
    "\n",
    "diff2 = df4['Start Date'][0]\n",
    "diff2 = datetime.strptime(diff2, \"%m/%d/%Y %H:%M\")\n",
    "diff2\n",
    "\n",
    "diff = diff1 - diff2\n",
    "print diff\n",
    "print 'The difference between the time of first ride and last ride is' + repr(diff)"
   ]
  },
  {
   "cell_type": "markdown",
   "metadata": {},
   "source": [
    "### Caluclating total number of rides in the entire time duration from 9/1/2015 to 8/31/2016"
   ]
  },
  {
   "cell_type": "code",
   "execution_count": 16,
   "metadata": {
    "collapsed": false
   },
   "outputs": [
    {
     "name": "stdout",
     "output_type": "stream",
     "text": [
      "Total number of rides in this entire duration is :313343\n"
     ]
    }
   ],
   "source": [
    "tot_rd = rdmv + rdpa + rdrc + rdsf + rdsj\n",
    "print 'Total number of rides in this entire duration is :' + repr(tot_rd)"
   ]
  },
  {
   "cell_type": "code",
   "execution_count": null,
   "metadata": {
    "collapsed": false
   },
   "outputs": [],
   "source": []
  },
  {
   "cell_type": "code",
   "execution_count": 17,
   "metadata": {
    "collapsed": false
   },
   "outputs": [
    {
     "data": {
      "image/png": "[encoded data removed]",
      "text/plain": [
       "<matplotlib.figure.Figure at 0x14af15f8>"
      ]
     },
     "metadata": {},
     "output_type": "display_data"
    }
   ],
   "source": [
    "plt.subplots(figsize=(7,5))\n",
    "labels = count_stations.index\n",
    "sizes = [rdmv, rdpa, rdrc, rdsf,rdsj ]\n",
    "colors = ['yellowgreen', 'gold', 'lightskyblue', 'lightcoral','red']\n",
    "explode = (0, 0, 0, 0,0)\n",
    "plt.pie(sizes, explode=explode,labels=labels,colors=colors, shadow=True, autopct='%1.1f%%',startangle=0)\n",
    "plt.axis('equal')\n",
    "plt.show()"
   ]
  },
  {
   "cell_type": "markdown",
   "metadata": {},
   "source": [
    "## The data I analyzed here came from rides between September 1, 2015 and August 31, 2016. In those 365 days 23 hrs 22 minutes and 00 seconds there were 313343 rides"
   ]
  },
  {
   "cell_type": "markdown",
   "metadata": {},
   "source": [
    "## 4) We can now analyze some popoular start stations and end stations"
   ]
  },
  {
   "cell_type": "code",
   "execution_count": 18,
   "metadata": {
    "collapsed": false
   },
   "outputs": [],
   "source": [
    "pop_srt_st = df4['Start Station'].groupby(df4['Start Station']).size()"
   ]
  },
  {
   "cell_type": "code",
   "execution_count": 19,
   "metadata": {
    "collapsed": false
   },
   "outputs": [
    {
     "name": "stderr",
     "output_type": "stream",
     "text": [
      "C:\\Users\\Tjpat\\AppData\\Local\\Enthought\\Canopy\\User\\lib\\site-packages\\ipykernel\\__main__.py:1: FutureWarning:\n",
      "\n",
      "sort is deprecated, use sort_values(inplace=True) for INPLACE sorting\n",
      "\n"
     ]
    }
   ],
   "source": [
    "pop_srt_st.sort(ascending=False)"
   ]
  },
  {
   "cell_type": "code",
   "execution_count": 20,
   "metadata": {
    "collapsed": false
   },
   "outputs": [
    {
     "name": "stdout",
     "output_type": "stream",
     "text": [
      "Start Station\n",
      "San Francisco Caltrain (Townsend at 4th)         23591\n",
      "San Francisco Caltrain 2 (330 Townsend)          22358\n",
      "Harry Bridges Plaza (Ferry Building)             16128\n",
      "2nd at Townsend                                  14099\n",
      "Steuart at Market                                13693\n",
      "Embarcadero at Sansome                           13424\n",
      "Temporary Transbay Terminal (Howard at Beale)    13111\n",
      "Townsend at 7th                                  11170\n",
      "Market at Sansome                                10970\n",
      "Market at 10th                                    9937\n",
      "dtype: int64\n"
     ]
    }
   ],
   "source": [
    "print pop_srt_st[0:10]"
   ]
  },
  {
   "cell_type": "code",
   "execution_count": 21,
   "metadata": {
    "collapsed": false
   },
   "outputs": [
    {
     "name": "stdout",
     "output_type": "stream",
     "text": [
      "The most popular starting station of bay area bike share is 'San Francisco Caltrain (Townsend at 4th)'having total rides of 23591\n"
     ]
    }
   ],
   "source": [
    "print 'The most popular starting station of bay area bike share is ' + repr(pop_srt_st.index[0]) + 'having total rides of ' + repr(pop_srt_st.max())"
   ]
  },
  {
   "cell_type": "code",
   "execution_count": 22,
   "metadata": {
    "collapsed": true
   },
   "outputs": [],
   "source": [
    "pop_end_st = df4['End Station'].groupby(df4['End Station']).size()"
   ]
  },
  {
   "cell_type": "code",
   "execution_count": 23,
   "metadata": {
    "collapsed": false
   },
   "outputs": [
    {
     "name": "stderr",
     "output_type": "stream",
     "text": [
      "C:\\Users\\Tjpat\\AppData\\Local\\Enthought\\Canopy\\User\\lib\\site-packages\\ipykernel\\__main__.py:1: FutureWarning:\n",
      "\n",
      "sort is deprecated, use sort_values(inplace=True) for INPLACE sorting\n",
      "\n"
     ]
    }
   ],
   "source": [
    "pop_end_st.sort(ascending=False)"
   ]
  },
  {
   "cell_type": "code",
   "execution_count": 24,
   "metadata": {
    "collapsed": false
   },
   "outputs": [
    {
     "name": "stdout",
     "output_type": "stream",
     "text": [
      "End Station\n",
      "San Francisco Caltrain (Townsend at 4th)         28835\n",
      "San Francisco Caltrain 2 (330 Townsend)          23596\n",
      "Harry Bridges Plaza (Ferry Building)             16992\n",
      "2nd at Townsend                                  15616\n",
      "Embarcadero at Sansome                           15401\n",
      "Steuart at Market                                14573\n",
      "Market at Sansome                                12923\n",
      "Temporary Transbay Terminal (Howard at Beale)    12397\n",
      "Townsend at 7th                                  11908\n",
      "Market at 10th                                    8046\n",
      "dtype: int64\n"
     ]
    }
   ],
   "source": [
    "print pop_end_st[0:10]"
   ]
  },
  {
   "cell_type": "code",
   "execution_count": 25,
   "metadata": {
    "collapsed": false
   },
   "outputs": [
    {
     "name": "stdout",
     "output_type": "stream",
     "text": [
      "The most popular ending station of bay area bike share is 'San Francisco Caltrain (Townsend at 4th)'having total rides of 28835\n"
     ]
    }
   ],
   "source": [
    "print 'The most popular ending station of bay area bike share is ' + repr(pop_end_st.index[0]) + 'having total rides of ' + repr(pop_end_st.max())"
   ]
  },
  {
   "cell_type": "markdown",
   "metadata": {},
   "source": [
    "## 5) Now lets analyze Who are the users of bay area bike share"
   ]
  },
  {
   "cell_type": "code",
   "execution_count": 26,
   "metadata": {
    "collapsed": false
   },
   "outputs": [
    {
     "name": "stdout",
     "output_type": "stream",
     "text": [
      "Subscriber Type\n",
      "Customer       33596\n",
      "Subscriber    280093\n",
      "dtype: int64\n"
     ]
    },
    {
     "data": {
      "image/png": "[encoded data removed]",
      "text/plain": [
       "<matplotlib.figure.Figure at 0x1429c908>"
      ]
     },
     "metadata": {},
     "output_type": "display_data"
    }
   ],
   "source": [
    "count_customers = df4.groupby(df4['Subscriber Type']).size()\n",
    "print count_customers\n",
    "\n",
    "labels = count_customers.index\n",
    "sizes = count_customers.values\n",
    "colors = ['yellowgreen','lightskyblue']\n",
    "explode = (0, 0.1)\n",
    "plt.pie(sizes, explode=explode,labels=labels,colors=colors, shadow=True, autopct='%1.1f%%',startangle=0)\n",
    "plt.axis('equal')\n",
    "plt.show()"
   ]
  },
  {
   "cell_type": "markdown",
   "metadata": {
    "collapsed": false
   },
   "source": [
    "#  Almost 90% of riders have an annual subscription. The remaining 10% of riders were customers who purchased a 24-hour or 3-day pass."
   ]
  },
  {
   "cell_type": "code",
   "execution_count": null,
   "metadata": {
    "collapsed": true
   },
   "outputs": [],
   "source": []
  },
  {
   "cell_type": "markdown",
   "metadata": {
    "collapsed": false
   },
   "source": [
    "## 6) When is Bay Area Bike Share used?"
   ]
  },
  {
   "cell_type": "markdown",
   "metadata": {},
   "source": [
    "## First lets see how does users uses bikes in a week "
   ]
  },
  {
   "cell_type": "code",
   "execution_count": 27,
   "metadata": {
    "collapsed": false
   },
   "outputs": [],
   "source": [
    "h = 0\n",
    "dt_st = []\n",
    "while h < len(df4['Start Date']):\n",
    "    dt_st.append(df4['Start Date'][h].split()[0])\n",
    "    h += 1\n",
    "#print dt_st"
   ]
  },
  {
   "cell_type": "code",
   "execution_count": 28,
   "metadata": {
    "collapsed": false,
    "scrolled": true
   },
   "outputs": [],
   "source": [
    "k=0\n",
    "wkday =[]\n",
    "while k < len(dt_st):\n",
    "    wkday.append(calendar.day_name[datetime.strptime(dt_st[k],\"%m/%d/%Y\").weekday()])\n",
    "    k += 1\n",
    "#print wkday"
   ]
  },
  {
   "cell_type": "code",
   "execution_count": 29,
   "metadata": {
    "collapsed": false,
    "scrolled": false
   },
   "outputs": [],
   "source": [
    "wkd = pd.Series(wkday)\n",
    "df4['Weekday'] = wkd\n",
    "#df4"
   ]
  },
  {
   "cell_type": "code",
   "execution_count": 30,
   "metadata": {
    "collapsed": false
   },
   "outputs": [
    {
     "name": "stdout",
     "output_type": "stream",
     "text": [
      "Weekday\n",
      "Friday       50616\n",
      "Monday       54064\n",
      "Saturday     15494\n",
      "Sunday       12984\n",
      "Thursday     57819\n",
      "Tuesday      62146\n",
      "Wednesday    60566\n",
      "dtype: int64\n"
     ]
    }
   ],
   "source": [
    "count_wkd = df4.groupby(df4['Weekday']).size()\n",
    "print count_wkd"
   ]
  },
  {
   "cell_type": "code",
   "execution_count": 31,
   "metadata": {
    "collapsed": false,
    "scrolled": true
   },
   "outputs": [
    {
     "data": {
      "image/png": "[encoded data removed]",
      "text/plain": [
       "<matplotlib.figure.Figure at 0x142bb668>"
      ]
     },
     "metadata": {},
     "output_type": "display_data"
    }
   ],
   "source": [
    "fig, ax = plt.subplots(figsize=(10, 5))\n",
    "objects = count_wkd.index\n",
    "y_pos = np.arange(len(objects)) \n",
    "pt = plt.bar(y_pos, count_wkd, align='center', color='#2677C0')\n",
    "\n",
    "\n",
    "plt.xticks(y_pos, objects)\n",
    "plt.ylabel('Rides',fontsize='30')\n",
    "plt.xlabel('Weekdays',fontsize='30')\n",
    "plt.title('Rides by Weekday',fontsize='30')\n",
    "\n",
    "\n",
    "plt.show()"
   ]
  },
  {
   "cell_type": "markdown",
   "metadata": {},
   "source": [
    "# The above graph clearly shows the usage of bikes during weekdays in the entire duration from 9/1/2015 to 8/31/2016. Now,lets dig deeper to see how different types of users use these bikes during the weekdays "
   ]
  },
  {
   "cell_type": "code",
   "execution_count": 32,
   "metadata": {
    "collapsed": false
   },
   "outputs": [
    {
     "data": {
      "text/plain": [
       "Subscriber Type\n",
       "Customer      6221\n",
       "Subscriber    6763\n",
       "dtype: int64"
      ]
     },
     "execution_count": 32,
     "metadata": {},
     "output_type": "execute_result"
    }
   ],
   "source": [
    "rdc_sun = df4[(df4['Weekday'] == 'Sunday')] \n",
    "rdc_sun = rdc_sun.groupby(rdc_sun['Subscriber Type']).size()\n",
    "rdc_sun"
   ]
  },
  {
   "cell_type": "code",
   "execution_count": 33,
   "metadata": {
    "collapsed": false
   },
   "outputs": [
    {
     "data": {
      "text/plain": [
       "Subscriber Type\n",
       "Customer       3673\n",
       "Subscriber    50391\n",
       "dtype: int64"
      ]
     },
     "execution_count": 33,
     "metadata": {},
     "output_type": "execute_result"
    }
   ],
   "source": [
    "rdc_mon = df4[(df4['Weekday'] == 'Monday')] \n",
    "rdc_mon = rdc_mon.groupby(rdc_mon['Subscriber Type']).size()\n",
    "rdc_mon"
   ]
  },
  {
   "cell_type": "code",
   "execution_count": 34,
   "metadata": {
    "collapsed": false
   },
   "outputs": [
    {
     "data": {
      "text/plain": [
       "Subscriber Type\n",
       "Customer       3697\n",
       "Subscriber    58449\n",
       "dtype: int64"
      ]
     },
     "execution_count": 34,
     "metadata": {},
     "output_type": "execute_result"
    }
   ],
   "source": [
    "rdc_tue = df4[(df4['Weekday'] == 'Tuesday')] \n",
    "rdc_tue = rdc_tue.groupby(rdc_tue['Subscriber Type']).size()\n",
    "rdc_tue"
   ]
  },
  {
   "cell_type": "code",
   "execution_count": 35,
   "metadata": {
    "collapsed": false
   },
   "outputs": [
    {
     "data": {
      "text/plain": [
       "Subscriber Type\n",
       "Customer       3742\n",
       "Subscriber    56824\n",
       "dtype: int64"
      ]
     },
     "execution_count": 35,
     "metadata": {},
     "output_type": "execute_result"
    }
   ],
   "source": [
    "rdc_wed = df4[(df4['Weekday'] == 'Wednesday')] \n",
    "rdc_wed = rdc_wed.groupby(rdc_wed['Subscriber Type']).size()\n",
    "rdc_wed"
   ]
  },
  {
   "cell_type": "code",
   "execution_count": 36,
   "metadata": {
    "collapsed": false
   },
   "outputs": [
    {
     "data": {
      "text/plain": [
       "Subscriber Type\n",
       "Customer       4161\n",
       "Subscriber    53658\n",
       "dtype: int64"
      ]
     },
     "execution_count": 36,
     "metadata": {},
     "output_type": "execute_result"
    }
   ],
   "source": [
    "rdc_th = df4[(df4['Weekday'] == 'Thursday')] \n",
    "rdc_th = rdc_th.groupby(rdc_th['Subscriber Type']).size()\n",
    "rdc_th"
   ]
  },
  {
   "cell_type": "code",
   "execution_count": 37,
   "metadata": {
    "collapsed": false
   },
   "outputs": [
    {
     "data": {
      "text/plain": [
       "Subscriber Type\n",
       "Customer       4983\n",
       "Subscriber    45633\n",
       "dtype: int64"
      ]
     },
     "execution_count": 37,
     "metadata": {},
     "output_type": "execute_result"
    }
   ],
   "source": [
    "rdc_fr = df4[(df4['Weekday'] == 'Friday')] \n",
    "rdc_fr = rdc_fr.groupby(rdc_fr['Subscriber Type']).size()\n",
    "rdc_fr"
   ]
  },
  {
   "cell_type": "code",
   "execution_count": 38,
   "metadata": {
    "collapsed": false
   },
   "outputs": [
    {
     "data": {
      "text/plain": [
       "Subscriber Type\n",
       "Customer      7119\n",
       "Subscriber    8375\n",
       "dtype: int64"
      ]
     },
     "execution_count": 38,
     "metadata": {},
     "output_type": "execute_result"
    }
   ],
   "source": [
    "rdc_sat = df4[(df4['Weekday'] == 'Saturday')] \n",
    "rdc_sat = rdc_sat.groupby(rdc_sat['Subscriber Type']).size()\n",
    "rdc_sat"
   ]
  },
  {
   "cell_type": "code",
   "execution_count": 39,
   "metadata": {
    "collapsed": false
   },
   "outputs": [
    {
     "data": {
      "image/png": "[encoded data removed]",
      "text/plain": [
       "<matplotlib.figure.Figure at 0xc29eb38>"
      ]
     },
     "metadata": {},
     "output_type": "display_data"
    }
   ],
   "source": [
    "#data to plot\n",
    "fig, ax = plt.subplots(figsize=(15, 5))\n",
    "N = 7\n",
    "customer = (rdc_fr[0],rdc_mon[0],rdc_sat[0],rdc_sun[0],rdc_th[0],rdc_tue[0],rdc_wed[0])\n",
    "subscriber = (rdc_fr[1],rdc_mon[1],rdc_sat[1],rdc_sun[1],rdc_th[1],rdc_tue[1],rdc_wed[1])\n",
    "Sum = ('count_wkd[0]','count_wkd[1]','count_wkd[2]','count_wkd[3]','count_wkd[4]','count_wkd[5]','count_wkd[6]')\n",
    "ind = np.arange(N)\n",
    "width = 0.5\n",
    "\n",
    "# create a plot\n",
    "p1 = plt.bar(ind, customer, width, color = '#01B500',align = 'center',bottom = subscriber)\n",
    "p2 = plt.bar(ind, subscriber, width, color = '#2677C0',align = 'center')\n",
    "\n",
    "for r1,r2 in zip(p1,p2):\n",
    "    h1 = r1.get_height()\n",
    "    h2 = r2.get_height()\n",
    "    plt.text(r1.get_x()+r1.get_width()/2., h1+h2, '%d'% (h1+h2), ha = 'center', va='bottom')\n",
    "\n",
    "plt.ylabel('Rides',fontsize='30')\n",
    "plt.xlabel('Weekdays',fontsize='30')\n",
    "#ax.yaxis.label.set_size(25)\n",
    "plt.title('Rides By Weekday by Subscriber Type',fontsize='30')\n",
    "plt.xticks(ind+width/12., (count_wkd.index))\n",
    "#plt.yticks(count_wkd.values)\n",
    "plt.legend((p1[0], p2[0]), ('Customer', 'Subscriber'), loc = 2, frameon = 'false',bbox_to_anchor=(1.05, 1), borderaxespad=0.)\n",
    "plt.tick_params(top = 'off', bottom = 'off', right = 'off')\n",
    "#plt.grid(axis = 'y', linestyle = '-')\n",
    "\n",
    "plt.show()\n"
   ]
  },
  {
   "cell_type": "markdown",
   "metadata": {},
   "source": [
    "# By grouping the rides by weekday and analyzing how subscribers' use bay area bike share to customers we get to know that, Weekday riders are overwhelmingly subscribers, and ridership among subscribers falls on weekends so that rides by customers just manage to outnumber them."
   ]
  },
  {
   "cell_type": "code",
   "execution_count": null,
   "metadata": {
    "collapsed": false,
    "scrolled": true
   },
   "outputs": [],
   "source": [
    "\n"
   ]
  },
  {
   "cell_type": "code",
   "execution_count": null,
   "metadata": {
    "collapsed": false
   },
   "outputs": [],
   "source": []
  },
  {
   "cell_type": "markdown",
   "metadata": {},
   "source": [
    "# 7) Grouping the rides by time of day:"
   ]
  },
  {
   "cell_type": "code",
   "execution_count": 40,
   "metadata": {
    "collapsed": false
   },
   "outputs": [],
   "source": [
    "h = 0\n",
    "dt_time = []\n",
    "while h < len(df4['Start Date']):\n",
    "    dt_time.append(df4['Start Date'][h].split()[1])\n",
    "    h += 1\n",
    "#print dt_time"
   ]
  },
  {
   "cell_type": "code",
   "execution_count": null,
   "metadata": {
    "collapsed": true
   },
   "outputs": [],
   "source": []
  },
  {
   "cell_type": "code",
   "execution_count": 41,
   "metadata": {
    "collapsed": false,
    "scrolled": true
   },
   "outputs": [
    {
     "data": {
      "text/plain": [
       "{'Afternoon', 'Daytime', 'Morning', 'Nighttime', 'Overnight'}"
      ]
     },
     "execution_count": 41,
     "metadata": {},
     "output_type": "execute_result"
    }
   ],
   "source": [
    "time_rides = {'Morning', 'Daytime', 'Afternoon','Nighttime','Overnight'}\n",
    "time_rides"
   ]
  },
  {
   "cell_type": "code",
   "execution_count": 42,
   "metadata": {
    "collapsed": false
   },
   "outputs": [
    {
     "name": "stdout",
     "output_type": "stream",
     "text": [
      "59178\n"
     ]
    }
   ],
   "source": [
    "k=0\n",
    "daytime =[]\n",
    "while k < len(dt_time):\n",
    "    if dt_time[k] >= '10:00'and dt_time[k] <= '14:59':\n",
    "        daytime.append(dt_time[k])\n",
    "    k += 1\n",
    "\n",
    "print len(daytime)"
   ]
  },
  {
   "cell_type": "code",
   "execution_count": 43,
   "metadata": {
    "collapsed": false
   },
   "outputs": [
    {
     "name": "stdout",
     "output_type": "stream",
     "text": [
      "114573\n"
     ]
    }
   ],
   "source": [
    "k1=0\n",
    "afternoon =[]\n",
    "while k1 < len(dt_time):\n",
    "    if dt_time[k1] >= '15:00'and dt_time[k1] <= '18:59':\n",
    "        afternoon.append(dt_time[k1])\n",
    "    k1 += 1\n",
    "\n",
    "print len(afternoon)"
   ]
  },
  {
   "cell_type": "code",
   "execution_count": 44,
   "metadata": {
    "collapsed": false
   },
   "outputs": [
    {
     "name": "stdout",
     "output_type": "stream",
     "text": [
      "109620\n"
     ]
    }
   ],
   "source": [
    "k2=0\n",
    "morning =[]\n",
    "while k2 < len(dt_time):\n",
    "    if dt_time[k2] >= '6:00'and dt_time[k2] <= '9:59':\n",
    "        morning.append(dt_time[k2])\n",
    "    k2 += 1\n",
    "\n",
    "print len(morning)"
   ]
  },
  {
   "cell_type": "code",
   "execution_count": 45,
   "metadata": {
    "collapsed": false
   },
   "outputs": [
    {
     "name": "stdout",
     "output_type": "stream",
     "text": [
      "27072\n"
     ]
    }
   ],
   "source": [
    "k3=0\n",
    "night =[]\n",
    "while k3 < len(dt_time):\n",
    "    if dt_time[k3] >= '19:00'and dt_time[k3] < '23:59':\n",
    "        night.append(dt_time[k3])\n",
    "    k3 += 1\n",
    "\n",
    "print len(night)"
   ]
  },
  {
   "cell_type": "code",
   "execution_count": 46,
   "metadata": {
    "collapsed": false
   },
   "outputs": [
    {
     "name": "stdout",
     "output_type": "stream",
     "text": [
      "2473\n"
     ]
    }
   ],
   "source": [
    "k4=0\n",
    "overnight1 =[]\n",
    "while k4 < len(dt_time):\n",
    "    if dt_time[k4] >= '2:00' and dt_time[k4] <= '5:59':\n",
    "        overnight1.append(dt_time[k4])\n",
    "    k4 += 1\n",
    "\n",
    "print len(overnight1)"
   ]
  },
  {
   "cell_type": "code",
   "execution_count": 47,
   "metadata": {
    "collapsed": false
   },
   "outputs": [
    {
     "name": "stdout",
     "output_type": "stream",
     "text": [
      "758\n"
     ]
    }
   ],
   "source": [
    "k4=0\n",
    "overnight2 =[]\n",
    "while k4 < len(dt_time):\n",
    "    if dt_time[k4] >= '0:00' and dt_time[k4] <= '0:59':\n",
    "        overnight2.append(dt_time[k4])\n",
    "    k4 += 1\n",
    "\n",
    "print len(overnight2)"
   ]
  },
  {
   "cell_type": "code",
   "execution_count": 48,
   "metadata": {
    "collapsed": false
   },
   "outputs": [
    {
     "name": "stdout",
     "output_type": "stream",
     "text": [
      "422\n",
      "3653\n"
     ]
    }
   ],
   "source": [
    "k4=0\n",
    "overnight3 =[]\n",
    "while k4 < len(dt_time):\n",
    "    if dt_time[k4] >= '1:00' and dt_time[k4] <= '1:59':\n",
    "        overnight3.append(dt_time[k4])\n",
    "    k4 += 1\n",
    "\n",
    "print len(overnight3)\n",
    "\n",
    "overnight = overnight1 + overnight2 + overnight3\n",
    "print len(overnight)"
   ]
  },
  {
   "cell_type": "code",
   "execution_count": 49,
   "metadata": {
    "collapsed": false
   },
   "outputs": [
    {
     "data": {
      "image/png": "[encoded data removed]",
      "text/plain": [
       "<matplotlib.figure.Figure at 0x158739e8>"
      ]
     },
     "metadata": {},
     "output_type": "display_data"
    }
   ],
   "source": [
    "fig, ax = plt.subplots(figsize=(10, 5))\n",
    "objects = time_rides\n",
    "y_pos = np.arange(len(objects)) \n",
    "values = [len(morning),len(night),len(overnight),len(daytime),len(afternoon)]\n",
    "pt = plt.bar(y_pos, values, align='center', color='#2677C0')\n",
    "\n",
    "\n",
    "plt.xticks(y_pos, objects)\n",
    "plt.ylabel('Rides',fontsize='30')\n",
    "plt.xlabel('Time of the Day',fontsize='30')\n",
    "plt.title('Rides by Time of the Day',fontsize='30')\n",
    "\n",
    "\n",
    "plt.show()"
   ]
  },
  {
   "cell_type": "markdown",
   "metadata": {},
   "source": [
    "# As we can see from the above plot that bay area bike share is mostly used in the afternoon followed my morning.Now we can dig deeper and see that how subscribers and customers use bay area bike during th entire day and also analyze the rides by hour. "
   ]
  },
  {
   "cell_type": "code",
   "execution_count": 50,
   "metadata": {
    "collapsed": false
   },
   "outputs": [],
   "source": [
    "i = 0\n",
    "lst = []\n",
    "while i < len(df4):\n",
    "    if df4['Subscriber Type'][i] == 'Subscriber':\n",
    "        lst.append(df4['Start Date'][i])\n",
    "    i += 1\n",
    "#print lst"
   ]
  },
  {
   "cell_type": "code",
   "execution_count": 51,
   "metadata": {
    "collapsed": false
   },
   "outputs": [],
   "source": [
    "i = 0\n",
    "sub =[]\n",
    "while i < len(lst):\n",
    "    sub.append(lst[i].split()[1])\n",
    "    i += 1\n",
    "#print sub"
   ]
  },
  {
   "cell_type": "code",
   "execution_count": 52,
   "metadata": {
    "collapsed": false
   },
   "outputs": [
    {
     "name": "stdout",
     "output_type": "stream",
     "text": [
      "45361\n"
     ]
    }
   ],
   "source": [
    "k=0\n",
    "sub_day =[]\n",
    "while k < len(sub):\n",
    "    if sub[k] >= '10:00'and sub[k] <= '14:59':\n",
    "        sub_day.append(sub[k])\n",
    "    k += 1\n",
    "\n",
    "print len(sub_day)"
   ]
  },
  {
   "cell_type": "code",
   "execution_count": 53,
   "metadata": {
    "collapsed": false
   },
   "outputs": [
    {
     "name": "stdout",
     "output_type": "stream",
     "text": [
      "103239\n"
     ]
    }
   ],
   "source": [
    "k=0\n",
    "sub_aft =[]\n",
    "while k < len(sub):\n",
    "    if sub[k] >= '15:00'and sub[k] <= '18:59':\n",
    "        sub_aft.append(sub[k])\n",
    "    k += 1\n",
    "\n",
    "print len(sub_aft)"
   ]
  },
  {
   "cell_type": "code",
   "execution_count": 54,
   "metadata": {
    "collapsed": false
   },
   "outputs": [
    {
     "name": "stdout",
     "output_type": "stream",
     "text": [
      "23215\n"
     ]
    }
   ],
   "source": [
    "k=0\n",
    "sub_ngt =[]\n",
    "while k < len(sub):\n",
    "    if sub[k] >= '19:00'and sub[k] <= '23:59':\n",
    "        sub_ngt.append(sub[k])\n",
    "    k += 1\n",
    "\n",
    "print len(sub_ngt)"
   ]
  },
  {
   "cell_type": "code",
   "execution_count": 55,
   "metadata": {
    "collapsed": false
   },
   "outputs": [
    {
     "name": "stdout",
     "output_type": "stream",
     "text": [
      "105469\n"
     ]
    }
   ],
   "source": [
    "k2=0\n",
    "sub_mor =[]\n",
    "while k2 < len(sub):\n",
    "    if sub[k2] >= '6:00'and sub[k2] <= '9:59':\n",
    "        sub_mor.append(sub[k2])\n",
    "    k2 += 1\n",
    "\n",
    "print len(sub_mor)"
   ]
  },
  {
   "cell_type": "code",
   "execution_count": 56,
   "metadata": {
    "collapsed": false
   },
   "outputs": [
    {
     "name": "stdout",
     "output_type": "stream",
     "text": [
      "2231\n"
     ]
    }
   ],
   "source": [
    "k2=0\n",
    "sub_ov1 =[]\n",
    "while k2 < len(sub):\n",
    "    if sub[k2] >= '2:00'and sub[k2] <= '5:59':\n",
    "        sub_ov1.append(sub[k2])\n",
    "    k2 += 1\n",
    "\n",
    "print len(sub_ov1)"
   ]
  },
  {
   "cell_type": "code",
   "execution_count": 57,
   "metadata": {
    "collapsed": false
   },
   "outputs": [
    {
     "name": "stdout",
     "output_type": "stream",
     "text": [
      "578\n"
     ]
    }
   ],
   "source": [
    "k2=0\n",
    "sub_ov2 =[]\n",
    "while k2 < len(sub):\n",
    "    if sub[k2] >= '0:00'and sub[k2] <= '0:59':\n",
    "        sub_ov2.append(sub[k2])\n",
    "    k2 += 1\n",
    "\n",
    "print len(sub_ov2)"
   ]
  },
  {
   "cell_type": "code",
   "execution_count": 58,
   "metadata": {
    "collapsed": false
   },
   "outputs": [
    {
     "name": "stdout",
     "output_type": "stream",
     "text": [
      "291\n"
     ]
    },
    {
     "data": {
      "text/plain": [
       "3100"
      ]
     },
     "execution_count": 58,
     "metadata": {},
     "output_type": "execute_result"
    }
   ],
   "source": [
    "k2=0\n",
    "sub_ov3 =[]\n",
    "while k2 < len(sub):\n",
    "    if sub[k2] >= '1:00'and sub[k2] <= '1:59':\n",
    "        sub_ov3.append(sub[k2])\n",
    "    k2 += 1\n",
    "\n",
    "print len(sub_ov3)\n",
    "\n",
    "sub_ov = sub_ov1 + sub_ov2 + sub_ov3\n",
    "len(sub_ov)"
   ]
  },
  {
   "cell_type": "code",
   "execution_count": 59,
   "metadata": {
    "collapsed": false
   },
   "outputs": [
    {
     "data": {
      "text/plain": [
       "13817"
      ]
     },
     "execution_count": 59,
     "metadata": {},
     "output_type": "execute_result"
    }
   ],
   "source": [
    "cus_day = len(daytime) - len(sub_day)\n",
    "cus_day"
   ]
  },
  {
   "cell_type": "code",
   "execution_count": 60,
   "metadata": {
    "collapsed": false
   },
   "outputs": [
    {
     "data": {
      "text/plain": [
       "11334"
      ]
     },
     "execution_count": 60,
     "metadata": {},
     "output_type": "execute_result"
    }
   ],
   "source": [
    "cus_aft = len(afternoon) - len(sub_aft)\n",
    "cus_aft"
   ]
  },
  {
   "cell_type": "code",
   "execution_count": 61,
   "metadata": {
    "collapsed": false
   },
   "outputs": [
    {
     "data": {
      "text/plain": [
       "3857"
      ]
     },
     "execution_count": 61,
     "metadata": {},
     "output_type": "execute_result"
    }
   ],
   "source": [
    "cus_ngt = len(night) - len(sub_ngt)\n",
    "cus_ngt"
   ]
  },
  {
   "cell_type": "code",
   "execution_count": 62,
   "metadata": {
    "collapsed": false
   },
   "outputs": [
    {
     "data": {
      "text/plain": [
       "553"
      ]
     },
     "execution_count": 62,
     "metadata": {},
     "output_type": "execute_result"
    }
   ],
   "source": [
    "cus_ov = len(overnight) - len(sub_ov)\n",
    "cus_ov"
   ]
  },
  {
   "cell_type": "code",
   "execution_count": 63,
   "metadata": {
    "collapsed": false
   },
   "outputs": [
    {
     "data": {
      "text/plain": [
       "4151"
      ]
     },
     "execution_count": 63,
     "metadata": {},
     "output_type": "execute_result"
    }
   ],
   "source": [
    "cus_mor = len(morning) - len(sub_mor)\n",
    "cus_mor"
   ]
  },
  {
   "cell_type": "code",
   "execution_count": 64,
   "metadata": {
    "collapsed": false
   },
   "outputs": [
    {
     "data": {
      "image/png": "[encoded data removed]",
      "text/plain": [
       "<matplotlib.figure.Figure at 0x11a033c8>"
      ]
     },
     "metadata": {},
     "output_type": "display_data"
    }
   ],
   "source": [
    "fig, ax = plt.subplots(figsize=(12, 7))\n",
    "N = 5\n",
    "customer = (cus_mor,cus_ngt,cus_ov,cus_day,cus_aft)\n",
    "subscriber = (len(sub_mor),len(sub_ngt),len(sub_ov),len(sub_day),len(sub_aft))\n",
    "Sum = ('len(morning)','len(night)','len(overnight)','len(daytime)','len(afternoon)')\n",
    "ind = np.arange(N)\n",
    "width = 0.5\n",
    "\n",
    "# create a plot\n",
    "p1 = plt.bar(ind, customer, width, color = '#01B500',align = 'center',bottom = subscriber)\n",
    "p2 = plt.bar(ind, subscriber, width, color = '#2677C0',align = 'center')\n",
    "\n",
    "for r1,r2 in zip(p1,p2):\n",
    "    h1 = r1.get_height()\n",
    "    h2 = r2.get_height()\n",
    "    plt.text(r1.get_x()+r1.get_width()/2., h1+h2, '%d'% (h1+h2), ha = 'center', va='bottom')\n",
    "\n",
    "plt.ylabel('Rides',fontsize='30')\n",
    "plt.xlabel('Rides by Time of the Day',fontsize='30')\n",
    "ax.yaxis.label.set_size(25)\n",
    "plt.title('Rides By Time of the Day by Subscriber Type',fontsize='30')\n",
    "plt.xticks(ind+width/12., (time_rides))\n",
    "#plt.yticks(count_wkd.values)\n",
    "plt.legend((p1[0], p2[0]), ('Customer', 'Subscriber'), loc = 2, frameon = 'false',bbox_to_anchor=(1.05, 1), borderaxespad=0.)\n",
    "plt.tick_params(top = 'off', bottom = 'off', right = 'off')\n",
    "#plt.grid(axis = 'y', linestyle = '-')\n",
    "\n",
    "plt.show()\n"
   ]
  },
  {
   "cell_type": "code",
   "execution_count": null,
   "metadata": {
    "collapsed": true
   },
   "outputs": [],
   "source": []
  },
  {
   "cell_type": "markdown",
   "metadata": {},
   "source": [
    "# 8) Analyzing for Rides by Hour"
   ]
  },
  {
   "cell_type": "code",
   "execution_count": 65,
   "metadata": {
    "collapsed": false
   },
   "outputs": [],
   "source": [
    "k=0\n",
    "afternoon1 =[]\n",
    "while k < len(afternoon):\n",
    "    afternoon1.append(datetime.strptime(afternoon[k],\"%H:%M\").time())\n",
    "    k += 1\n",
    "#print afternoon1"
   ]
  },
  {
   "cell_type": "code",
   "execution_count": 66,
   "metadata": {
    "collapsed": false
   },
   "outputs": [],
   "source": [
    "y = 0\n",
    "while y < len(afternoon1):\n",
    "    afternoon1[y] = afternoon1[y].hour\n",
    "    y += 1\n",
    "#print afternoon1\n"
   ]
  },
  {
   "cell_type": "code",
   "execution_count": 67,
   "metadata": {
    "collapsed": false
   },
   "outputs": [
    {
     "data": {
      "text/plain": [
       "0\n",
       "15    14403\n",
       "16    29656\n",
       "17    43597\n",
       "18    26917\n",
       "dtype: int64"
      ]
     },
     "execution_count": 67,
     "metadata": {},
     "output_type": "execute_result"
    }
   ],
   "source": [
    "aft = pd.DataFrame(afternoon1)\n",
    "ct_aft = aft.groupby(aft[0]).size()\n",
    "ct_aft"
   ]
  },
  {
   "cell_type": "code",
   "execution_count": 68,
   "metadata": {
    "collapsed": false
   },
   "outputs": [],
   "source": [
    "k=0\n",
    "morning1 =[]\n",
    "while k < len(morning):\n",
    "    morning1.append(datetime.strptime(morning[k],\"%H:%M\").time())\n",
    "    k += 1\n",
    "#print morning1"
   ]
  },
  {
   "cell_type": "code",
   "execution_count": 69,
   "metadata": {
    "collapsed": true
   },
   "outputs": [],
   "source": [
    "y = 0\n",
    "while y < len(morning1):\n",
    "    morning1[y] = morning1[y].hour\n",
    "    y += 1\n"
   ]
  },
  {
   "cell_type": "code",
   "execution_count": 70,
   "metadata": {
    "collapsed": false
   },
   "outputs": [
    {
     "data": {
      "text/plain": [
       "0\n",
       "6     6207\n",
       "7    23592\n",
       "8    46600\n",
       "9    33221\n",
       "dtype: int64"
      ]
     },
     "execution_count": 70,
     "metadata": {},
     "output_type": "execute_result"
    }
   ],
   "source": [
    "mor = pd.DataFrame(morning1)\n",
    "ct_mor = mor.groupby(mor[0]).size()\n",
    "ct_mor"
   ]
  },
  {
   "cell_type": "code",
   "execution_count": 71,
   "metadata": {
    "collapsed": false
   },
   "outputs": [],
   "source": [
    "k=0\n",
    "daytime1 =[]\n",
    "while k < len(daytime):\n",
    "    daytime1.append(datetime.strptime(daytime[k],\"%H:%M\").time())\n",
    "    k += 1\n",
    "#print daytime1"
   ]
  },
  {
   "cell_type": "code",
   "execution_count": 72,
   "metadata": {
    "collapsed": true
   },
   "outputs": [],
   "source": [
    "y = 0\n",
    "while y < len(daytime1):\n",
    "    daytime1[y] = daytime1[y].hour\n",
    "    y += 1\n"
   ]
  },
  {
   "cell_type": "code",
   "execution_count": 73,
   "metadata": {
    "collapsed": false
   },
   "outputs": [
    {
     "data": {
      "text/plain": [
       "0\n",
       "10    12676\n",
       "11    11266\n",
       "12    12566\n",
       "13    11974\n",
       "14    10696\n",
       "dtype: int64"
      ]
     },
     "execution_count": 73,
     "metadata": {},
     "output_type": "execute_result"
    }
   ],
   "source": [
    "day = pd.DataFrame(daytime1)\n",
    "ct_day = day.groupby(day[0]).size()\n",
    "ct_day"
   ]
  },
  {
   "cell_type": "code",
   "execution_count": 74,
   "metadata": {
    "collapsed": false
   },
   "outputs": [],
   "source": [
    "k=0\n",
    "night1 =[]\n",
    "while k < len(night):\n",
    "    night1.append(datetime.strptime(night[k],\"%H:%M\").time())\n",
    "    k += 1\n",
    "#print night1"
   ]
  },
  {
   "cell_type": "code",
   "execution_count": 75,
   "metadata": {
    "collapsed": true
   },
   "outputs": [],
   "source": [
    "y = 0\n",
    "while y < len(night1):\n",
    "    night1[y] = night1[y].hour\n",
    "    y += 1\n"
   ]
  },
  {
   "cell_type": "code",
   "execution_count": 76,
   "metadata": {
    "collapsed": false
   },
   "outputs": [
    {
     "data": {
      "text/plain": [
       "0\n",
       "1       422\n",
       "19    11883\n",
       "20     6220\n",
       "21     3981\n",
       "22     2836\n",
       "23     1730\n",
       "dtype: int64"
      ]
     },
     "execution_count": 76,
     "metadata": {},
     "output_type": "execute_result"
    }
   ],
   "source": [
    "ngt = pd.DataFrame(night1)\n",
    "ct_ngt = ngt.groupby(ngt[0]).size()\n",
    "ct_ngt\n"
   ]
  },
  {
   "cell_type": "code",
   "execution_count": 77,
   "metadata": {
    "collapsed": false
   },
   "outputs": [
    {
     "data": {
      "text/plain": [
       "0\n",
       "1       422\n",
       "19    11883\n",
       "20     6220\n",
       "21     3981\n",
       "22     2836\n",
       "23     1730\n",
       "dtype: int64"
      ]
     },
     "execution_count": 77,
     "metadata": {},
     "output_type": "execute_result"
    }
   ],
   "source": [
    "ct_ngt"
   ]
  },
  {
   "cell_type": "code",
   "execution_count": 78,
   "metadata": {
    "collapsed": false
   },
   "outputs": [],
   "source": [
    "k=0\n",
    "ovnight1 =[]\n",
    "while k < len(overnight):\n",
    "    ovnight1.append(datetime.strptime(overnight[k],\"%H:%M\").time())\n",
    "    k += 1\n",
    "#print ovnight1"
   ]
  },
  {
   "cell_type": "code",
   "execution_count": 79,
   "metadata": {
    "collapsed": true
   },
   "outputs": [],
   "source": [
    "y = 0\n",
    "while y < len(ovnight1):\n",
    "    ovnight1[y] = ovnight1[y].hour\n",
    "    y += 1\n"
   ]
  },
  {
   "cell_type": "code",
   "execution_count": 80,
   "metadata": {
    "collapsed": false
   },
   "outputs": [
    {
     "data": {
      "text/plain": [
       "0\n",
       "0     758\n",
       "1     422\n",
       "2     185\n",
       "3     263\n",
       "4     376\n",
       "5    1649\n",
       "dtype: int64"
      ]
     },
     "execution_count": 80,
     "metadata": {},
     "output_type": "execute_result"
    }
   ],
   "source": [
    "ovngt = pd.DataFrame(ovnight1)\n",
    "ct_ovngt = ovngt.groupby(ovngt[0]).size()\n",
    "ct_ovngt"
   ]
  },
  {
   "cell_type": "code",
   "execution_count": 81,
   "metadata": {
    "collapsed": true
   },
   "outputs": [],
   "source": [
    "tms = pd.Series()"
   ]
  },
  {
   "cell_type": "code",
   "execution_count": 82,
   "metadata": {
    "collapsed": false
   },
   "outputs": [],
   "source": [
    "tms = tms.append(ct_ovngt)\n"
   ]
  },
  {
   "cell_type": "code",
   "execution_count": 83,
   "metadata": {
    "collapsed": true
   },
   "outputs": [],
   "source": [
    "tms = tms.append(ct_mor)"
   ]
  },
  {
   "cell_type": "code",
   "execution_count": 84,
   "metadata": {
    "collapsed": true
   },
   "outputs": [],
   "source": [
    "tms = tms.append(ct_day)"
   ]
  },
  {
   "cell_type": "code",
   "execution_count": 85,
   "metadata": {
    "collapsed": true
   },
   "outputs": [],
   "source": [
    "tms = tms.append(ct_aft)"
   ]
  },
  {
   "cell_type": "code",
   "execution_count": 86,
   "metadata": {
    "collapsed": true
   },
   "outputs": [],
   "source": [
    "tms = tms.append(ct_ngt)"
   ]
  },
  {
   "cell_type": "code",
   "execution_count": 87,
   "metadata": {
    "collapsed": false
   },
   "outputs": [
    {
     "data": {
      "text/plain": [
       "0\n",
       "0       758\n",
       "1       422\n",
       "2       185\n",
       "3       263\n",
       "4       376\n",
       "5      1649\n",
       "6      6207\n",
       "7     23592\n",
       "8     46600\n",
       "9     33221\n",
       "10    12676\n",
       "11    11266\n",
       "12    12566\n",
       "13    11974\n",
       "14    10696\n",
       "15    14403\n",
       "16    29656\n",
       "17    43597\n",
       "18    26917\n",
       "19    11883\n",
       "20     6220\n",
       "21     3981\n",
       "22     2836\n",
       "23     1730\n",
       "dtype: int64"
      ]
     },
     "execution_count": 87,
     "metadata": {},
     "output_type": "execute_result"
    }
   ],
   "source": [
    "tms = tms.drop_duplicates()\n",
    "tms"
   ]
  },
  {
   "cell_type": "code",
   "execution_count": 88,
   "metadata": {
    "collapsed": false
   },
   "outputs": [
    {
     "data": {
      "image/png": "[encoded data removed]",
      "text/plain": [
       "<matplotlib.figure.Figure at 0x15bbf7f0>"
      ]
     },
     "metadata": {},
     "output_type": "display_data"
    }
   ],
   "source": [
    "fig, ax = plt.subplots(figsize=(15, 7))\n",
    "objects = tms.index\n",
    "y_pos = np.arange(len(objects)) \n",
    "pt = plt.bar(y_pos, tms, align='center', color='#2677C0')\n",
    "\n",
    "\n",
    "plt.xticks(y_pos, objects)\n",
    "plt.ylabel('Rides',fontsize='30')\n",
    "plt.xlabel('Hour',fontsize='30')\n",
    "plt.title('Rides by Hour',fontsize='30')\n",
    "\n",
    "\n",
    "plt.show()"
   ]
  },
  {
   "cell_type": "markdown",
   "metadata": {},
   "source": [
    "# Among the users we see spikes in use at 8am and 5pm with another small bump at 12 noon. These users must be riding a bike to get to work, to go to lunch or to head home."
   ]
  },
  {
   "cell_type": "code",
   "execution_count": 89,
   "metadata": {
    "collapsed": false
   },
   "outputs": [
    {
     "name": "stdout",
     "output_type": "stream",
     "text": [
      "105469\n"
     ]
    }
   ],
   "source": [
    "k=0\n",
    "sub_mor1 =[]\n",
    "while k < len(sub_mor):\n",
    "    sub_mor1.append(datetime.strptime(sub_mor[k],\"%H:%M\").time())\n",
    "    k += 1\n",
    "print len(sub_mor1)"
   ]
  },
  {
   "cell_type": "code",
   "execution_count": 90,
   "metadata": {
    "collapsed": false
   },
   "outputs": [
    {
     "name": "stdout",
     "output_type": "stream",
     "text": [
      "45361\n"
     ]
    }
   ],
   "source": [
    "k=0\n",
    "sub_day1 =[]\n",
    "while k < len(sub_day):\n",
    "    sub_day1.append(datetime.strptime(sub_day[k],\"%H:%M\").time())\n",
    "    k += 1\n",
    "print len(sub_day1)"
   ]
  },
  {
   "cell_type": "code",
   "execution_count": 91,
   "metadata": {
    "collapsed": false
   },
   "outputs": [
    {
     "name": "stdout",
     "output_type": "stream",
     "text": [
      "103239\n"
     ]
    }
   ],
   "source": [
    "k=0\n",
    "sub_aft1 =[]\n",
    "while k < len(sub_aft):\n",
    "    sub_aft1.append(datetime.strptime(sub_aft[k],\"%H:%M\").time())\n",
    "    k += 1\n",
    "print len(sub_aft1)"
   ]
  },
  {
   "cell_type": "code",
   "execution_count": 92,
   "metadata": {
    "collapsed": false
   },
   "outputs": [
    {
     "name": "stdout",
     "output_type": "stream",
     "text": [
      "23215\n"
     ]
    }
   ],
   "source": [
    "k=0\n",
    "sub_ngt1 =[]\n",
    "while k < len(sub_ngt):\n",
    "    sub_ngt1.append(datetime.strptime(sub_ngt[k],\"%H:%M\").time())\n",
    "    k += 1\n",
    "print len(sub_ngt1)"
   ]
  },
  {
   "cell_type": "code",
   "execution_count": 93,
   "metadata": {
    "collapsed": false
   },
   "outputs": [
    {
     "name": "stdout",
     "output_type": "stream",
     "text": [
      "3100\n"
     ]
    }
   ],
   "source": [
    "k=0\n",
    "sub_ov1 =[]\n",
    "while k < len(sub_ov):\n",
    "    sub_ov1.append(datetime.strptime(sub_ov[k],\"%H:%M\").time())\n",
    "    k += 1\n",
    "print len(sub_ov1)"
   ]
  },
  {
   "cell_type": "code",
   "execution_count": 94,
   "metadata": {
    "collapsed": true
   },
   "outputs": [],
   "source": [
    "y = 0\n",
    "while y < len(sub_mor1):\n",
    "    sub_mor1[y] = sub_mor1[y].hour\n",
    "    y += 1"
   ]
  },
  {
   "cell_type": "code",
   "execution_count": 95,
   "metadata": {
    "collapsed": true
   },
   "outputs": [],
   "source": [
    "y = 0\n",
    "while y < len(sub_ngt1):\n",
    "    sub_ngt1[y] = sub_ngt1[y].hour\n",
    "    y += 1"
   ]
  },
  {
   "cell_type": "code",
   "execution_count": 96,
   "metadata": {
    "collapsed": true
   },
   "outputs": [],
   "source": [
    "y = 0\n",
    "while y < len(sub_day1):\n",
    "    sub_day1[y] = sub_day1[y].hour\n",
    "    y += 1"
   ]
  },
  {
   "cell_type": "code",
   "execution_count": 97,
   "metadata": {
    "collapsed": true
   },
   "outputs": [],
   "source": [
    "y = 0\n",
    "while y < len(sub_aft1):\n",
    "    sub_aft1[y] = sub_aft1[y].hour\n",
    "    y += 1"
   ]
  },
  {
   "cell_type": "code",
   "execution_count": 98,
   "metadata": {
    "collapsed": true
   },
   "outputs": [],
   "source": [
    "y = 0\n",
    "while y < len(sub_ov1):\n",
    "    sub_ov1[y] = sub_ov1[y].hour\n",
    "    y += 1"
   ]
  },
  {
   "cell_type": "code",
   "execution_count": 99,
   "metadata": {
    "collapsed": false
   },
   "outputs": [
    {
     "data": {
      "text/plain": [
       "0\n",
       "6     5937\n",
       "7    22915\n",
       "8    45168\n",
       "9    31449\n",
       "dtype: int64"
      ]
     },
     "execution_count": 99,
     "metadata": {},
     "output_type": "execute_result"
    }
   ],
   "source": [
    "sub_mor_df = pd.DataFrame(sub_mor1)\n",
    "ct_sub_mor = sub_mor_df.groupby(sub_mor_df[0]).size()\n",
    "ct_sub_mor"
   ]
  },
  {
   "cell_type": "code",
   "execution_count": 100,
   "metadata": {
    "collapsed": false
   },
   "outputs": [
    {
     "data": {
      "text/plain": [
       "0\n",
       "10    10670\n",
       "11     8637\n",
       "12     9572\n",
       "13     8822\n",
       "14     7660\n",
       "dtype: int64"
      ]
     },
     "execution_count": 100,
     "metadata": {},
     "output_type": "execute_result"
    }
   ],
   "source": [
    "sub_day_df = pd.DataFrame(sub_day1)\n",
    "ct_sub_day = sub_day_df.groupby(sub_day_df[0]).size()\n",
    "ct_sub_day"
   ]
  },
  {
   "cell_type": "code",
   "execution_count": 101,
   "metadata": {
    "collapsed": false
   },
   "outputs": [
    {
     "data": {
      "text/plain": [
       "0\n",
       "15    11317\n",
       "16    26443\n",
       "17    40726\n",
       "18    24753\n",
       "dtype: int64"
      ]
     },
     "execution_count": 101,
     "metadata": {},
     "output_type": "execute_result"
    }
   ],
   "source": [
    "dfsub_aft = pd.DataFrame(sub_aft1)\n",
    "ct_sb_aft = dfsub_aft.groupby(dfsub_aft[0]).size()\n",
    "ct_sb_aft"
   ]
  },
  {
   "cell_type": "code",
   "execution_count": 102,
   "metadata": {
    "collapsed": false
   },
   "outputs": [
    {
     "data": {
      "text/plain": [
       "0\n",
       "1       291\n",
       "19    10549\n",
       "20     5298\n",
       "21     3376\n",
       "22     2282\n",
       "23     1419\n",
       "dtype: int64"
      ]
     },
     "execution_count": 102,
     "metadata": {},
     "output_type": "execute_result"
    }
   ],
   "source": [
    "sub_ngt_df = pd.DataFrame(sub_ngt1)\n",
    "ct_sub_ngt = sub_ngt_df.groupby(sub_ngt_df[0]).size()\n",
    "ct_sub_ngt"
   ]
  },
  {
   "cell_type": "code",
   "execution_count": 103,
   "metadata": {
    "collapsed": false
   },
   "outputs": [
    {
     "data": {
      "text/plain": [
       "0\n",
       "0     578\n",
       "1     291\n",
       "2     107\n",
       "3     227\n",
       "4     326\n",
       "5    1571\n",
       "dtype: int64"
      ]
     },
     "execution_count": 103,
     "metadata": {},
     "output_type": "execute_result"
    }
   ],
   "source": [
    "sub_ovngt_df = pd.DataFrame(sub_ov1)\n",
    "ct_sub_ovngt = sub_ovngt_df.groupby(sub_ovngt_df[0]).size()\n",
    "ct_sub_ovngt"
   ]
  },
  {
   "cell_type": "code",
   "execution_count": 104,
   "metadata": {
    "collapsed": false
   },
   "outputs": [
    {
     "data": {
      "text/plain": [
       "0\n",
       "15    3086\n",
       "16    3213\n",
       "17    2871\n",
       "18    2164\n",
       "dtype: int64"
      ]
     },
     "execution_count": 104,
     "metadata": {},
     "output_type": "execute_result"
    }
   ],
   "source": [
    "ct_cus_aft = ct_aft - ct_sb_aft\n",
    "ct_cus_aft"
   ]
  },
  {
   "cell_type": "code",
   "execution_count": 105,
   "metadata": {
    "collapsed": false
   },
   "outputs": [
    {
     "data": {
      "text/plain": [
       "0\n",
       "6     270\n",
       "7     677\n",
       "8    1432\n",
       "9    1772\n",
       "dtype: int64"
      ]
     },
     "execution_count": 105,
     "metadata": {},
     "output_type": "execute_result"
    }
   ],
   "source": [
    "ct_cus_mor = ct_mor - ct_sub_mor\n",
    "ct_cus_mor"
   ]
  },
  {
   "cell_type": "code",
   "execution_count": 106,
   "metadata": {
    "collapsed": false
   },
   "outputs": [
    {
     "data": {
      "text/plain": [
       "0\n",
       "10    2006\n",
       "11    2629\n",
       "12    2994\n",
       "13    3152\n",
       "14    3036\n",
       "dtype: int64"
      ]
     },
     "execution_count": 106,
     "metadata": {},
     "output_type": "execute_result"
    }
   ],
   "source": [
    "ct_cus_day = ct_day - ct_sub_day\n",
    "ct_cus_day"
   ]
  },
  {
   "cell_type": "code",
   "execution_count": 107,
   "metadata": {
    "collapsed": false
   },
   "outputs": [
    {
     "data": {
      "text/plain": [
       "0\n",
       "0    180\n",
       "1    131\n",
       "2     78\n",
       "3     36\n",
       "4     50\n",
       "5     78\n",
       "dtype: int64"
      ]
     },
     "execution_count": 107,
     "metadata": {},
     "output_type": "execute_result"
    }
   ],
   "source": [
    "ct_cus_ov = ct_ovngt - ct_sub_ovngt\n",
    "ct_cus_ov"
   ]
  },
  {
   "cell_type": "code",
   "execution_count": 108,
   "metadata": {
    "collapsed": false
   },
   "outputs": [
    {
     "data": {
      "text/plain": [
       "0\n",
       "1      131\n",
       "19    1334\n",
       "20     922\n",
       "21     605\n",
       "22     554\n",
       "23     311\n",
       "dtype: int64"
      ]
     },
     "execution_count": 108,
     "metadata": {},
     "output_type": "execute_result"
    }
   ],
   "source": [
    "ct_cus_ngt = ct_ngt - ct_sub_ngt\n",
    "ct_cus_ngt"
   ]
  },
  {
   "cell_type": "code",
   "execution_count": 109,
   "metadata": {
    "collapsed": true
   },
   "outputs": [],
   "source": [
    "pd_sub = pd.Series()"
   ]
  },
  {
   "cell_type": "code",
   "execution_count": 110,
   "metadata": {
    "collapsed": false
   },
   "outputs": [],
   "source": [
    "pd_sub = pd_sub.append(ct_sub_ovngt)"
   ]
  },
  {
   "cell_type": "code",
   "execution_count": 111,
   "metadata": {
    "collapsed": false
   },
   "outputs": [],
   "source": [
    "pd_sub = pd_sub.append(ct_sub_mor)"
   ]
  },
  {
   "cell_type": "code",
   "execution_count": 112,
   "metadata": {
    "collapsed": false
   },
   "outputs": [],
   "source": [
    "pd_sub = pd_sub.append(ct_sub_day)"
   ]
  },
  {
   "cell_type": "code",
   "execution_count": 113,
   "metadata": {
    "collapsed": false
   },
   "outputs": [],
   "source": [
    "pd_sub = pd_sub.append(ct_sb_aft)"
   ]
  },
  {
   "cell_type": "code",
   "execution_count": 114,
   "metadata": {
    "collapsed": false
   },
   "outputs": [],
   "source": [
    "pd_sub = pd_sub.append(ct_sub_ngt)"
   ]
  },
  {
   "cell_type": "code",
   "execution_count": 115,
   "metadata": {
    "collapsed": false
   },
   "outputs": [],
   "source": [
    "pd_sub = pd_sub.drop_duplicates()"
   ]
  },
  {
   "cell_type": "code",
   "execution_count": 116,
   "metadata": {
    "collapsed": false
   },
   "outputs": [
    {
     "data": {
      "text/plain": [
       "Int64Index([ 0,  1,  2,  3,  4,  5,  6,  7,  8,  9, 10, 11, 12, 13, 14, 15, 16,\n",
       "            17, 18, 19, 20, 21, 22, 23],\n",
       "           dtype='int64', name=0)"
      ]
     },
     "execution_count": 116,
     "metadata": {},
     "output_type": "execute_result"
    }
   ],
   "source": [
    "pd_sub.index"
   ]
  },
  {
   "cell_type": "code",
   "execution_count": null,
   "metadata": {
    "collapsed": false
   },
   "outputs": [],
   "source": []
  },
  {
   "cell_type": "code",
   "execution_count": null,
   "metadata": {
    "collapsed": false
   },
   "outputs": [],
   "source": []
  },
  {
   "cell_type": "code",
   "execution_count": 117,
   "metadata": {
    "collapsed": false
   },
   "outputs": [
    {
     "data": {
      "image/png": "[encoded data removed]",
      "text/plain": [
       "<matplotlib.figure.Figure at 0xd9a1470>"
      ]
     },
     "metadata": {},
     "output_type": "display_data"
    }
   ],
   "source": [
    "fig, ax = plt.subplots(figsize=(12, 7))\n",
    "N = 24\n",
    "customer = (ct_cus_ov[0],ct_cus_ov[1],ct_cus_ov[2],ct_cus_ov[3],ct_cus_ov[4],ct_cus_ov[5],ct_cus_mor[6],ct_cus_mor[7],ct_cus_mor[8],ct_cus_mor[9],ct_cus_day[10],ct_cus_day[11],ct_cus_day[12],ct_cus_day[13],ct_cus_day[14],ct_cus_aft[15],ct_cus_aft[16],ct_cus_aft[17],ct_cus_aft[18],ct_cus_ngt[19],ct_cus_ngt[20],ct_cus_ngt[21],ct_cus_ngt[22],ct_cus_ngt[23])\n",
    "subscriber = (ct_sub_ovngt[0],ct_sub_ovngt[1],ct_sub_ovngt[2],ct_sub_ovngt[3],ct_sub_ovngt[4],ct_sub_ovngt[5],ct_sub_mor[6],ct_sub_mor[7],ct_sub_mor[8],ct_sub_mor[9],ct_sub_day[10],ct_sub_day[11],ct_sub_day[12],ct_sub_day[13],ct_sub_day[14],ct_sb_aft[15],ct_sb_aft[16],ct_sb_aft[17],ct_sb_aft[18],ct_sub_ngt[19],ct_sub_ngt[20],ct_sub_ngt[21],ct_sub_ngt[22],ct_sub_ngt[23])\n",
    "Sum = ('ct_ovngt','ct_mor','ct_day','ct_aft','ct_ngt')\n",
    "ind = np.arange(N)\n",
    "width = 0.5\n",
    "\n",
    "# create a plot\n",
    "p1 = plt.bar(ind, customer, width, color = '#01B500',align = 'center',bottom = subscriber)\n",
    "p2 = plt.bar(ind, subscriber, width, color = '#2677C0',align = 'center')\n",
    "\n",
    "for r1,r2 in zip(p1,p2):\n",
    "    h1 = r1.get_height()\n",
    "    h2 = r2.get_height()\n",
    "    plt.text(r1.get_x()+r1.get_width()/2., h1+h2, '%d'% (h1+h2), ha = 'center', va='bottom')\n",
    "\n",
    "plt.ylabel('Rides',fontsize='30')\n",
    "plt.xlabel('Rides by Time of the Day',fontsize='30')\n",
    "ax.yaxis.label.set_size(25)\n",
    "plt.title('Rides By Time of the Day by Subscriber Type',fontsize='30')\n",
    "plt.xticks(ind+width/12., (pd_sub.index))\n",
    "#plt.yticks(count_wkd.values)\n",
    "plt.legend((p1[0], p2[0]), ('Customer', 'Subscriber'), loc = 2, frameon = 'false',bbox_to_anchor=(1.05, 1), borderaxespad=0.)\n",
    "plt.tick_params(top = 'off', bottom = 'off', right = 'off')\n",
    "#plt.grid(axis = 'y', linestyle = '-')\n",
    "\n",
    "plt.show()\n"
   ]
  },
  {
   "cell_type": "markdown",
   "metadata": {},
   "source": [
    "## Among subscribers we see spikes in use at 8am and 5pm with another small bump at 12 noon. These users must be riding a bike to get to work, to go to lunch, and to head home. Whereas, Customers hourly usage seemspeaking at two in the afternoon. There doesn't seem to be a lunchtime rise among customer use. These users must be riding around throughout the daytime at their leisure. From these usage behaviors, it would be fair to characterize the two groups of subscribers and customers as commuters and tourists, respectively."
   ]
  },
  {
   "cell_type": "markdown",
   "metadata": {},
   "source": [
    "# Machine Learning"
   ]
  },
  {
   "cell_type": "markdown",
   "metadata": {},
   "source": [
    "# Predicting the bay area bike share count of bikes based on the weather condition."
   ]
  },
  {
   "cell_type": "code",
   "execution_count": 118,
   "metadata": {
    "collapsed": false
   },
   "outputs": [
    {
     "data": {
      "text/plain": [
       "Index([u'PDT', u'Max TemperatureF', u'Mean TemperatureF', u'Min TemperatureF',\n",
       "       u'Max Dew PointF', u'MeanDew PointF', u'Min DewpointF', u'Max Humidity',\n",
       "       u' Mean Humidity', u' Min Humidity', u' Max Sea Level PressureIn',\n",
       "       u' Mean Sea Level PressureIn', u' Min Sea Level PressureIn',\n",
       "       u' Max VisibilityMiles', u' Mean VisibilityMiles',\n",
       "       u' Min VisibilityMiles', u' Max Wind SpeedMPH', u' Mean Wind SpeedMPH',\n",
       "       u' Max Gust SpeedMPH', u'PrecipitationIn', u' CloudCover', u' Events',\n",
       "       u' WindDirDegrees', u'ZIP'],\n",
       "      dtype='object')"
      ]
     },
     "execution_count": 118,
     "metadata": {},
     "output_type": "execute_result"
    }
   ],
   "source": [
    "weather_df = pd.read_csv('201608_weather_data.csv')\n",
    "weather_df.columns"
   ]
  },
  {
   "cell_type": "code",
   "execution_count": 119,
   "metadata": {
    "collapsed": false
   },
   "outputs": [
    {
     "data": {
      "text/plain": [
       "Index([u'Trip ID', u'Duration', u'Start Date', u'Start Station',\n",
       "       u'Start Terminal', u'End Date', u'End Station', u'End Terminal',\n",
       "       u'Bike #', u'Subscriber Type', u'Zip Code', u'Weekday'],\n",
       "      dtype='object')"
      ]
     },
     "execution_count": 119,
     "metadata": {},
     "output_type": "execute_result"
    }
   ],
   "source": [
    "trip_df = df4\n",
    "trip_df.columns"
   ]
  },
  {
   "cell_type": "code",
   "execution_count": 120,
   "metadata": {
    "collapsed": false
   },
   "outputs": [],
   "source": [
    "weather_df['PDT'] = weather_df['PDT'].apply(lambda x: datetime.strptime(x, \"%m/%d/%Y\"))"
   ]
  },
  {
   "cell_type": "code",
   "execution_count": 121,
   "metadata": {
    "collapsed": false
   },
   "outputs": [],
   "source": [
    "trip_df['Start Date'] = trip_df['Start Date'].apply(lambda x: datetime.strptime(x, \"%m/%d/%Y %H:%M\"))"
   ]
  },
  {
   "cell_type": "code",
   "execution_count": null,
   "metadata": {
    "collapsed": false
   },
   "outputs": [],
   "source": []
  },
  {
   "cell_type": "code",
   "execution_count": 122,
   "metadata": {
    "collapsed": true
   },
   "outputs": [],
   "source": [
    "def sliceWeekdayAndWeekend(df, on='PDT'):\n",
    "    weekday_mask = df[on].weekday() < 5\n",
    "    weekend_mask = df[on].weekday() >= 5\n",
    "    return df.loc[weekday_mask], df.loc[weekend_mask]"
   ]
  },
  {
   "cell_type": "code",
   "execution_count": 123,
   "metadata": {
    "collapsed": true
   },
   "outputs": [],
   "source": [
    "def sliceGoodAndBadWeatherDay(df):\n",
    "    bad_weather_mask = df[' Events'] < 0\n",
    "    good_weather_mask = df[' Events'] >= 0\n",
    "    return df.loc[bad_weather_mask], df.loc[good_weather_mask]"
   ]
  },
  {
   "cell_type": "code",
   "execution_count": 124,
   "metadata": {
    "collapsed": true
   },
   "outputs": [],
   "source": [
    "def convertEventToInt(val):\n",
    "    if val is np.nan:\n",
    "         return 0\n",
    "    elif ('Rain' in val) or ('Fog' in val) or ('Fog-Rain' in val) or ('Rain-Thunderstorm' in val):\n",
    "         return -1\n",
    "    else:\n",
    "        return 2"
   ]
  },
  {
   "cell_type": "code",
   "execution_count": 125,
   "metadata": {
    "collapsed": true
   },
   "outputs": [],
   "source": [
    "trip = trip_df.copy()"
   ]
  },
  {
   "cell_type": "code",
   "execution_count": 126,
   "metadata": {
    "collapsed": true
   },
   "outputs": [],
   "source": [
    "weather = weather_df.copy()"
   ]
  },
  {
   "cell_type": "code",
   "execution_count": 127,
   "metadata": {
    "collapsed": false
   },
   "outputs": [],
   "source": [
    "weather[' Events'] = weather[' Events'].apply(convertEventToInt)"
   ]
  },
  {
   "cell_type": "code",
   "execution_count": 128,
   "metadata": {
    "collapsed": false
   },
   "outputs": [
    {
     "data": {
      "text/plain": [
       "array([ 0, -1], dtype=int64)"
      ]
     },
     "execution_count": 128,
     "metadata": {},
     "output_type": "execute_result"
    }
   ],
   "source": [
    "weather[' Events'].unique()"
   ]
  },
  {
   "cell_type": "code",
   "execution_count": 129,
   "metadata": {
    "collapsed": true
   },
   "outputs": [],
   "source": [
    "weather['PrecipitationIn'] = weather['PrecipitationIn'].apply(lambda x: 0.01 if x == 'T' else x)"
   ]
  },
  {
   "cell_type": "code",
   "execution_count": 130,
   "metadata": {
    "collapsed": false
   },
   "outputs": [],
   "source": [
    "weather['PrecipitationIn'] = weather['PrecipitationIn'].astype('float64')"
   ]
  },
  {
   "cell_type": "code",
   "execution_count": 131,
   "metadata": {
    "collapsed": false
   },
   "outputs": [],
   "source": [
    "trip['Date'] = trip['Start Date'].apply(lambda x: x.date())\n",
    "#trip"
   ]
  },
  {
   "cell_type": "code",
   "execution_count": 132,
   "metadata": {
    "collapsed": false
   },
   "outputs": [],
   "source": [
    "weather['PDT'] = weather['PDT'].apply(lambda x: x.date())"
   ]
  },
  {
   "cell_type": "code",
   "execution_count": 133,
   "metadata": {
    "collapsed": false
   },
   "outputs": [],
   "source": [
    "weather['ZIP'] = weather['ZIP'].astype('str')"
   ]
  },
  {
   "cell_type": "code",
   "execution_count": 134,
   "metadata": {
    "collapsed": false
   },
   "outputs": [
    {
     "data": {
      "text/html": [
       "<div>\n",
       "<table border=\"1\" class=\"dataframe\">\n",
       "  <thead>\n",
       "    <tr style=\"text-align: right;\">\n",
       "      <th></th>\n",
       "      <th>PDT</th>\n",
       "      <th>Max TemperatureF</th>\n",
       "      <th>Mean TemperatureF</th>\n",
       "      <th>Min TemperatureF</th>\n",
       "      <th>Max Dew PointF</th>\n",
       "      <th>MeanDew PointF</th>\n",
       "      <th>Min DewpointF</th>\n",
       "      <th>Max Humidity</th>\n",
       "      <th>Mean Humidity</th>\n",
       "      <th>Min Humidity</th>\n",
       "      <th>...</th>\n",
       "      <th>Mean VisibilityMiles</th>\n",
       "      <th>Min VisibilityMiles</th>\n",
       "      <th>Max Wind SpeedMPH</th>\n",
       "      <th>Mean Wind SpeedMPH</th>\n",
       "      <th>Max Gust SpeedMPH</th>\n",
       "      <th>PrecipitationIn</th>\n",
       "      <th>CloudCover</th>\n",
       "      <th>Events</th>\n",
       "      <th>WindDirDegrees</th>\n",
       "      <th>ZIP</th>\n",
       "    </tr>\n",
       "  </thead>\n",
       "  <tbody>\n",
       "    <tr>\n",
       "      <th>0</th>\n",
       "      <td>2015-09-01</td>\n",
       "      <td>75</td>\n",
       "      <td>67</td>\n",
       "      <td>58</td>\n",
       "      <td>58</td>\n",
       "      <td>56</td>\n",
       "      <td>54</td>\n",
       "      <td>84</td>\n",
       "      <td>67</td>\n",
       "      <td>49</td>\n",
       "      <td>...</td>\n",
       "      <td>10.0</td>\n",
       "      <td>6.0</td>\n",
       "      <td>22</td>\n",
       "      <td>9</td>\n",
       "      <td>26.000000</td>\n",
       "      <td>0.00</td>\n",
       "      <td>2</td>\n",
       "      <td>0</td>\n",
       "      <td>245</td>\n",
       "      <td>94107</td>\n",
       "    </tr>\n",
       "    <tr>\n",
       "      <th>1</th>\n",
       "      <td>2015-09-02</td>\n",
       "      <td>73</td>\n",
       "      <td>68</td>\n",
       "      <td>62</td>\n",
       "      <td>59</td>\n",
       "      <td>56</td>\n",
       "      <td>54</td>\n",
       "      <td>78</td>\n",
       "      <td>68</td>\n",
       "      <td>57</td>\n",
       "      <td>...</td>\n",
       "      <td>10.0</td>\n",
       "      <td>10.0</td>\n",
       "      <td>23</td>\n",
       "      <td>12</td>\n",
       "      <td>26.000000</td>\n",
       "      <td>0.00</td>\n",
       "      <td>5</td>\n",
       "      <td>0</td>\n",
       "      <td>249</td>\n",
       "      <td>94107</td>\n",
       "    </tr>\n",
       "    <tr>\n",
       "      <th>2</th>\n",
       "      <td>2015-09-03</td>\n",
       "      <td>70</td>\n",
       "      <td>65</td>\n",
       "      <td>60</td>\n",
       "      <td>57</td>\n",
       "      <td>54</td>\n",
       "      <td>50</td>\n",
       "      <td>84</td>\n",
       "      <td>69</td>\n",
       "      <td>53</td>\n",
       "      <td>...</td>\n",
       "      <td>10.0</td>\n",
       "      <td>10.0</td>\n",
       "      <td>18</td>\n",
       "      <td>12</td>\n",
       "      <td>25.000000</td>\n",
       "      <td>0.00</td>\n",
       "      <td>2</td>\n",
       "      <td>0</td>\n",
       "      <td>250</td>\n",
       "      <td>94107</td>\n",
       "    </tr>\n",
       "    <tr>\n",
       "      <th>3</th>\n",
       "      <td>2015-09-04</td>\n",
       "      <td>72</td>\n",
       "      <td>64</td>\n",
       "      <td>55</td>\n",
       "      <td>52</td>\n",
       "      <td>50</td>\n",
       "      <td>48</td>\n",
       "      <td>77</td>\n",
       "      <td>61</td>\n",
       "      <td>44</td>\n",
       "      <td>...</td>\n",
       "      <td>10.0</td>\n",
       "      <td>7.0</td>\n",
       "      <td>20</td>\n",
       "      <td>10</td>\n",
       "      <td>24.000000</td>\n",
       "      <td>0.00</td>\n",
       "      <td>2</td>\n",
       "      <td>0</td>\n",
       "      <td>233</td>\n",
       "      <td>94107</td>\n",
       "    </tr>\n",
       "    <tr>\n",
       "      <th>4</th>\n",
       "      <td>2015-09-05</td>\n",
       "      <td>79</td>\n",
       "      <td>65</td>\n",
       "      <td>51</td>\n",
       "      <td>53</td>\n",
       "      <td>48</td>\n",
       "      <td>44</td>\n",
       "      <td>89</td>\n",
       "      <td>60</td>\n",
       "      <td>30</td>\n",
       "      <td>...</td>\n",
       "      <td>10.0</td>\n",
       "      <td>10.0</td>\n",
       "      <td>21</td>\n",
       "      <td>7</td>\n",
       "      <td>24.000000</td>\n",
       "      <td>0.00</td>\n",
       "      <td>2</td>\n",
       "      <td>0</td>\n",
       "      <td>289</td>\n",
       "      <td>94107</td>\n",
       "    </tr>\n",
       "    <tr>\n",
       "      <th>5</th>\n",
       "      <td>2015-09-06</td>\n",
       "      <td>84</td>\n",
       "      <td>68</td>\n",
       "      <td>52</td>\n",
       "      <td>53</td>\n",
       "      <td>47</td>\n",
       "      <td>31</td>\n",
       "      <td>72</td>\n",
       "      <td>44</td>\n",
       "      <td>16</td>\n",
       "      <td>...</td>\n",
       "      <td>10.0</td>\n",
       "      <td>10.0</td>\n",
       "      <td>14</td>\n",
       "      <td>5</td>\n",
       "      <td>17.000000</td>\n",
       "      <td>0.00</td>\n",
       "      <td>3</td>\n",
       "      <td>0</td>\n",
       "      <td>280</td>\n",
       "      <td>94107</td>\n",
       "    </tr>\n",
       "    <tr>\n",
       "      <th>6</th>\n",
       "      <td>2015-09-07</td>\n",
       "      <td>91</td>\n",
       "      <td>73</td>\n",
       "      <td>54</td>\n",
       "      <td>56</td>\n",
       "      <td>46</td>\n",
       "      <td>37</td>\n",
       "      <td>67</td>\n",
       "      <td>42</td>\n",
       "      <td>16</td>\n",
       "      <td>...</td>\n",
       "      <td>10.0</td>\n",
       "      <td>9.0</td>\n",
       "      <td>13</td>\n",
       "      <td>5</td>\n",
       "      <td>15.000000</td>\n",
       "      <td>0.00</td>\n",
       "      <td>1</td>\n",
       "      <td>0</td>\n",
       "      <td>307</td>\n",
       "      <td>94107</td>\n",
       "    </tr>\n",
       "    <tr>\n",
       "      <th>7</th>\n",
       "      <td>2015-09-08</td>\n",
       "      <td>95</td>\n",
       "      <td>76</td>\n",
       "      <td>57</td>\n",
       "      <td>54</td>\n",
       "      <td>46</td>\n",
       "      <td>38</td>\n",
       "      <td>67</td>\n",
       "      <td>43</td>\n",
       "      <td>19</td>\n",
       "      <td>...</td>\n",
       "      <td>10.0</td>\n",
       "      <td>10.0</td>\n",
       "      <td>14</td>\n",
       "      <td>6</td>\n",
       "      <td>17.000000</td>\n",
       "      <td>0.00</td>\n",
       "      <td>0</td>\n",
       "      <td>0</td>\n",
       "      <td>315</td>\n",
       "      <td>94107</td>\n",
       "    </tr>\n",
       "    <tr>\n",
       "      <th>8</th>\n",
       "      <td>2015-09-09</td>\n",
       "      <td>93</td>\n",
       "      <td>77</td>\n",
       "      <td>60</td>\n",
       "      <td>58</td>\n",
       "      <td>50</td>\n",
       "      <td>44</td>\n",
       "      <td>73</td>\n",
       "      <td>47</td>\n",
       "      <td>21</td>\n",
       "      <td>...</td>\n",
       "      <td>10.0</td>\n",
       "      <td>10.0</td>\n",
       "      <td>16</td>\n",
       "      <td>5</td>\n",
       "      <td>18.000000</td>\n",
       "      <td>0.00</td>\n",
       "      <td>0</td>\n",
       "      <td>0</td>\n",
       "      <td>302</td>\n",
       "      <td>94107</td>\n",
       "    </tr>\n",
       "    <tr>\n",
       "      <th>9</th>\n",
       "      <td>2015-09-10</td>\n",
       "      <td>89</td>\n",
       "      <td>74</td>\n",
       "      <td>59</td>\n",
       "      <td>59</td>\n",
       "      <td>56</td>\n",
       "      <td>53</td>\n",
       "      <td>84</td>\n",
       "      <td>59</td>\n",
       "      <td>34</td>\n",
       "      <td>...</td>\n",
       "      <td>10.0</td>\n",
       "      <td>10.0</td>\n",
       "      <td>16</td>\n",
       "      <td>6</td>\n",
       "      <td>18.000000</td>\n",
       "      <td>0.00</td>\n",
       "      <td>2</td>\n",
       "      <td>0</td>\n",
       "      <td>298</td>\n",
       "      <td>94107</td>\n",
       "    </tr>\n",
       "    <tr>\n",
       "      <th>10</th>\n",
       "      <td>2015-09-11</td>\n",
       "      <td>79</td>\n",
       "      <td>70</td>\n",
       "      <td>60</td>\n",
       "      <td>58</td>\n",
       "      <td>56</td>\n",
       "      <td>54</td>\n",
       "      <td>90</td>\n",
       "      <td>67</td>\n",
       "      <td>43</td>\n",
       "      <td>...</td>\n",
       "      <td>10.0</td>\n",
       "      <td>10.0</td>\n",
       "      <td>16</td>\n",
       "      <td>8</td>\n",
       "      <td>20.000000</td>\n",
       "      <td>0.00</td>\n",
       "      <td>4</td>\n",
       "      <td>0</td>\n",
       "      <td>297</td>\n",
       "      <td>94107</td>\n",
       "    </tr>\n",
       "    <tr>\n",
       "      <th>11</th>\n",
       "      <td>2015-09-12</td>\n",
       "      <td>75</td>\n",
       "      <td>67</td>\n",
       "      <td>58</td>\n",
       "      <td>59</td>\n",
       "      <td>56</td>\n",
       "      <td>54</td>\n",
       "      <td>87</td>\n",
       "      <td>70</td>\n",
       "      <td>53</td>\n",
       "      <td>...</td>\n",
       "      <td>10.0</td>\n",
       "      <td>10.0</td>\n",
       "      <td>23</td>\n",
       "      <td>9</td>\n",
       "      <td>31.000000</td>\n",
       "      <td>0.00</td>\n",
       "      <td>7</td>\n",
       "      <td>0</td>\n",
       "      <td>275</td>\n",
       "      <td>94107</td>\n",
       "    </tr>\n",
       "    <tr>\n",
       "      <th>12</th>\n",
       "      <td>2015-09-13</td>\n",
       "      <td>76</td>\n",
       "      <td>68</td>\n",
       "      <td>59</td>\n",
       "      <td>60</td>\n",
       "      <td>57</td>\n",
       "      <td>55</td>\n",
       "      <td>90</td>\n",
       "      <td>72</td>\n",
       "      <td>54</td>\n",
       "      <td>...</td>\n",
       "      <td>10.0</td>\n",
       "      <td>10.0</td>\n",
       "      <td>18</td>\n",
       "      <td>8</td>\n",
       "      <td>22.000000</td>\n",
       "      <td>0.01</td>\n",
       "      <td>6</td>\n",
       "      <td>-1</td>\n",
       "      <td>312</td>\n",
       "      <td>94107</td>\n",
       "    </tr>\n",
       "    <tr>\n",
       "      <th>13</th>\n",
       "      <td>2015-09-14</td>\n",
       "      <td>73</td>\n",
       "      <td>67</td>\n",
       "      <td>60</td>\n",
       "      <td>60</td>\n",
       "      <td>57</td>\n",
       "      <td>55</td>\n",
       "      <td>90</td>\n",
       "      <td>77</td>\n",
       "      <td>63</td>\n",
       "      <td>...</td>\n",
       "      <td>10.0</td>\n",
       "      <td>10.0</td>\n",
       "      <td>24</td>\n",
       "      <td>14</td>\n",
       "      <td>31.000000</td>\n",
       "      <td>0.01</td>\n",
       "      <td>7</td>\n",
       "      <td>0</td>\n",
       "      <td>229</td>\n",
       "      <td>94107</td>\n",
       "    </tr>\n",
       "    <tr>\n",
       "      <th>14</th>\n",
       "      <td>2015-09-15</td>\n",
       "      <td>70</td>\n",
       "      <td>65</td>\n",
       "      <td>59</td>\n",
       "      <td>56</td>\n",
       "      <td>52</td>\n",
       "      <td>49</td>\n",
       "      <td>84</td>\n",
       "      <td>67</td>\n",
       "      <td>49</td>\n",
       "      <td>...</td>\n",
       "      <td>10.0</td>\n",
       "      <td>10.0</td>\n",
       "      <td>28</td>\n",
       "      <td>16</td>\n",
       "      <td>32.000000</td>\n",
       "      <td>0.00</td>\n",
       "      <td>4</td>\n",
       "      <td>0</td>\n",
       "      <td>260</td>\n",
       "      <td>94107</td>\n",
       "    </tr>\n",
       "    <tr>\n",
       "      <th>15</th>\n",
       "      <td>2015-09-16</td>\n",
       "      <td>73</td>\n",
       "      <td>66</td>\n",
       "      <td>58</td>\n",
       "      <td>58</td>\n",
       "      <td>54</td>\n",
       "      <td>50</td>\n",
       "      <td>84</td>\n",
       "      <td>68</td>\n",
       "      <td>51</td>\n",
       "      <td>...</td>\n",
       "      <td>10.0</td>\n",
       "      <td>10.0</td>\n",
       "      <td>22</td>\n",
       "      <td>12</td>\n",
       "      <td>26.000000</td>\n",
       "      <td>0.01</td>\n",
       "      <td>6</td>\n",
       "      <td>-1</td>\n",
       "      <td>217</td>\n",
       "      <td>94107</td>\n",
       "    </tr>\n",
       "    <tr>\n",
       "      <th>16</th>\n",
       "      <td>2015-09-17</td>\n",
       "      <td>73</td>\n",
       "      <td>65</td>\n",
       "      <td>57</td>\n",
       "      <td>58</td>\n",
       "      <td>56</td>\n",
       "      <td>53</td>\n",
       "      <td>90</td>\n",
       "      <td>72</td>\n",
       "      <td>53</td>\n",
       "      <td>...</td>\n",
       "      <td>10.0</td>\n",
       "      <td>10.0</td>\n",
       "      <td>21</td>\n",
       "      <td>8</td>\n",
       "      <td>23.000000</td>\n",
       "      <td>0.00</td>\n",
       "      <td>4</td>\n",
       "      <td>0</td>\n",
       "      <td>300</td>\n",
       "      <td>94107</td>\n",
       "    </tr>\n",
       "    <tr>\n",
       "      <th>17</th>\n",
       "      <td>2015-09-18</td>\n",
       "      <td>79</td>\n",
       "      <td>67</td>\n",
       "      <td>54</td>\n",
       "      <td>59</td>\n",
       "      <td>55</td>\n",
       "      <td>52</td>\n",
       "      <td>93</td>\n",
       "      <td>68</td>\n",
       "      <td>42</td>\n",
       "      <td>...</td>\n",
       "      <td>10.0</td>\n",
       "      <td>9.0</td>\n",
       "      <td>18</td>\n",
       "      <td>6</td>\n",
       "      <td>21.000000</td>\n",
       "      <td>0.00</td>\n",
       "      <td>0</td>\n",
       "      <td>0</td>\n",
       "      <td>288</td>\n",
       "      <td>94107</td>\n",
       "    </tr>\n",
       "    <tr>\n",
       "      <th>18</th>\n",
       "      <td>2015-09-19</td>\n",
       "      <td>88</td>\n",
       "      <td>71</td>\n",
       "      <td>53</td>\n",
       "      <td>59</td>\n",
       "      <td>54</td>\n",
       "      <td>49</td>\n",
       "      <td>93</td>\n",
       "      <td>61</td>\n",
       "      <td>28</td>\n",
       "      <td>...</td>\n",
       "      <td>10.0</td>\n",
       "      <td>10.0</td>\n",
       "      <td>14</td>\n",
       "      <td>4</td>\n",
       "      <td>16.000000</td>\n",
       "      <td>0.00</td>\n",
       "      <td>0</td>\n",
       "      <td>0</td>\n",
       "      <td>292</td>\n",
       "      <td>94107</td>\n",
       "    </tr>\n",
       "    <tr>\n",
       "      <th>19</th>\n",
       "      <td>2015-09-20</td>\n",
       "      <td>91</td>\n",
       "      <td>74</td>\n",
       "      <td>56</td>\n",
       "      <td>60</td>\n",
       "      <td>51</td>\n",
       "      <td>45</td>\n",
       "      <td>72</td>\n",
       "      <td>48</td>\n",
       "      <td>23</td>\n",
       "      <td>...</td>\n",
       "      <td>10.0</td>\n",
       "      <td>10.0</td>\n",
       "      <td>14</td>\n",
       "      <td>5</td>\n",
       "      <td>16.000000</td>\n",
       "      <td>0.00</td>\n",
       "      <td>1</td>\n",
       "      <td>0</td>\n",
       "      <td>304</td>\n",
       "      <td>94107</td>\n",
       "    </tr>\n",
       "    <tr>\n",
       "      <th>20</th>\n",
       "      <td>2015-09-21</td>\n",
       "      <td>91</td>\n",
       "      <td>76</td>\n",
       "      <td>61</td>\n",
       "      <td>58</td>\n",
       "      <td>54</td>\n",
       "      <td>49</td>\n",
       "      <td>78</td>\n",
       "      <td>52</td>\n",
       "      <td>25</td>\n",
       "      <td>...</td>\n",
       "      <td>10.0</td>\n",
       "      <td>10.0</td>\n",
       "      <td>20</td>\n",
       "      <td>7</td>\n",
       "      <td>21.000000</td>\n",
       "      <td>0.00</td>\n",
       "      <td>0</td>\n",
       "      <td>0</td>\n",
       "      <td>299</td>\n",
       "      <td>94107</td>\n",
       "    </tr>\n",
       "    <tr>\n",
       "      <th>21</th>\n",
       "      <td>2015-09-22</td>\n",
       "      <td>66</td>\n",
       "      <td>62</td>\n",
       "      <td>57</td>\n",
       "      <td>55</td>\n",
       "      <td>53</td>\n",
       "      <td>51</td>\n",
       "      <td>86</td>\n",
       "      <td>77</td>\n",
       "      <td>67</td>\n",
       "      <td>...</td>\n",
       "      <td>9.0</td>\n",
       "      <td>6.0</td>\n",
       "      <td>16</td>\n",
       "      <td>11</td>\n",
       "      <td>20.000000</td>\n",
       "      <td>0.00</td>\n",
       "      <td>4</td>\n",
       "      <td>0</td>\n",
       "      <td>264</td>\n",
       "      <td>94107</td>\n",
       "    </tr>\n",
       "    <tr>\n",
       "      <th>22</th>\n",
       "      <td>2015-09-23</td>\n",
       "      <td>76</td>\n",
       "      <td>64</td>\n",
       "      <td>52</td>\n",
       "      <td>54</td>\n",
       "      <td>52</td>\n",
       "      <td>48</td>\n",
       "      <td>86</td>\n",
       "      <td>66</td>\n",
       "      <td>46</td>\n",
       "      <td>...</td>\n",
       "      <td>10.0</td>\n",
       "      <td>7.0</td>\n",
       "      <td>15</td>\n",
       "      <td>6</td>\n",
       "      <td>17.000000</td>\n",
       "      <td>0.00</td>\n",
       "      <td>2</td>\n",
       "      <td>0</td>\n",
       "      <td>267</td>\n",
       "      <td>94107</td>\n",
       "    </tr>\n",
       "    <tr>\n",
       "      <th>23</th>\n",
       "      <td>2015-09-24</td>\n",
       "      <td>89</td>\n",
       "      <td>73</td>\n",
       "      <td>56</td>\n",
       "      <td>57</td>\n",
       "      <td>54</td>\n",
       "      <td>44</td>\n",
       "      <td>80</td>\n",
       "      <td>52</td>\n",
       "      <td>23</td>\n",
       "      <td>...</td>\n",
       "      <td>10.0</td>\n",
       "      <td>10.0</td>\n",
       "      <td>14</td>\n",
       "      <td>5</td>\n",
       "      <td>21.000000</td>\n",
       "      <td>0.00</td>\n",
       "      <td>6</td>\n",
       "      <td>0</td>\n",
       "      <td>298</td>\n",
       "      <td>94107</td>\n",
       "    </tr>\n",
       "    <tr>\n",
       "      <th>24</th>\n",
       "      <td>2015-09-25</td>\n",
       "      <td>75</td>\n",
       "      <td>66</td>\n",
       "      <td>57</td>\n",
       "      <td>57</td>\n",
       "      <td>55</td>\n",
       "      <td>53</td>\n",
       "      <td>93</td>\n",
       "      <td>71</td>\n",
       "      <td>49</td>\n",
       "      <td>...</td>\n",
       "      <td>10.0</td>\n",
       "      <td>10.0</td>\n",
       "      <td>18</td>\n",
       "      <td>7</td>\n",
       "      <td>21.000000</td>\n",
       "      <td>0.00</td>\n",
       "      <td>3</td>\n",
       "      <td>0</td>\n",
       "      <td>277</td>\n",
       "      <td>94107</td>\n",
       "    </tr>\n",
       "    <tr>\n",
       "      <th>25</th>\n",
       "      <td>2015-09-26</td>\n",
       "      <td>74</td>\n",
       "      <td>65</td>\n",
       "      <td>55</td>\n",
       "      <td>57</td>\n",
       "      <td>55</td>\n",
       "      <td>51</td>\n",
       "      <td>87</td>\n",
       "      <td>70</td>\n",
       "      <td>53</td>\n",
       "      <td>...</td>\n",
       "      <td>10.0</td>\n",
       "      <td>10.0</td>\n",
       "      <td>15</td>\n",
       "      <td>7</td>\n",
       "      <td>17.000000</td>\n",
       "      <td>0.00</td>\n",
       "      <td>3</td>\n",
       "      <td>0</td>\n",
       "      <td>291</td>\n",
       "      <td>94107</td>\n",
       "    </tr>\n",
       "    <tr>\n",
       "      <th>26</th>\n",
       "      <td>2015-09-27</td>\n",
       "      <td>73</td>\n",
       "      <td>65</td>\n",
       "      <td>56</td>\n",
       "      <td>57</td>\n",
       "      <td>55</td>\n",
       "      <td>53</td>\n",
       "      <td>93</td>\n",
       "      <td>73</td>\n",
       "      <td>53</td>\n",
       "      <td>...</td>\n",
       "      <td>9.0</td>\n",
       "      <td>7.0</td>\n",
       "      <td>17</td>\n",
       "      <td>6</td>\n",
       "      <td>20.000000</td>\n",
       "      <td>0.00</td>\n",
       "      <td>6</td>\n",
       "      <td>-1</td>\n",
       "      <td>300</td>\n",
       "      <td>94107</td>\n",
       "    </tr>\n",
       "    <tr>\n",
       "      <th>27</th>\n",
       "      <td>2015-09-28</td>\n",
       "      <td>70</td>\n",
       "      <td>62</td>\n",
       "      <td>54</td>\n",
       "      <td>56</td>\n",
       "      <td>54</td>\n",
       "      <td>52</td>\n",
       "      <td>93</td>\n",
       "      <td>76</td>\n",
       "      <td>59</td>\n",
       "      <td>...</td>\n",
       "      <td>10.0</td>\n",
       "      <td>7.0</td>\n",
       "      <td>17</td>\n",
       "      <td>7</td>\n",
       "      <td>21.000000</td>\n",
       "      <td>0.00</td>\n",
       "      <td>5</td>\n",
       "      <td>0</td>\n",
       "      <td>307</td>\n",
       "      <td>94107</td>\n",
       "    </tr>\n",
       "    <tr>\n",
       "      <th>28</th>\n",
       "      <td>2015-09-29</td>\n",
       "      <td>68</td>\n",
       "      <td>64</td>\n",
       "      <td>60</td>\n",
       "      <td>54</td>\n",
       "      <td>52</td>\n",
       "      <td>50</td>\n",
       "      <td>78</td>\n",
       "      <td>67</td>\n",
       "      <td>55</td>\n",
       "      <td>...</td>\n",
       "      <td>10.0</td>\n",
       "      <td>10.0</td>\n",
       "      <td>15</td>\n",
       "      <td>9</td>\n",
       "      <td>17.000000</td>\n",
       "      <td>0.00</td>\n",
       "      <td>7</td>\n",
       "      <td>0</td>\n",
       "      <td>277</td>\n",
       "      <td>94107</td>\n",
       "    </tr>\n",
       "    <tr>\n",
       "      <th>29</th>\n",
       "      <td>2015-09-30</td>\n",
       "      <td>65</td>\n",
       "      <td>61</td>\n",
       "      <td>57</td>\n",
       "      <td>58</td>\n",
       "      <td>54</td>\n",
       "      <td>50</td>\n",
       "      <td>87</td>\n",
       "      <td>80</td>\n",
       "      <td>72</td>\n",
       "      <td>...</td>\n",
       "      <td>10.0</td>\n",
       "      <td>10.0</td>\n",
       "      <td>12</td>\n",
       "      <td>3</td>\n",
       "      <td>14.000000</td>\n",
       "      <td>0.01</td>\n",
       "      <td>7</td>\n",
       "      <td>-1</td>\n",
       "      <td>250</td>\n",
       "      <td>94107</td>\n",
       "    </tr>\n",
       "    <tr>\n",
       "      <th>...</th>\n",
       "      <td>...</td>\n",
       "      <td>...</td>\n",
       "      <td>...</td>\n",
       "      <td>...</td>\n",
       "      <td>...</td>\n",
       "      <td>...</td>\n",
       "      <td>...</td>\n",
       "      <td>...</td>\n",
       "      <td>...</td>\n",
       "      <td>...</td>\n",
       "      <td>...</td>\n",
       "      <td>...</td>\n",
       "      <td>...</td>\n",
       "      <td>...</td>\n",
       "      <td>...</td>\n",
       "      <td>...</td>\n",
       "      <td>...</td>\n",
       "      <td>...</td>\n",
       "      <td>...</td>\n",
       "      <td>...</td>\n",
       "      <td>...</td>\n",
       "    </tr>\n",
       "    <tr>\n",
       "      <th>1800</th>\n",
       "      <td>2016-08-02</td>\n",
       "      <td>81</td>\n",
       "      <td>69</td>\n",
       "      <td>57</td>\n",
       "      <td>58</td>\n",
       "      <td>55</td>\n",
       "      <td>53</td>\n",
       "      <td>80</td>\n",
       "      <td>61</td>\n",
       "      <td>42</td>\n",
       "      <td>...</td>\n",
       "      <td>10.0</td>\n",
       "      <td>8.0</td>\n",
       "      <td>15</td>\n",
       "      <td>6</td>\n",
       "      <td>17.000000</td>\n",
       "      <td>0.00</td>\n",
       "      <td>0</td>\n",
       "      <td>0</td>\n",
       "      <td>305</td>\n",
       "      <td>95113</td>\n",
       "    </tr>\n",
       "    <tr>\n",
       "      <th>1801</th>\n",
       "      <td>2016-08-03</td>\n",
       "      <td>82</td>\n",
       "      <td>70</td>\n",
       "      <td>57</td>\n",
       "      <td>57</td>\n",
       "      <td>55</td>\n",
       "      <td>52</td>\n",
       "      <td>86</td>\n",
       "      <td>65</td>\n",
       "      <td>43</td>\n",
       "      <td>...</td>\n",
       "      <td>10.0</td>\n",
       "      <td>9.0</td>\n",
       "      <td>17</td>\n",
       "      <td>7</td>\n",
       "      <td>21.000000</td>\n",
       "      <td>0.00</td>\n",
       "      <td>0</td>\n",
       "      <td>0</td>\n",
       "      <td>280</td>\n",
       "      <td>95113</td>\n",
       "    </tr>\n",
       "    <tr>\n",
       "      <th>1802</th>\n",
       "      <td>2016-08-04</td>\n",
       "      <td>74</td>\n",
       "      <td>66</td>\n",
       "      <td>58</td>\n",
       "      <td>55</td>\n",
       "      <td>54</td>\n",
       "      <td>52</td>\n",
       "      <td>86</td>\n",
       "      <td>70</td>\n",
       "      <td>53</td>\n",
       "      <td>...</td>\n",
       "      <td>9.0</td>\n",
       "      <td>7.0</td>\n",
       "      <td>15</td>\n",
       "      <td>7</td>\n",
       "      <td>22.040185</td>\n",
       "      <td>0.00</td>\n",
       "      <td>4</td>\n",
       "      <td>0</td>\n",
       "      <td>313</td>\n",
       "      <td>95113</td>\n",
       "    </tr>\n",
       "    <tr>\n",
       "      <th>1803</th>\n",
       "      <td>2016-08-05</td>\n",
       "      <td>78</td>\n",
       "      <td>68</td>\n",
       "      <td>58</td>\n",
       "      <td>56</td>\n",
       "      <td>54</td>\n",
       "      <td>52</td>\n",
       "      <td>80</td>\n",
       "      <td>63</td>\n",
       "      <td>46</td>\n",
       "      <td>...</td>\n",
       "      <td>10.0</td>\n",
       "      <td>10.0</td>\n",
       "      <td>18</td>\n",
       "      <td>9</td>\n",
       "      <td>23.000000</td>\n",
       "      <td>0.00</td>\n",
       "      <td>4</td>\n",
       "      <td>0</td>\n",
       "      <td>300</td>\n",
       "      <td>95113</td>\n",
       "    </tr>\n",
       "    <tr>\n",
       "      <th>1804</th>\n",
       "      <td>2016-08-06</td>\n",
       "      <td>75</td>\n",
       "      <td>67</td>\n",
       "      <td>58</td>\n",
       "      <td>56</td>\n",
       "      <td>54</td>\n",
       "      <td>51</td>\n",
       "      <td>80</td>\n",
       "      <td>67</td>\n",
       "      <td>53</td>\n",
       "      <td>...</td>\n",
       "      <td>10.0</td>\n",
       "      <td>9.0</td>\n",
       "      <td>17</td>\n",
       "      <td>7</td>\n",
       "      <td>20.000000</td>\n",
       "      <td>0.00</td>\n",
       "      <td>4</td>\n",
       "      <td>0</td>\n",
       "      <td>329</td>\n",
       "      <td>95113</td>\n",
       "    </tr>\n",
       "    <tr>\n",
       "      <th>1805</th>\n",
       "      <td>2016-08-07</td>\n",
       "      <td>78</td>\n",
       "      <td>67</td>\n",
       "      <td>55</td>\n",
       "      <td>54</td>\n",
       "      <td>52</td>\n",
       "      <td>49</td>\n",
       "      <td>86</td>\n",
       "      <td>64</td>\n",
       "      <td>41</td>\n",
       "      <td>...</td>\n",
       "      <td>10.0</td>\n",
       "      <td>9.0</td>\n",
       "      <td>15</td>\n",
       "      <td>7</td>\n",
       "      <td>20.000000</td>\n",
       "      <td>0.00</td>\n",
       "      <td>2</td>\n",
       "      <td>0</td>\n",
       "      <td>275</td>\n",
       "      <td>95113</td>\n",
       "    </tr>\n",
       "    <tr>\n",
       "      <th>1806</th>\n",
       "      <td>2016-08-08</td>\n",
       "      <td>81</td>\n",
       "      <td>69</td>\n",
       "      <td>57</td>\n",
       "      <td>55</td>\n",
       "      <td>53</td>\n",
       "      <td>51</td>\n",
       "      <td>80</td>\n",
       "      <td>60</td>\n",
       "      <td>39</td>\n",
       "      <td>...</td>\n",
       "      <td>10.0</td>\n",
       "      <td>10.0</td>\n",
       "      <td>17</td>\n",
       "      <td>6</td>\n",
       "      <td>22.000000</td>\n",
       "      <td>0.00</td>\n",
       "      <td>1</td>\n",
       "      <td>0</td>\n",
       "      <td>321</td>\n",
       "      <td>95113</td>\n",
       "    </tr>\n",
       "    <tr>\n",
       "      <th>1807</th>\n",
       "      <td>2016-08-09</td>\n",
       "      <td>85</td>\n",
       "      <td>71</td>\n",
       "      <td>57</td>\n",
       "      <td>56</td>\n",
       "      <td>53</td>\n",
       "      <td>50</td>\n",
       "      <td>86</td>\n",
       "      <td>59</td>\n",
       "      <td>31</td>\n",
       "      <td>...</td>\n",
       "      <td>10.0</td>\n",
       "      <td>10.0</td>\n",
       "      <td>18</td>\n",
       "      <td>8</td>\n",
       "      <td>24.000000</td>\n",
       "      <td>0.00</td>\n",
       "      <td>2</td>\n",
       "      <td>0</td>\n",
       "      <td>96</td>\n",
       "      <td>95113</td>\n",
       "    </tr>\n",
       "    <tr>\n",
       "      <th>1808</th>\n",
       "      <td>2016-08-10</td>\n",
       "      <td>84</td>\n",
       "      <td>70</td>\n",
       "      <td>56</td>\n",
       "      <td>58</td>\n",
       "      <td>54</td>\n",
       "      <td>52</td>\n",
       "      <td>86</td>\n",
       "      <td>60</td>\n",
       "      <td>34</td>\n",
       "      <td>...</td>\n",
       "      <td>10.0</td>\n",
       "      <td>10.0</td>\n",
       "      <td>21</td>\n",
       "      <td>10</td>\n",
       "      <td>28.000000</td>\n",
       "      <td>0.01</td>\n",
       "      <td>1</td>\n",
       "      <td>0</td>\n",
       "      <td>189</td>\n",
       "      <td>95113</td>\n",
       "    </tr>\n",
       "    <tr>\n",
       "      <th>1809</th>\n",
       "      <td>2016-08-11</td>\n",
       "      <td>81</td>\n",
       "      <td>69</td>\n",
       "      <td>56</td>\n",
       "      <td>58</td>\n",
       "      <td>54</td>\n",
       "      <td>52</td>\n",
       "      <td>80</td>\n",
       "      <td>63</td>\n",
       "      <td>45</td>\n",
       "      <td>...</td>\n",
       "      <td>10.0</td>\n",
       "      <td>7.0</td>\n",
       "      <td>16</td>\n",
       "      <td>8</td>\n",
       "      <td>20.000000</td>\n",
       "      <td>0.00</td>\n",
       "      <td>1</td>\n",
       "      <td>0</td>\n",
       "      <td>276</td>\n",
       "      <td>95113</td>\n",
       "    </tr>\n",
       "    <tr>\n",
       "      <th>1810</th>\n",
       "      <td>2016-08-12</td>\n",
       "      <td>80</td>\n",
       "      <td>70</td>\n",
       "      <td>60</td>\n",
       "      <td>58</td>\n",
       "      <td>56</td>\n",
       "      <td>53</td>\n",
       "      <td>84</td>\n",
       "      <td>65</td>\n",
       "      <td>45</td>\n",
       "      <td>...</td>\n",
       "      <td>9.0</td>\n",
       "      <td>7.0</td>\n",
       "      <td>15</td>\n",
       "      <td>6</td>\n",
       "      <td>22.000000</td>\n",
       "      <td>0.00</td>\n",
       "      <td>2</td>\n",
       "      <td>0</td>\n",
       "      <td>297</td>\n",
       "      <td>95113</td>\n",
       "    </tr>\n",
       "    <tr>\n",
       "      <th>1811</th>\n",
       "      <td>2016-08-13</td>\n",
       "      <td>88</td>\n",
       "      <td>74</td>\n",
       "      <td>59</td>\n",
       "      <td>59</td>\n",
       "      <td>55</td>\n",
       "      <td>45</td>\n",
       "      <td>90</td>\n",
       "      <td>58</td>\n",
       "      <td>25</td>\n",
       "      <td>...</td>\n",
       "      <td>10.0</td>\n",
       "      <td>9.0</td>\n",
       "      <td>15</td>\n",
       "      <td>6</td>\n",
       "      <td>18.000000</td>\n",
       "      <td>0.00</td>\n",
       "      <td>2</td>\n",
       "      <td>0</td>\n",
       "      <td>294</td>\n",
       "      <td>95113</td>\n",
       "    </tr>\n",
       "    <tr>\n",
       "      <th>1812</th>\n",
       "      <td>2016-08-14</td>\n",
       "      <td>85</td>\n",
       "      <td>73</td>\n",
       "      <td>60</td>\n",
       "      <td>59</td>\n",
       "      <td>57</td>\n",
       "      <td>55</td>\n",
       "      <td>90</td>\n",
       "      <td>64</td>\n",
       "      <td>37</td>\n",
       "      <td>...</td>\n",
       "      <td>10.0</td>\n",
       "      <td>10.0</td>\n",
       "      <td>16</td>\n",
       "      <td>8</td>\n",
       "      <td>19.000000</td>\n",
       "      <td>0.00</td>\n",
       "      <td>4</td>\n",
       "      <td>0</td>\n",
       "      <td>298</td>\n",
       "      <td>95113</td>\n",
       "    </tr>\n",
       "    <tr>\n",
       "      <th>1813</th>\n",
       "      <td>2016-08-15</td>\n",
       "      <td>79</td>\n",
       "      <td>70</td>\n",
       "      <td>60</td>\n",
       "      <td>58</td>\n",
       "      <td>56</td>\n",
       "      <td>55</td>\n",
       "      <td>84</td>\n",
       "      <td>67</td>\n",
       "      <td>50</td>\n",
       "      <td>...</td>\n",
       "      <td>9.0</td>\n",
       "      <td>6.0</td>\n",
       "      <td>15</td>\n",
       "      <td>6</td>\n",
       "      <td>18.000000</td>\n",
       "      <td>0.00</td>\n",
       "      <td>4</td>\n",
       "      <td>0</td>\n",
       "      <td>299</td>\n",
       "      <td>95113</td>\n",
       "    </tr>\n",
       "    <tr>\n",
       "      <th>1814</th>\n",
       "      <td>2016-08-16</td>\n",
       "      <td>82</td>\n",
       "      <td>71</td>\n",
       "      <td>59</td>\n",
       "      <td>59</td>\n",
       "      <td>56</td>\n",
       "      <td>55</td>\n",
       "      <td>84</td>\n",
       "      <td>62</td>\n",
       "      <td>40</td>\n",
       "      <td>...</td>\n",
       "      <td>9.0</td>\n",
       "      <td>6.0</td>\n",
       "      <td>15</td>\n",
       "      <td>6</td>\n",
       "      <td>18.000000</td>\n",
       "      <td>0.00</td>\n",
       "      <td>4</td>\n",
       "      <td>0</td>\n",
       "      <td>306</td>\n",
       "      <td>95113</td>\n",
       "    </tr>\n",
       "    <tr>\n",
       "      <th>1815</th>\n",
       "      <td>2016-08-17</td>\n",
       "      <td>82</td>\n",
       "      <td>71</td>\n",
       "      <td>59</td>\n",
       "      <td>58</td>\n",
       "      <td>56</td>\n",
       "      <td>53</td>\n",
       "      <td>84</td>\n",
       "      <td>63</td>\n",
       "      <td>42</td>\n",
       "      <td>...</td>\n",
       "      <td>10.0</td>\n",
       "      <td>6.0</td>\n",
       "      <td>15</td>\n",
       "      <td>7</td>\n",
       "      <td>18.000000</td>\n",
       "      <td>0.00</td>\n",
       "      <td>2</td>\n",
       "      <td>0</td>\n",
       "      <td>300</td>\n",
       "      <td>95113</td>\n",
       "    </tr>\n",
       "    <tr>\n",
       "      <th>1816</th>\n",
       "      <td>2016-08-18</td>\n",
       "      <td>80</td>\n",
       "      <td>71</td>\n",
       "      <td>61</td>\n",
       "      <td>59</td>\n",
       "      <td>56</td>\n",
       "      <td>53</td>\n",
       "      <td>84</td>\n",
       "      <td>64</td>\n",
       "      <td>43</td>\n",
       "      <td>...</td>\n",
       "      <td>10.0</td>\n",
       "      <td>7.0</td>\n",
       "      <td>15</td>\n",
       "      <td>6</td>\n",
       "      <td>18.000000</td>\n",
       "      <td>0.00</td>\n",
       "      <td>2</td>\n",
       "      <td>0</td>\n",
       "      <td>297</td>\n",
       "      <td>95113</td>\n",
       "    </tr>\n",
       "    <tr>\n",
       "      <th>1817</th>\n",
       "      <td>2016-08-19</td>\n",
       "      <td>78</td>\n",
       "      <td>68</td>\n",
       "      <td>58</td>\n",
       "      <td>58</td>\n",
       "      <td>55</td>\n",
       "      <td>54</td>\n",
       "      <td>84</td>\n",
       "      <td>67</td>\n",
       "      <td>49</td>\n",
       "      <td>...</td>\n",
       "      <td>9.0</td>\n",
       "      <td>6.0</td>\n",
       "      <td>14</td>\n",
       "      <td>7</td>\n",
       "      <td>17.000000</td>\n",
       "      <td>0.00</td>\n",
       "      <td>1</td>\n",
       "      <td>0</td>\n",
       "      <td>258</td>\n",
       "      <td>95113</td>\n",
       "    </tr>\n",
       "    <tr>\n",
       "      <th>1818</th>\n",
       "      <td>2016-08-20</td>\n",
       "      <td>76</td>\n",
       "      <td>69</td>\n",
       "      <td>61</td>\n",
       "      <td>57</td>\n",
       "      <td>56</td>\n",
       "      <td>55</td>\n",
       "      <td>84</td>\n",
       "      <td>69</td>\n",
       "      <td>54</td>\n",
       "      <td>...</td>\n",
       "      <td>10.0</td>\n",
       "      <td>7.0</td>\n",
       "      <td>15</td>\n",
       "      <td>7</td>\n",
       "      <td>19.000000</td>\n",
       "      <td>0.00</td>\n",
       "      <td>2</td>\n",
       "      <td>0</td>\n",
       "      <td>306</td>\n",
       "      <td>95113</td>\n",
       "    </tr>\n",
       "    <tr>\n",
       "      <th>1819</th>\n",
       "      <td>2016-08-21</td>\n",
       "      <td>78</td>\n",
       "      <td>69</td>\n",
       "      <td>60</td>\n",
       "      <td>57</td>\n",
       "      <td>55</td>\n",
       "      <td>54</td>\n",
       "      <td>84</td>\n",
       "      <td>66</td>\n",
       "      <td>47</td>\n",
       "      <td>...</td>\n",
       "      <td>10.0</td>\n",
       "      <td>9.0</td>\n",
       "      <td>18</td>\n",
       "      <td>7</td>\n",
       "      <td>22.000000</td>\n",
       "      <td>0.00</td>\n",
       "      <td>5</td>\n",
       "      <td>0</td>\n",
       "      <td>306</td>\n",
       "      <td>95113</td>\n",
       "    </tr>\n",
       "    <tr>\n",
       "      <th>1820</th>\n",
       "      <td>2016-08-22</td>\n",
       "      <td>77</td>\n",
       "      <td>69</td>\n",
       "      <td>60</td>\n",
       "      <td>58</td>\n",
       "      <td>55</td>\n",
       "      <td>51</td>\n",
       "      <td>84</td>\n",
       "      <td>65</td>\n",
       "      <td>46</td>\n",
       "      <td>...</td>\n",
       "      <td>9.0</td>\n",
       "      <td>6.0</td>\n",
       "      <td>18</td>\n",
       "      <td>7</td>\n",
       "      <td>22.000000</td>\n",
       "      <td>0.00</td>\n",
       "      <td>3</td>\n",
       "      <td>0</td>\n",
       "      <td>310</td>\n",
       "      <td>95113</td>\n",
       "    </tr>\n",
       "    <tr>\n",
       "      <th>1821</th>\n",
       "      <td>2016-08-23</td>\n",
       "      <td>81</td>\n",
       "      <td>71</td>\n",
       "      <td>60</td>\n",
       "      <td>57</td>\n",
       "      <td>55</td>\n",
       "      <td>53</td>\n",
       "      <td>84</td>\n",
       "      <td>63</td>\n",
       "      <td>42</td>\n",
       "      <td>...</td>\n",
       "      <td>9.0</td>\n",
       "      <td>5.0</td>\n",
       "      <td>16</td>\n",
       "      <td>6</td>\n",
       "      <td>19.000000</td>\n",
       "      <td>0.00</td>\n",
       "      <td>4</td>\n",
       "      <td>0</td>\n",
       "      <td>311</td>\n",
       "      <td>95113</td>\n",
       "    </tr>\n",
       "    <tr>\n",
       "      <th>1822</th>\n",
       "      <td>2016-08-24</td>\n",
       "      <td>78</td>\n",
       "      <td>69</td>\n",
       "      <td>60</td>\n",
       "      <td>57</td>\n",
       "      <td>56</td>\n",
       "      <td>55</td>\n",
       "      <td>84</td>\n",
       "      <td>66</td>\n",
       "      <td>47</td>\n",
       "      <td>...</td>\n",
       "      <td>9.0</td>\n",
       "      <td>6.0</td>\n",
       "      <td>15</td>\n",
       "      <td>6</td>\n",
       "      <td>19.000000</td>\n",
       "      <td>0.00</td>\n",
       "      <td>3</td>\n",
       "      <td>0</td>\n",
       "      <td>325</td>\n",
       "      <td>95113</td>\n",
       "    </tr>\n",
       "    <tr>\n",
       "      <th>1823</th>\n",
       "      <td>2016-08-25</td>\n",
       "      <td>76</td>\n",
       "      <td>68</td>\n",
       "      <td>60</td>\n",
       "      <td>56</td>\n",
       "      <td>55</td>\n",
       "      <td>54</td>\n",
       "      <td>84</td>\n",
       "      <td>67</td>\n",
       "      <td>50</td>\n",
       "      <td>...</td>\n",
       "      <td>8.0</td>\n",
       "      <td>5.0</td>\n",
       "      <td>15</td>\n",
       "      <td>6</td>\n",
       "      <td>18.000000</td>\n",
       "      <td>0.00</td>\n",
       "      <td>4</td>\n",
       "      <td>0</td>\n",
       "      <td>312</td>\n",
       "      <td>95113</td>\n",
       "    </tr>\n",
       "    <tr>\n",
       "      <th>1824</th>\n",
       "      <td>2016-08-26</td>\n",
       "      <td>81</td>\n",
       "      <td>71</td>\n",
       "      <td>60</td>\n",
       "      <td>57</td>\n",
       "      <td>55</td>\n",
       "      <td>53</td>\n",
       "      <td>84</td>\n",
       "      <td>65</td>\n",
       "      <td>45</td>\n",
       "      <td>...</td>\n",
       "      <td>10.0</td>\n",
       "      <td>6.0</td>\n",
       "      <td>16</td>\n",
       "      <td>9</td>\n",
       "      <td>19.000000</td>\n",
       "      <td>0.00</td>\n",
       "      <td>4</td>\n",
       "      <td>0</td>\n",
       "      <td>116</td>\n",
       "      <td>95113</td>\n",
       "    </tr>\n",
       "    <tr>\n",
       "      <th>1825</th>\n",
       "      <td>2016-08-27</td>\n",
       "      <td>78</td>\n",
       "      <td>70</td>\n",
       "      <td>61</td>\n",
       "      <td>56</td>\n",
       "      <td>54</td>\n",
       "      <td>53</td>\n",
       "      <td>72</td>\n",
       "      <td>59</td>\n",
       "      <td>46</td>\n",
       "      <td>...</td>\n",
       "      <td>10.0</td>\n",
       "      <td>10.0</td>\n",
       "      <td>17</td>\n",
       "      <td>7</td>\n",
       "      <td>20.000000</td>\n",
       "      <td>0.00</td>\n",
       "      <td>4</td>\n",
       "      <td>0</td>\n",
       "      <td>231</td>\n",
       "      <td>95113</td>\n",
       "    </tr>\n",
       "    <tr>\n",
       "      <th>1826</th>\n",
       "      <td>2016-08-28</td>\n",
       "      <td>79</td>\n",
       "      <td>70</td>\n",
       "      <td>60</td>\n",
       "      <td>56</td>\n",
       "      <td>55</td>\n",
       "      <td>54</td>\n",
       "      <td>84</td>\n",
       "      <td>65</td>\n",
       "      <td>45</td>\n",
       "      <td>...</td>\n",
       "      <td>10.0</td>\n",
       "      <td>10.0</td>\n",
       "      <td>17</td>\n",
       "      <td>7</td>\n",
       "      <td>21.000000</td>\n",
       "      <td>0.00</td>\n",
       "      <td>4</td>\n",
       "      <td>0</td>\n",
       "      <td>307</td>\n",
       "      <td>95113</td>\n",
       "    </tr>\n",
       "    <tr>\n",
       "      <th>1827</th>\n",
       "      <td>2016-08-29</td>\n",
       "      <td>76</td>\n",
       "      <td>68</td>\n",
       "      <td>60</td>\n",
       "      <td>55</td>\n",
       "      <td>54</td>\n",
       "      <td>53</td>\n",
       "      <td>78</td>\n",
       "      <td>64</td>\n",
       "      <td>49</td>\n",
       "      <td>...</td>\n",
       "      <td>10.0</td>\n",
       "      <td>8.0</td>\n",
       "      <td>21</td>\n",
       "      <td>10</td>\n",
       "      <td>26.000000</td>\n",
       "      <td>0.00</td>\n",
       "      <td>6</td>\n",
       "      <td>0</td>\n",
       "      <td>319</td>\n",
       "      <td>95113</td>\n",
       "    </tr>\n",
       "    <tr>\n",
       "      <th>1828</th>\n",
       "      <td>2016-08-30</td>\n",
       "      <td>81</td>\n",
       "      <td>70</td>\n",
       "      <td>59</td>\n",
       "      <td>56</td>\n",
       "      <td>54</td>\n",
       "      <td>52</td>\n",
       "      <td>78</td>\n",
       "      <td>60</td>\n",
       "      <td>42</td>\n",
       "      <td>...</td>\n",
       "      <td>10.0</td>\n",
       "      <td>10.0</td>\n",
       "      <td>18</td>\n",
       "      <td>6</td>\n",
       "      <td>23.000000</td>\n",
       "      <td>0.00</td>\n",
       "      <td>2</td>\n",
       "      <td>0</td>\n",
       "      <td>315</td>\n",
       "      <td>95113</td>\n",
       "    </tr>\n",
       "    <tr>\n",
       "      <th>1829</th>\n",
       "      <td>2016-08-31</td>\n",
       "      <td>78</td>\n",
       "      <td>69</td>\n",
       "      <td>60</td>\n",
       "      <td>57</td>\n",
       "      <td>55</td>\n",
       "      <td>52</td>\n",
       "      <td>84</td>\n",
       "      <td>64</td>\n",
       "      <td>43</td>\n",
       "      <td>...</td>\n",
       "      <td>10.0</td>\n",
       "      <td>10.0</td>\n",
       "      <td>20</td>\n",
       "      <td>9</td>\n",
       "      <td>24.000000</td>\n",
       "      <td>0.00</td>\n",
       "      <td>1</td>\n",
       "      <td>0</td>\n",
       "      <td>316</td>\n",
       "      <td>95113</td>\n",
       "    </tr>\n",
       "  </tbody>\n",
       "</table>\n",
       "<p>1830 rows × 24 columns</p>\n",
       "</div>"
      ],
      "text/plain": [
       "             PDT  Max TemperatureF  Mean TemperatureF  Min TemperatureF  \\\n",
       "0     2015-09-01                75                 67                58   \n",
       "1     2015-09-02                73                 68                62   \n",
       "2     2015-09-03                70                 65                60   \n",
       "3     2015-09-04                72                 64                55   \n",
       "4     2015-09-05                79                 65                51   \n",
       "5     2015-09-06                84                 68                52   \n",
       "6     2015-09-07                91                 73                54   \n",
       "7     2015-09-08                95                 76                57   \n",
       "8     2015-09-09                93                 77                60   \n",
       "9     2015-09-10                89                 74                59   \n",
       "10    2015-09-11                79                 70                60   \n",
       "11    2015-09-12                75                 67                58   \n",
       "12    2015-09-13                76                 68                59   \n",
       "13    2015-09-14                73                 67                60   \n",
       "14    2015-09-15                70                 65                59   \n",
       "15    2015-09-16                73                 66                58   \n",
       "16    2015-09-17                73                 65                57   \n",
       "17    2015-09-18                79                 67                54   \n",
       "18    2015-09-19                88                 71                53   \n",
       "19    2015-09-20                91                 74                56   \n",
       "20    2015-09-21                91                 76                61   \n",
       "21    2015-09-22                66                 62                57   \n",
       "22    2015-09-23                76                 64                52   \n",
       "23    2015-09-24                89                 73                56   \n",
       "24    2015-09-25                75                 66                57   \n",
       "25    2015-09-26                74                 65                55   \n",
       "26    2015-09-27                73                 65                56   \n",
       "27    2015-09-28                70                 62                54   \n",
       "28    2015-09-29                68                 64                60   \n",
       "29    2015-09-30                65                 61                57   \n",
       "...          ...               ...                ...               ...   \n",
       "1800  2016-08-02                81                 69                57   \n",
       "1801  2016-08-03                82                 70                57   \n",
       "1802  2016-08-04                74                 66                58   \n",
       "1803  2016-08-05                78                 68                58   \n",
       "1804  2016-08-06                75                 67                58   \n",
       "1805  2016-08-07                78                 67                55   \n",
       "1806  2016-08-08                81                 69                57   \n",
       "1807  2016-08-09                85                 71                57   \n",
       "1808  2016-08-10                84                 70                56   \n",
       "1809  2016-08-11                81                 69                56   \n",
       "1810  2016-08-12                80                 70                60   \n",
       "1811  2016-08-13                88                 74                59   \n",
       "1812  2016-08-14                85                 73                60   \n",
       "1813  2016-08-15                79                 70                60   \n",
       "1814  2016-08-16                82                 71                59   \n",
       "1815  2016-08-17                82                 71                59   \n",
       "1816  2016-08-18                80                 71                61   \n",
       "1817  2016-08-19                78                 68                58   \n",
       "1818  2016-08-20                76                 69                61   \n",
       "1819  2016-08-21                78                 69                60   \n",
       "1820  2016-08-22                77                 69                60   \n",
       "1821  2016-08-23                81                 71                60   \n",
       "1822  2016-08-24                78                 69                60   \n",
       "1823  2016-08-25                76                 68                60   \n",
       "1824  2016-08-26                81                 71                60   \n",
       "1825  2016-08-27                78                 70                61   \n",
       "1826  2016-08-28                79                 70                60   \n",
       "1827  2016-08-29                76                 68                60   \n",
       "1828  2016-08-30                81                 70                59   \n",
       "1829  2016-08-31                78                 69                60   \n",
       "\n",
       "      Max Dew PointF  MeanDew PointF  Min DewpointF  Max Humidity  \\\n",
       "0                 58              56             54            84   \n",
       "1                 59              56             54            78   \n",
       "2                 57              54             50            84   \n",
       "3                 52              50             48            77   \n",
       "4                 53              48             44            89   \n",
       "5                 53              47             31            72   \n",
       "6                 56              46             37            67   \n",
       "7                 54              46             38            67   \n",
       "8                 58              50             44            73   \n",
       "9                 59              56             53            84   \n",
       "10                58              56             54            90   \n",
       "11                59              56             54            87   \n",
       "12                60              57             55            90   \n",
       "13                60              57             55            90   \n",
       "14                56              52             49            84   \n",
       "15                58              54             50            84   \n",
       "16                58              56             53            90   \n",
       "17                59              55             52            93   \n",
       "18                59              54             49            93   \n",
       "19                60              51             45            72   \n",
       "20                58              54             49            78   \n",
       "21                55              53             51            86   \n",
       "22                54              52             48            86   \n",
       "23                57              54             44            80   \n",
       "24                57              55             53            93   \n",
       "25                57              55             51            87   \n",
       "26                57              55             53            93   \n",
       "27                56              54             52            93   \n",
       "28                54              52             50            78   \n",
       "29                58              54             50            87   \n",
       "...              ...             ...            ...           ...   \n",
       "1800              58              55             53            80   \n",
       "1801              57              55             52            86   \n",
       "1802              55              54             52            86   \n",
       "1803              56              54             52            80   \n",
       "1804              56              54             51            80   \n",
       "1805              54              52             49            86   \n",
       "1806              55              53             51            80   \n",
       "1807              56              53             50            86   \n",
       "1808              58              54             52            86   \n",
       "1809              58              54             52            80   \n",
       "1810              58              56             53            84   \n",
       "1811              59              55             45            90   \n",
       "1812              59              57             55            90   \n",
       "1813              58              56             55            84   \n",
       "1814              59              56             55            84   \n",
       "1815              58              56             53            84   \n",
       "1816              59              56             53            84   \n",
       "1817              58              55             54            84   \n",
       "1818              57              56             55            84   \n",
       "1819              57              55             54            84   \n",
       "1820              58              55             51            84   \n",
       "1821              57              55             53            84   \n",
       "1822              57              56             55            84   \n",
       "1823              56              55             54            84   \n",
       "1824              57              55             53            84   \n",
       "1825              56              54             53            72   \n",
       "1826              56              55             54            84   \n",
       "1827              55              54             53            78   \n",
       "1828              56              54             52            78   \n",
       "1829              57              55             52            84   \n",
       "\n",
       "       Mean Humidity   Min Humidity  ...     Mean VisibilityMiles  \\\n",
       "0                 67             49  ...                     10.0   \n",
       "1                 68             57  ...                     10.0   \n",
       "2                 69             53  ...                     10.0   \n",
       "3                 61             44  ...                     10.0   \n",
       "4                 60             30  ...                     10.0   \n",
       "5                 44             16  ...                     10.0   \n",
       "6                 42             16  ...                     10.0   \n",
       "7                 43             19  ...                     10.0   \n",
       "8                 47             21  ...                     10.0   \n",
       "9                 59             34  ...                     10.0   \n",
       "10                67             43  ...                     10.0   \n",
       "11                70             53  ...                     10.0   \n",
       "12                72             54  ...                     10.0   \n",
       "13                77             63  ...                     10.0   \n",
       "14                67             49  ...                     10.0   \n",
       "15                68             51  ...                     10.0   \n",
       "16                72             53  ...                     10.0   \n",
       "17                68             42  ...                     10.0   \n",
       "18                61             28  ...                     10.0   \n",
       "19                48             23  ...                     10.0   \n",
       "20                52             25  ...                     10.0   \n",
       "21                77             67  ...                      9.0   \n",
       "22                66             46  ...                     10.0   \n",
       "23                52             23  ...                     10.0   \n",
       "24                71             49  ...                     10.0   \n",
       "25                70             53  ...                     10.0   \n",
       "26                73             53  ...                      9.0   \n",
       "27                76             59  ...                     10.0   \n",
       "28                67             55  ...                     10.0   \n",
       "29                80             72  ...                     10.0   \n",
       "...              ...            ...  ...                      ...   \n",
       "1800              61             42  ...                     10.0   \n",
       "1801              65             43  ...                     10.0   \n",
       "1802              70             53  ...                      9.0   \n",
       "1803              63             46  ...                     10.0   \n",
       "1804              67             53  ...                     10.0   \n",
       "1805              64             41  ...                     10.0   \n",
       "1806              60             39  ...                     10.0   \n",
       "1807              59             31  ...                     10.0   \n",
       "1808              60             34  ...                     10.0   \n",
       "1809              63             45  ...                     10.0   \n",
       "1810              65             45  ...                      9.0   \n",
       "1811              58             25  ...                     10.0   \n",
       "1812              64             37  ...                     10.0   \n",
       "1813              67             50  ...                      9.0   \n",
       "1814              62             40  ...                      9.0   \n",
       "1815              63             42  ...                     10.0   \n",
       "1816              64             43  ...                     10.0   \n",
       "1817              67             49  ...                      9.0   \n",
       "1818              69             54  ...                     10.0   \n",
       "1819              66             47  ...                     10.0   \n",
       "1820              65             46  ...                      9.0   \n",
       "1821              63             42  ...                      9.0   \n",
       "1822              66             47  ...                      9.0   \n",
       "1823              67             50  ...                      8.0   \n",
       "1824              65             45  ...                     10.0   \n",
       "1825              59             46  ...                     10.0   \n",
       "1826              65             45  ...                     10.0   \n",
       "1827              64             49  ...                     10.0   \n",
       "1828              60             42  ...                     10.0   \n",
       "1829              64             43  ...                     10.0   \n",
       "\n",
       "       Min VisibilityMiles   Max Wind SpeedMPH   Mean Wind SpeedMPH  \\\n",
       "0                      6.0                  22                    9   \n",
       "1                     10.0                  23                   12   \n",
       "2                     10.0                  18                   12   \n",
       "3                      7.0                  20                   10   \n",
       "4                     10.0                  21                    7   \n",
       "5                     10.0                  14                    5   \n",
       "6                      9.0                  13                    5   \n",
       "7                     10.0                  14                    6   \n",
       "8                     10.0                  16                    5   \n",
       "9                     10.0                  16                    6   \n",
       "10                    10.0                  16                    8   \n",
       "11                    10.0                  23                    9   \n",
       "12                    10.0                  18                    8   \n",
       "13                    10.0                  24                   14   \n",
       "14                    10.0                  28                   16   \n",
       "15                    10.0                  22                   12   \n",
       "16                    10.0                  21                    8   \n",
       "17                     9.0                  18                    6   \n",
       "18                    10.0                  14                    4   \n",
       "19                    10.0                  14                    5   \n",
       "20                    10.0                  20                    7   \n",
       "21                     6.0                  16                   11   \n",
       "22                     7.0                  15                    6   \n",
       "23                    10.0                  14                    5   \n",
       "24                    10.0                  18                    7   \n",
       "25                    10.0                  15                    7   \n",
       "26                     7.0                  17                    6   \n",
       "27                     7.0                  17                    7   \n",
       "28                    10.0                  15                    9   \n",
       "29                    10.0                  12                    3   \n",
       "...                    ...                 ...                  ...   \n",
       "1800                   8.0                  15                    6   \n",
       "1801                   9.0                  17                    7   \n",
       "1802                   7.0                  15                    7   \n",
       "1803                  10.0                  18                    9   \n",
       "1804                   9.0                  17                    7   \n",
       "1805                   9.0                  15                    7   \n",
       "1806                  10.0                  17                    6   \n",
       "1807                  10.0                  18                    8   \n",
       "1808                  10.0                  21                   10   \n",
       "1809                   7.0                  16                    8   \n",
       "1810                   7.0                  15                    6   \n",
       "1811                   9.0                  15                    6   \n",
       "1812                  10.0                  16                    8   \n",
       "1813                   6.0                  15                    6   \n",
       "1814                   6.0                  15                    6   \n",
       "1815                   6.0                  15                    7   \n",
       "1816                   7.0                  15                    6   \n",
       "1817                   6.0                  14                    7   \n",
       "1818                   7.0                  15                    7   \n",
       "1819                   9.0                  18                    7   \n",
       "1820                   6.0                  18                    7   \n",
       "1821                   5.0                  16                    6   \n",
       "1822                   6.0                  15                    6   \n",
       "1823                   5.0                  15                    6   \n",
       "1824                   6.0                  16                    9   \n",
       "1825                  10.0                  17                    7   \n",
       "1826                  10.0                  17                    7   \n",
       "1827                   8.0                  21                   10   \n",
       "1828                  10.0                  18                    6   \n",
       "1829                  10.0                  20                    9   \n",
       "\n",
       "       Max Gust SpeedMPH  PrecipitationIn   CloudCover   Events  \\\n",
       "0              26.000000             0.00            2        0   \n",
       "1              26.000000             0.00            5        0   \n",
       "2              25.000000             0.00            2        0   \n",
       "3              24.000000             0.00            2        0   \n",
       "4              24.000000             0.00            2        0   \n",
       "5              17.000000             0.00            3        0   \n",
       "6              15.000000             0.00            1        0   \n",
       "7              17.000000             0.00            0        0   \n",
       "8              18.000000             0.00            0        0   \n",
       "9              18.000000             0.00            2        0   \n",
       "10             20.000000             0.00            4        0   \n",
       "11             31.000000             0.00            7        0   \n",
       "12             22.000000             0.01            6       -1   \n",
       "13             31.000000             0.01            7        0   \n",
       "14             32.000000             0.00            4        0   \n",
       "15             26.000000             0.01            6       -1   \n",
       "16             23.000000             0.00            4        0   \n",
       "17             21.000000             0.00            0        0   \n",
       "18             16.000000             0.00            0        0   \n",
       "19             16.000000             0.00            1        0   \n",
       "20             21.000000             0.00            0        0   \n",
       "21             20.000000             0.00            4        0   \n",
       "22             17.000000             0.00            2        0   \n",
       "23             21.000000             0.00            6        0   \n",
       "24             21.000000             0.00            3        0   \n",
       "25             17.000000             0.00            3        0   \n",
       "26             20.000000             0.00            6       -1   \n",
       "27             21.000000             0.00            5        0   \n",
       "28             17.000000             0.00            7        0   \n",
       "29             14.000000             0.01            7       -1   \n",
       "...                  ...              ...          ...      ...   \n",
       "1800           17.000000             0.00            0        0   \n",
       "1801           21.000000             0.00            0        0   \n",
       "1802           22.040185             0.00            4        0   \n",
       "1803           23.000000             0.00            4        0   \n",
       "1804           20.000000             0.00            4        0   \n",
       "1805           20.000000             0.00            2        0   \n",
       "1806           22.000000             0.00            1        0   \n",
       "1807           24.000000             0.00            2        0   \n",
       "1808           28.000000             0.01            1        0   \n",
       "1809           20.000000             0.00            1        0   \n",
       "1810           22.000000             0.00            2        0   \n",
       "1811           18.000000             0.00            2        0   \n",
       "1812           19.000000             0.00            4        0   \n",
       "1813           18.000000             0.00            4        0   \n",
       "1814           18.000000             0.00            4        0   \n",
       "1815           18.000000             0.00            2        0   \n",
       "1816           18.000000             0.00            2        0   \n",
       "1817           17.000000             0.00            1        0   \n",
       "1818           19.000000             0.00            2        0   \n",
       "1819           22.000000             0.00            5        0   \n",
       "1820           22.000000             0.00            3        0   \n",
       "1821           19.000000             0.00            4        0   \n",
       "1822           19.000000             0.00            3        0   \n",
       "1823           18.000000             0.00            4        0   \n",
       "1824           19.000000             0.00            4        0   \n",
       "1825           20.000000             0.00            4        0   \n",
       "1826           21.000000             0.00            4        0   \n",
       "1827           26.000000             0.00            6        0   \n",
       "1828           23.000000             0.00            2        0   \n",
       "1829           24.000000             0.00            1        0   \n",
       "\n",
       "       WindDirDegrees    ZIP  \n",
       "0                 245  94107  \n",
       "1                 249  94107  \n",
       "2                 250  94107  \n",
       "3                 233  94107  \n",
       "4                 289  94107  \n",
       "5                 280  94107  \n",
       "6                 307  94107  \n",
       "7                 315  94107  \n",
       "8                 302  94107  \n",
       "9                 298  94107  \n",
       "10                297  94107  \n",
       "11                275  94107  \n",
       "12                312  94107  \n",
       "13                229  94107  \n",
       "14                260  94107  \n",
       "15                217  94107  \n",
       "16                300  94107  \n",
       "17                288  94107  \n",
       "18                292  94107  \n",
       "19                304  94107  \n",
       "20                299  94107  \n",
       "21                264  94107  \n",
       "22                267  94107  \n",
       "23                298  94107  \n",
       "24                277  94107  \n",
       "25                291  94107  \n",
       "26                300  94107  \n",
       "27                307  94107  \n",
       "28                277  94107  \n",
       "29                250  94107  \n",
       "...               ...    ...  \n",
       "1800              305  95113  \n",
       "1801              280  95113  \n",
       "1802              313  95113  \n",
       "1803              300  95113  \n",
       "1804              329  95113  \n",
       "1805              275  95113  \n",
       "1806              321  95113  \n",
       "1807               96  95113  \n",
       "1808              189  95113  \n",
       "1809              276  95113  \n",
       "1810              297  95113  \n",
       "1811              294  95113  \n",
       "1812              298  95113  \n",
       "1813              299  95113  \n",
       "1814              306  95113  \n",
       "1815              300  95113  \n",
       "1816              297  95113  \n",
       "1817              258  95113  \n",
       "1818              306  95113  \n",
       "1819              306  95113  \n",
       "1820              310  95113  \n",
       "1821              311  95113  \n",
       "1822              325  95113  \n",
       "1823              312  95113  \n",
       "1824              116  95113  \n",
       "1825              231  95113  \n",
       "1826              307  95113  \n",
       "1827              319  95113  \n",
       "1828              315  95113  \n",
       "1829              316  95113  \n",
       "\n",
       "[1830 rows x 24 columns]"
      ]
     },
     "execution_count": 134,
     "metadata": {},
     "output_type": "execute_result"
    }
   ],
   "source": [
    "weather.fillna(weather.mean(), inplace=True)"
   ]
  },
  {
   "cell_type": "markdown",
   "metadata": {},
   "source": [
    "### Sum up share count with same day and same zip_code."
   ]
  },
  {
   "cell_type": "code",
   "execution_count": 135,
   "metadata": {
    "collapsed": true
   },
   "outputs": [],
   "source": [
    "count_per_day = trip.groupby(['Date', 'Zip Code']).size()"
   ]
  },
  {
   "cell_type": "code",
   "execution_count": 136,
   "metadata": {
    "collapsed": false
   },
   "outputs": [
    {
     "data": {
      "text/plain": [
       "Date        Zip Code\n",
       "2015-09-01  10010        1\n",
       "            10070        2\n",
       "            1210         2\n",
       "            19127        2\n",
       "            19134        2\n",
       "            21113        3\n",
       "            2132         1\n",
       "            28803        2\n",
       "            33408        1\n",
       "            38133        2\n",
       "            43214        2\n",
       "            45403        3\n",
       "            49424        1\n",
       "            53092        1\n",
       "            60061        1\n",
       "            60622        1\n",
       "            6907         2\n",
       "            77019        3\n",
       "            78233        1\n",
       "            80206        3\n",
       "            80424        2\n",
       "            80435        2\n",
       "            84105        1\n",
       "            89113        1\n",
       "            89166        1\n",
       "            89451        2\n",
       "            90007        2\n",
       "            9069         2\n",
       "            91710        3\n",
       "            92130        1\n",
       "                        ..\n",
       "2016-08-31  95111        2\n",
       "            95112       17\n",
       "            95113        6\n",
       "            95116        1\n",
       "            95118        2\n",
       "            95120        1\n",
       "            95121        2\n",
       "            95122        3\n",
       "            95124        2\n",
       "            95125        3\n",
       "            95126       15\n",
       "            95128        5\n",
       "            95129        4\n",
       "            95130        3\n",
       "            95134        5\n",
       "            95135        2\n",
       "            95136        2\n",
       "            95138        1\n",
       "            95148        3\n",
       "            95330        1\n",
       "            95377        3\n",
       "            95401        2\n",
       "            95406        1\n",
       "            95616        4\n",
       "            95620        1\n",
       "            95765        1\n",
       "            96067        8\n",
       "            96746        1\n",
       "            972          1\n",
       "            nil         10\n",
       "Name: count, dtype: int64"
      ]
     },
     "execution_count": 136,
     "metadata": {},
     "output_type": "execute_result"
    }
   ],
   "source": [
    "count_per_day.rename('count', inplace=True)"
   ]
  },
  {
   "cell_type": "code",
   "execution_count": 137,
   "metadata": {
    "collapsed": false
   },
   "outputs": [],
   "source": [
    "count_per_day = count_per_day.to_frame().reset_index()"
   ]
  },
  {
   "cell_type": "code",
   "execution_count": 138,
   "metadata": {
    "collapsed": false
   },
   "outputs": [
    {
     "data": {
      "text/html": [
       "<div>\n",
       "<table border=\"1\" class=\"dataframe\">\n",
       "  <thead>\n",
       "    <tr style=\"text-align: right;\">\n",
       "      <th></th>\n",
       "      <th>Date</th>\n",
       "      <th>Zip Code</th>\n",
       "      <th>count</th>\n",
       "    </tr>\n",
       "  </thead>\n",
       "  <tbody>\n",
       "    <tr>\n",
       "      <th>0</th>\n",
       "      <td>2015-09-01</td>\n",
       "      <td>10010</td>\n",
       "      <td>1</td>\n",
       "    </tr>\n",
       "    <tr>\n",
       "      <th>1</th>\n",
       "      <td>2015-09-01</td>\n",
       "      <td>10070</td>\n",
       "      <td>2</td>\n",
       "    </tr>\n",
       "    <tr>\n",
       "      <th>2</th>\n",
       "      <td>2015-09-01</td>\n",
       "      <td>1210</td>\n",
       "      <td>2</td>\n",
       "    </tr>\n",
       "    <tr>\n",
       "      <th>3</th>\n",
       "      <td>2015-09-01</td>\n",
       "      <td>19127</td>\n",
       "      <td>2</td>\n",
       "    </tr>\n",
       "    <tr>\n",
       "      <th>4</th>\n",
       "      <td>2015-09-01</td>\n",
       "      <td>19134</td>\n",
       "      <td>2</td>\n",
       "    </tr>\n",
       "    <tr>\n",
       "      <th>5</th>\n",
       "      <td>2015-09-01</td>\n",
       "      <td>21113</td>\n",
       "      <td>3</td>\n",
       "    </tr>\n",
       "    <tr>\n",
       "      <th>6</th>\n",
       "      <td>2015-09-01</td>\n",
       "      <td>2132</td>\n",
       "      <td>1</td>\n",
       "    </tr>\n",
       "    <tr>\n",
       "      <th>7</th>\n",
       "      <td>2015-09-01</td>\n",
       "      <td>28803</td>\n",
       "      <td>2</td>\n",
       "    </tr>\n",
       "    <tr>\n",
       "      <th>8</th>\n",
       "      <td>2015-09-01</td>\n",
       "      <td>33408</td>\n",
       "      <td>1</td>\n",
       "    </tr>\n",
       "    <tr>\n",
       "      <th>9</th>\n",
       "      <td>2015-09-01</td>\n",
       "      <td>38133</td>\n",
       "      <td>2</td>\n",
       "    </tr>\n",
       "    <tr>\n",
       "      <th>10</th>\n",
       "      <td>2015-09-01</td>\n",
       "      <td>43214</td>\n",
       "      <td>2</td>\n",
       "    </tr>\n",
       "    <tr>\n",
       "      <th>11</th>\n",
       "      <td>2015-09-01</td>\n",
       "      <td>45403</td>\n",
       "      <td>3</td>\n",
       "    </tr>\n",
       "    <tr>\n",
       "      <th>12</th>\n",
       "      <td>2015-09-01</td>\n",
       "      <td>49424</td>\n",
       "      <td>1</td>\n",
       "    </tr>\n",
       "    <tr>\n",
       "      <th>13</th>\n",
       "      <td>2015-09-01</td>\n",
       "      <td>53092</td>\n",
       "      <td>1</td>\n",
       "    </tr>\n",
       "    <tr>\n",
       "      <th>14</th>\n",
       "      <td>2015-09-01</td>\n",
       "      <td>60061</td>\n",
       "      <td>1</td>\n",
       "    </tr>\n",
       "    <tr>\n",
       "      <th>15</th>\n",
       "      <td>2015-09-01</td>\n",
       "      <td>60622</td>\n",
       "      <td>1</td>\n",
       "    </tr>\n",
       "    <tr>\n",
       "      <th>16</th>\n",
       "      <td>2015-09-01</td>\n",
       "      <td>6907</td>\n",
       "      <td>2</td>\n",
       "    </tr>\n",
       "    <tr>\n",
       "      <th>17</th>\n",
       "      <td>2015-09-01</td>\n",
       "      <td>77019</td>\n",
       "      <td>3</td>\n",
       "    </tr>\n",
       "    <tr>\n",
       "      <th>18</th>\n",
       "      <td>2015-09-01</td>\n",
       "      <td>78233</td>\n",
       "      <td>1</td>\n",
       "    </tr>\n",
       "    <tr>\n",
       "      <th>19</th>\n",
       "      <td>2015-09-01</td>\n",
       "      <td>80206</td>\n",
       "      <td>3</td>\n",
       "    </tr>\n",
       "    <tr>\n",
       "      <th>20</th>\n",
       "      <td>2015-09-01</td>\n",
       "      <td>80424</td>\n",
       "      <td>2</td>\n",
       "    </tr>\n",
       "    <tr>\n",
       "      <th>21</th>\n",
       "      <td>2015-09-01</td>\n",
       "      <td>80435</td>\n",
       "      <td>2</td>\n",
       "    </tr>\n",
       "    <tr>\n",
       "      <th>22</th>\n",
       "      <td>2015-09-01</td>\n",
       "      <td>84105</td>\n",
       "      <td>1</td>\n",
       "    </tr>\n",
       "    <tr>\n",
       "      <th>23</th>\n",
       "      <td>2015-09-01</td>\n",
       "      <td>89113</td>\n",
       "      <td>1</td>\n",
       "    </tr>\n",
       "    <tr>\n",
       "      <th>24</th>\n",
       "      <td>2015-09-01</td>\n",
       "      <td>89166</td>\n",
       "      <td>1</td>\n",
       "    </tr>\n",
       "    <tr>\n",
       "      <th>25</th>\n",
       "      <td>2015-09-01</td>\n",
       "      <td>89451</td>\n",
       "      <td>2</td>\n",
       "    </tr>\n",
       "    <tr>\n",
       "      <th>26</th>\n",
       "      <td>2015-09-01</td>\n",
       "      <td>90007</td>\n",
       "      <td>2</td>\n",
       "    </tr>\n",
       "    <tr>\n",
       "      <th>27</th>\n",
       "      <td>2015-09-01</td>\n",
       "      <td>9069</td>\n",
       "      <td>2</td>\n",
       "    </tr>\n",
       "    <tr>\n",
       "      <th>28</th>\n",
       "      <td>2015-09-01</td>\n",
       "      <td>91710</td>\n",
       "      <td>3</td>\n",
       "    </tr>\n",
       "    <tr>\n",
       "      <th>29</th>\n",
       "      <td>2015-09-01</td>\n",
       "      <td>92130</td>\n",
       "      <td>1</td>\n",
       "    </tr>\n",
       "    <tr>\n",
       "      <th>...</th>\n",
       "      <td>...</td>\n",
       "      <td>...</td>\n",
       "      <td>...</td>\n",
       "    </tr>\n",
       "    <tr>\n",
       "      <th>51093</th>\n",
       "      <td>2016-08-31</td>\n",
       "      <td>95111</td>\n",
       "      <td>2</td>\n",
       "    </tr>\n",
       "    <tr>\n",
       "      <th>51094</th>\n",
       "      <td>2016-08-31</td>\n",
       "      <td>95112</td>\n",
       "      <td>17</td>\n",
       "    </tr>\n",
       "    <tr>\n",
       "      <th>51095</th>\n",
       "      <td>2016-08-31</td>\n",
       "      <td>95113</td>\n",
       "      <td>6</td>\n",
       "    </tr>\n",
       "    <tr>\n",
       "      <th>51096</th>\n",
       "      <td>2016-08-31</td>\n",
       "      <td>95116</td>\n",
       "      <td>1</td>\n",
       "    </tr>\n",
       "    <tr>\n",
       "      <th>51097</th>\n",
       "      <td>2016-08-31</td>\n",
       "      <td>95118</td>\n",
       "      <td>2</td>\n",
       "    </tr>\n",
       "    <tr>\n",
       "      <th>51098</th>\n",
       "      <td>2016-08-31</td>\n",
       "      <td>95120</td>\n",
       "      <td>1</td>\n",
       "    </tr>\n",
       "    <tr>\n",
       "      <th>51099</th>\n",
       "      <td>2016-08-31</td>\n",
       "      <td>95121</td>\n",
       "      <td>2</td>\n",
       "    </tr>\n",
       "    <tr>\n",
       "      <th>51100</th>\n",
       "      <td>2016-08-31</td>\n",
       "      <td>95122</td>\n",
       "      <td>3</td>\n",
       "    </tr>\n",
       "    <tr>\n",
       "      <th>51101</th>\n",
       "      <td>2016-08-31</td>\n",
       "      <td>95124</td>\n",
       "      <td>2</td>\n",
       "    </tr>\n",
       "    <tr>\n",
       "      <th>51102</th>\n",
       "      <td>2016-08-31</td>\n",
       "      <td>95125</td>\n",
       "      <td>3</td>\n",
       "    </tr>\n",
       "    <tr>\n",
       "      <th>51103</th>\n",
       "      <td>2016-08-31</td>\n",
       "      <td>95126</td>\n",
       "      <td>15</td>\n",
       "    </tr>\n",
       "    <tr>\n",
       "      <th>51104</th>\n",
       "      <td>2016-08-31</td>\n",
       "      <td>95128</td>\n",
       "      <td>5</td>\n",
       "    </tr>\n",
       "    <tr>\n",
       "      <th>51105</th>\n",
       "      <td>2016-08-31</td>\n",
       "      <td>95129</td>\n",
       "      <td>4</td>\n",
       "    </tr>\n",
       "    <tr>\n",
       "      <th>51106</th>\n",
       "      <td>2016-08-31</td>\n",
       "      <td>95130</td>\n",
       "      <td>3</td>\n",
       "    </tr>\n",
       "    <tr>\n",
       "      <th>51107</th>\n",
       "      <td>2016-08-31</td>\n",
       "      <td>95134</td>\n",
       "      <td>5</td>\n",
       "    </tr>\n",
       "    <tr>\n",
       "      <th>51108</th>\n",
       "      <td>2016-08-31</td>\n",
       "      <td>95135</td>\n",
       "      <td>2</td>\n",
       "    </tr>\n",
       "    <tr>\n",
       "      <th>51109</th>\n",
       "      <td>2016-08-31</td>\n",
       "      <td>95136</td>\n",
       "      <td>2</td>\n",
       "    </tr>\n",
       "    <tr>\n",
       "      <th>51110</th>\n",
       "      <td>2016-08-31</td>\n",
       "      <td>95138</td>\n",
       "      <td>1</td>\n",
       "    </tr>\n",
       "    <tr>\n",
       "      <th>51111</th>\n",
       "      <td>2016-08-31</td>\n",
       "      <td>95148</td>\n",
       "      <td>3</td>\n",
       "    </tr>\n",
       "    <tr>\n",
       "      <th>51112</th>\n",
       "      <td>2016-08-31</td>\n",
       "      <td>95330</td>\n",
       "      <td>1</td>\n",
       "    </tr>\n",
       "    <tr>\n",
       "      <th>51113</th>\n",
       "      <td>2016-08-31</td>\n",
       "      <td>95377</td>\n",
       "      <td>3</td>\n",
       "    </tr>\n",
       "    <tr>\n",
       "      <th>51114</th>\n",
       "      <td>2016-08-31</td>\n",
       "      <td>95401</td>\n",
       "      <td>2</td>\n",
       "    </tr>\n",
       "    <tr>\n",
       "      <th>51115</th>\n",
       "      <td>2016-08-31</td>\n",
       "      <td>95406</td>\n",
       "      <td>1</td>\n",
       "    </tr>\n",
       "    <tr>\n",
       "      <th>51116</th>\n",
       "      <td>2016-08-31</td>\n",
       "      <td>95616</td>\n",
       "      <td>4</td>\n",
       "    </tr>\n",
       "    <tr>\n",
       "      <th>51117</th>\n",
       "      <td>2016-08-31</td>\n",
       "      <td>95620</td>\n",
       "      <td>1</td>\n",
       "    </tr>\n",
       "    <tr>\n",
       "      <th>51118</th>\n",
       "      <td>2016-08-31</td>\n",
       "      <td>95765</td>\n",
       "      <td>1</td>\n",
       "    </tr>\n",
       "    <tr>\n",
       "      <th>51119</th>\n",
       "      <td>2016-08-31</td>\n",
       "      <td>96067</td>\n",
       "      <td>8</td>\n",
       "    </tr>\n",
       "    <tr>\n",
       "      <th>51120</th>\n",
       "      <td>2016-08-31</td>\n",
       "      <td>96746</td>\n",
       "      <td>1</td>\n",
       "    </tr>\n",
       "    <tr>\n",
       "      <th>51121</th>\n",
       "      <td>2016-08-31</td>\n",
       "      <td>972</td>\n",
       "      <td>1</td>\n",
       "    </tr>\n",
       "    <tr>\n",
       "      <th>51122</th>\n",
       "      <td>2016-08-31</td>\n",
       "      <td>nil</td>\n",
       "      <td>10</td>\n",
       "    </tr>\n",
       "  </tbody>\n",
       "</table>\n",
       "<p>51123 rows × 3 columns</p>\n",
       "</div>"
      ],
      "text/plain": [
       "             Date Zip Code  count\n",
       "0      2015-09-01    10010      1\n",
       "1      2015-09-01    10070      2\n",
       "2      2015-09-01     1210      2\n",
       "3      2015-09-01    19127      2\n",
       "4      2015-09-01    19134      2\n",
       "5      2015-09-01    21113      3\n",
       "6      2015-09-01     2132      1\n",
       "7      2015-09-01    28803      2\n",
       "8      2015-09-01    33408      1\n",
       "9      2015-09-01    38133      2\n",
       "10     2015-09-01    43214      2\n",
       "11     2015-09-01    45403      3\n",
       "12     2015-09-01    49424      1\n",
       "13     2015-09-01    53092      1\n",
       "14     2015-09-01    60061      1\n",
       "15     2015-09-01    60622      1\n",
       "16     2015-09-01     6907      2\n",
       "17     2015-09-01    77019      3\n",
       "18     2015-09-01    78233      1\n",
       "19     2015-09-01    80206      3\n",
       "20     2015-09-01    80424      2\n",
       "21     2015-09-01    80435      2\n",
       "22     2015-09-01    84105      1\n",
       "23     2015-09-01    89113      1\n",
       "24     2015-09-01    89166      1\n",
       "25     2015-09-01    89451      2\n",
       "26     2015-09-01    90007      2\n",
       "27     2015-09-01     9069      2\n",
       "28     2015-09-01    91710      3\n",
       "29     2015-09-01    92130      1\n",
       "...           ...      ...    ...\n",
       "51093  2016-08-31    95111      2\n",
       "51094  2016-08-31    95112     17\n",
       "51095  2016-08-31    95113      6\n",
       "51096  2016-08-31    95116      1\n",
       "51097  2016-08-31    95118      2\n",
       "51098  2016-08-31    95120      1\n",
       "51099  2016-08-31    95121      2\n",
       "51100  2016-08-31    95122      3\n",
       "51101  2016-08-31    95124      2\n",
       "51102  2016-08-31    95125      3\n",
       "51103  2016-08-31    95126     15\n",
       "51104  2016-08-31    95128      5\n",
       "51105  2016-08-31    95129      4\n",
       "51106  2016-08-31    95130      3\n",
       "51107  2016-08-31    95134      5\n",
       "51108  2016-08-31    95135      2\n",
       "51109  2016-08-31    95136      2\n",
       "51110  2016-08-31    95138      1\n",
       "51111  2016-08-31    95148      3\n",
       "51112  2016-08-31    95330      1\n",
       "51113  2016-08-31    95377      3\n",
       "51114  2016-08-31    95401      2\n",
       "51115  2016-08-31    95406      1\n",
       "51116  2016-08-31    95616      4\n",
       "51117  2016-08-31    95620      1\n",
       "51118  2016-08-31    95765      1\n",
       "51119  2016-08-31    96067      8\n",
       "51120  2016-08-31    96746      1\n",
       "51121  2016-08-31      972      1\n",
       "51122  2016-08-31      nil     10\n",
       "\n",
       "[51123 rows x 3 columns]"
      ]
     },
     "execution_count": 138,
     "metadata": {},
     "output_type": "execute_result"
    }
   ],
   "source": [
    "count_per_day"
   ]
  },
  {
   "cell_type": "code",
   "execution_count": 139,
   "metadata": {
    "collapsed": false
   },
   "outputs": [],
   "source": [
    "weather.rename(columns={'PDT': 'Date', 'ZIP': 'Zip Code'}, inplace=True)"
   ]
  },
  {
   "cell_type": "code",
   "execution_count": null,
   "metadata": {
    "collapsed": false
   },
   "outputs": [],
   "source": []
  },
  {
   "cell_type": "code",
   "execution_count": 140,
   "metadata": {
    "collapsed": false
   },
   "outputs": [],
   "source": [
    "whole_dataset = weather.merge(count_per_day, on=['Date', 'Zip Code'])"
   ]
  },
  {
   "cell_type": "code",
   "execution_count": 141,
   "metadata": {
    "collapsed": false
   },
   "outputs": [],
   "source": [
    "whole_dataset['isWeekend'] = whole_dataset['Date'].apply(lambda x: False if x.weekday() < 5 else True)"
   ]
  },
  {
   "cell_type": "markdown",
   "metadata": {},
   "source": [
    "### The prediction will work with weekday data"
   ]
  },
  {
   "cell_type": "code",
   "execution_count": 142,
   "metadata": {
    "collapsed": true
   },
   "outputs": [],
   "source": [
    "weekday_df = whole_dataset[whole_dataset['isWeekend'] == False]"
   ]
  },
  {
   "cell_type": "code",
   "execution_count": 143,
   "metadata": {
    "collapsed": false
   },
   "outputs": [],
   "source": [
    "bad_weather, good_weather = sliceGoodAndBadWeatherDay(weekday_df)"
   ]
  },
  {
   "cell_type": "code",
   "execution_count": 144,
   "metadata": {
    "collapsed": false,
    "scrolled": true
   },
   "outputs": [
    {
     "name": "stderr",
     "output_type": "stream",
     "text": [
      "C:\\Users\\Tjpat\\AppData\\Local\\Enthought\\Canopy\\User\\lib\\site-packages\\ipykernel\\__main__.py:1: SettingWithCopyWarning:\n",
      "\n",
      "\n",
      "A value is trying to be set on a copy of a slice from a DataFrame\n",
      "\n",
      "See the caveats in the documentation: http://pandas.pydata.org/pandas-docs/stable/indexing.html#indexing-view-versus-copy\n",
      "\n",
      "C:\\Users\\Tjpat\\AppData\\Local\\Enthought\\Canopy\\User\\lib\\site-packages\\ipykernel\\__main__.py:2: SettingWithCopyWarning:\n",
      "\n",
      "\n",
      "A value is trying to be set on a copy of a slice from a DataFrame\n",
      "\n",
      "See the caveats in the documentation: http://pandas.pydata.org/pandas-docs/stable/indexing.html#indexing-view-versus-copy\n",
      "\n"
     ]
    }
   ],
   "source": [
    "bad_weather.drop(['Date','Zip Code','isWeekend',' Events'], axis=1, inplace=True)\n",
    "good_weather.drop(['Date','Zip Code','isWeekend',' Events'], axis=1, inplace=True)"
   ]
  },
  {
   "cell_type": "code",
   "execution_count": null,
   "metadata": {
    "collapsed": false
   },
   "outputs": [],
   "source": []
  },
  {
   "cell_type": "code",
   "execution_count": 145,
   "metadata": {
    "collapsed": true
   },
   "outputs": [],
   "source": [
    "def sliceXandY(df):\n",
    "    x = df.ix[:, :' WindDirDegrees']\n",
    "    y = df.ix[:, 'count']\n",
    "    return x, y"
   ]
  },
  {
   "cell_type": "code",
   "execution_count": 146,
   "metadata": {
    "collapsed": false
   },
   "outputs": [],
   "source": [
    "def sampleDataset(df, in_frac=0.12, in_random_state=22):\n",
    "    return df.sample(frac=in_frac, random_state=in_random_state)"
   ]
  },
  {
   "cell_type": "code",
   "execution_count": null,
   "metadata": {
    "collapsed": false
   },
   "outputs": [],
   "source": []
  },
  {
   "cell_type": "markdown",
   "metadata": {},
   "source": [
    "### Sample good weather due to imbalanced"
   ]
  },
  {
   "cell_type": "code",
   "execution_count": 147,
   "metadata": {
    "collapsed": true
   },
   "outputs": [],
   "source": [
    "good_weather_sample = sampleDataset(good_weather, in_frac=0.12, in_random_state=randint(0,32767))"
   ]
  },
  {
   "cell_type": "code",
   "execution_count": 148,
   "metadata": {
    "collapsed": false
   },
   "outputs": [],
   "source": [
    "learning_dataset = pd.concat([good_weather_sample, bad_weather])"
   ]
  },
  {
   "cell_type": "code",
   "execution_count": 149,
   "metadata": {
    "collapsed": false
   },
   "outputs": [],
   "source": [
    "x, y = sliceXandY(learning_dataset)"
   ]
  },
  {
   "cell_type": "markdown",
   "metadata": {},
   "source": [
    "## Standardize learning_dataset, then use the dataset to generate training & testing data.¶"
   ]
  },
  {
   "cell_type": "code",
   "execution_count": 150,
   "metadata": {
    "collapsed": false
   },
   "outputs": [],
   "source": [
    "Xs_train, Xs_test, y_train, y_test = train_test_split(scale(x), y, test_size=0.7)#, random_state=randint(0,32767))"
   ]
  },
  {
   "cell_type": "markdown",
   "metadata": {},
   "source": [
    "## Feature select and predict the share count with Lasso and Linear Regression."
   ]
  },
  {
   "cell_type": "markdown",
   "metadata": {},
   "source": [
    "### Lasso Regression."
   ]
  },
  {
   "cell_type": "code",
   "execution_count": 151,
   "metadata": {
    "collapsed": true
   },
   "outputs": [],
   "source": [
    "lasso_model = linear_model.Lasso()"
   ]
  },
  {
   "cell_type": "code",
   "execution_count": 152,
   "metadata": {
    "collapsed": false
   },
   "outputs": [
    {
     "data": {
      "text/plain": [
       "Lasso(alpha=1.0, copy_X=True, fit_intercept=True, max_iter=1000,\n",
       "   normalize=False, positive=False, precompute=False, random_state=None,\n",
       "   selection='cyclic', tol=0.0001, warm_start=False)"
      ]
     },
     "execution_count": 152,
     "metadata": {},
     "output_type": "execute_result"
    }
   ],
   "source": [
    "lasso_model.fit(Xs_train, y_train)"
   ]
  },
  {
   "cell_type": "code",
   "execution_count": 153,
   "metadata": {
    "collapsed": false
   },
   "outputs": [
    {
     "data": {
      "text/plain": [
       "array([  2.47275659,   0.        ,  -5.97521469,  -0.        ,\n",
       "         4.43169044,   0.        ,   0.        ,   0.        ,\n",
       "         6.65622714,  -0.        ,   0.        ,   8.05008389,\n",
       "        -1.85118912,   5.46114149,   1.79016215,  16.30365817,\n",
       "         8.14218048,  -8.47681259,  -1.33669137,  -0.        ,   0.60921854])"
      ]
     },
     "execution_count": 153,
     "metadata": {},
     "output_type": "execute_result"
    }
   ],
   "source": [
    "lasso_model.coef_"
   ]
  },
  {
   "cell_type": "code",
   "execution_count": 154,
   "metadata": {
    "collapsed": false
   },
   "outputs": [
    {
     "data": {
      "text/plain": [
       "0.24128867934891629"
      ]
     },
     "execution_count": 154,
     "metadata": {},
     "output_type": "execute_result"
    }
   ],
   "source": [
    "lasso_model.score(Xs_train,y_train)"
   ]
  },
  {
   "cell_type": "code",
   "execution_count": 155,
   "metadata": {
    "collapsed": false
   },
   "outputs": [
    {
     "data": {
      "text/plain": [
       "Lasso(alpha=1.0, copy_X=True, fit_intercept=True, max_iter=1000,\n",
       "   normalize=False, positive=False, precompute=False, random_state=None,\n",
       "   selection='cyclic', tol=0.0001, warm_start=False)"
      ]
     },
     "execution_count": 155,
     "metadata": {},
     "output_type": "execute_result"
    }
   ],
   "source": [
    "lasso_model.fit(Xs_test,y_test)"
   ]
  },
  {
   "cell_type": "code",
   "execution_count": 156,
   "metadata": {
    "collapsed": false
   },
   "outputs": [
    {
     "data": {
      "text/plain": [
       "array([  0.        ,   0.        ,  -3.21565254,  -0.        ,\n",
       "        -0.        ,  -0.        ,  -0.        ,  -0.        ,\n",
       "         0.        ,   0.        ,   0.        ,   4.74089333,\n",
       "        -0.47188568,  -0.        ,   1.2429154 ,  10.40552418,\n",
       "         2.97127318,  -7.11250635,  -4.58314266,   4.08842268,  -0.21261045])"
      ]
     },
     "execution_count": 156,
     "metadata": {},
     "output_type": "execute_result"
    }
   ],
   "source": [
    "lasso_model.coef_"
   ]
  },
  {
   "cell_type": "code",
   "execution_count": 157,
   "metadata": {
    "collapsed": false
   },
   "outputs": [
    {
     "data": {
      "text/plain": [
       "0.14060236140529025"
      ]
     },
     "execution_count": 157,
     "metadata": {},
     "output_type": "execute_result"
    }
   ],
   "source": [
    "lasso_model.score(Xs_test,y_test)"
   ]
  },
  {
   "cell_type": "markdown",
   "metadata": {},
   "source": [
    "### The above part expalins the R^2 and also which parameters to be taken into consideration for boosting the share count of by area bike"
   ]
  },
  {
   "cell_type": "markdown",
   "metadata": {},
   "source": [
    "### The coefficient of determination R^2 of the prediction.The coefficient R^2 is defined as (1 - u/v), where u is the regression sum of squares ((y_true - y_pred) ** 2).sum() and v is the residual sum of squares ((y_true - y_true.mean()) ** 2).sum(). A constant model that always predicts the expected value of y, disregarding the input features, would get a R^2 score of 0.0."
   ]
  },
  {
   "cell_type": "markdown",
   "metadata": {},
   "source": [
    "### Linear Regression"
   ]
  },
  {
   "cell_type": "code",
   "execution_count": 160,
   "metadata": {
    "collapsed": true
   },
   "outputs": [],
   "source": [
    "lin_model = linear_model.LinearRegression()"
   ]
  },
  {
   "cell_type": "code",
   "execution_count": 161,
   "metadata": {
    "collapsed": false
   },
   "outputs": [
    {
     "data": {
      "text/plain": [
       "LinearRegression(copy_X=True, fit_intercept=True, n_jobs=1, normalize=False)"
      ]
     },
     "execution_count": 161,
     "metadata": {},
     "output_type": "execute_result"
    }
   ],
   "source": [
    "lin_model.fit(Xs_train, y_train)"
   ]
  },
  {
   "cell_type": "code",
   "execution_count": 162,
   "metadata": {
    "collapsed": false
   },
   "outputs": [
    {
     "data": {
      "text/plain": [
       "array([-25.15614288,  81.13858532, -62.9942362 , -20.41654578,\n",
       "        34.51220185, -14.0060907 ,  -5.35221949,  13.06399832,\n",
       "        10.3831243 , -27.69824894,  32.07687455,   0.78354681,\n",
       "        -8.52311414,  13.41089283,  -4.44526644,  18.52190505,\n",
       "        14.78019157,  -9.18097753,   0.31117172,   1.91853545,   1.18650212])"
      ]
     },
     "execution_count": 162,
     "metadata": {},
     "output_type": "execute_result"
    }
   ],
   "source": [
    "lin_model.coef_"
   ]
  },
  {
   "cell_type": "code",
   "execution_count": 163,
   "metadata": {
    "collapsed": false
   },
   "outputs": [
    {
     "data": {
      "text/plain": [
       "0.32082184605664044"
      ]
     },
     "execution_count": 163,
     "metadata": {},
     "output_type": "execute_result"
    }
   ],
   "source": [
    "lin_model.score(Xs_train,y_train)"
   ]
  },
  {
   "cell_type": "code",
   "execution_count": 164,
   "metadata": {
    "collapsed": false
   },
   "outputs": [
    {
     "data": {
      "text/plain": [
       "LinearRegression(copy_X=True, fit_intercept=True, n_jobs=1, normalize=False)"
      ]
     },
     "execution_count": 164,
     "metadata": {},
     "output_type": "execute_result"
    }
   ],
   "source": [
    "lin_model.fit(Xs_test, y_test)"
   ]
  },
  {
   "cell_type": "code",
   "execution_count": 165,
   "metadata": {
    "collapsed": false
   },
   "outputs": [
    {
     "data": {
      "text/plain": [
       "array([-32.41573735,  70.42240112, -44.42958398,  -6.66531844,\n",
       "         8.66595575,  -5.5971352 ,   1.62008316,  -4.82395816,\n",
       "         6.30034298, -14.88278972,  20.69775834,  -1.99692925,\n",
       "        -1.10637246,  -3.13412646,   3.24507828,  12.91035806,\n",
       "         4.24233282, -10.02138844,  -4.93619062,   8.35136346,  -0.45404449])"
      ]
     },
     "execution_count": 165,
     "metadata": {},
     "output_type": "execute_result"
    }
   ],
   "source": [
    "lin_model.coef_"
   ]
  },
  {
   "cell_type": "code",
   "execution_count": 166,
   "metadata": {
    "collapsed": false
   },
   "outputs": [
    {
     "data": {
      "text/plain": [
       "0.1910097105667351"
      ]
     },
     "execution_count": 166,
     "metadata": {},
     "output_type": "execute_result"
    }
   ],
   "source": [
    "lin_model.score(Xs_test,y_test)"
   ]
  },
  {
   "cell_type": "code",
   "execution_count": 169,
   "metadata": {
    "collapsed": false
   },
   "outputs": [
    {
     "data": {
      "text/plain": [
       "Index([u'Max TemperatureF', u'Mean TemperatureF', u'Min TemperatureF',\n",
       "       u'Max Dew PointF', u'MeanDew PointF', u'Min DewpointF', u'Max Humidity',\n",
       "       u' Mean Humidity', u' Min Humidity', u' Max Sea Level PressureIn',\n",
       "       u' Mean Sea Level PressureIn', u' Min Sea Level PressureIn',\n",
       "       u' Max VisibilityMiles', u' Mean VisibilityMiles',\n",
       "       u' Min VisibilityMiles', u' Max Wind SpeedMPH', u' Mean Wind SpeedMPH',\n",
       "       u' Max Gust SpeedMPH', u'PrecipitationIn', u' CloudCover',\n",
       "       u' WindDirDegrees'],\n",
       "      dtype='object')"
      ]
     },
     "execution_count": 169,
     "metadata": {},
     "output_type": "execute_result"
    }
   ],
   "source": [
    "x.columns"
   ]
  },
  {
   "cell_type": "markdown",
   "metadata": {
    "collapsed": true
   },
   "source": [
    "### The above part expalins the R^2 and also which parameters to be taken into consideration for boosting the share count of by area bike"
   ]
  },
  {
   "cell_type": "markdown",
   "metadata": {},
   "source": [
    "### 1) Regression model suggests that weather such as Mean Temperature, Mean Sea Level Pressure can have the maximum impact on share count \n",
    "### 2) Parameters like Mean Dew point, Min Humidity, Wind Speed, Gust Speed and cloud Cover can also have impact on share count"
   ]
  }
 ],
 "metadata": {
  "kernelspec": {
   "display_name": "Python 2",
   "language": "python",
   "name": "python2"
  },
  "language_info": {
   "codemirror_mode": {
    "name": "ipython",
    "version": 2
   },
   "file_extension": ".py",
   "mimetype": "text/x-python",
   "name": "python",
   "nbconvert_exporter": "python",
   "pygments_lexer": "ipython2",
   "version": "2.7.11"
  }
 },
 "nbformat": 4,
 "nbformat_minor": 0
}
